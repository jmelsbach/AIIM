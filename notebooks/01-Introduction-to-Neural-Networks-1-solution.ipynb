{
 "cells": [
  {
   "cell_type": "code",
   "execution_count": null,
   "metadata": {
    "id": "QPL-4qVuD8vt"
   },
   "outputs": [],
   "source": [
    "%%capture\n",
    "try:\n",
    "    import aiim\n",
    "    print('AIIM Library already installed.')\n",
    "except:\n",
    "    print('Installing and importing AIIM Library.')\n",
    "    %pip install git+https://github.com/jmelsbach/AIIM@main\n",
    "    import aiim"
   ]
  },
  {
   "cell_type": "markdown",
   "metadata": {
    "id": "JQ5eefE5D8vu"
   },
   "source": [
    "# Introduction to Neural Networks"
   ]
  },
  {
   "cell_type": "code",
   "execution_count": null,
   "metadata": {
    "id": "dkTDS42uD8vv"
   },
   "outputs": [],
   "source": [
    "%matplotlib inline"
   ]
  },
  {
   "cell_type": "code",
   "execution_count": null,
   "metadata": {
    "id": "AI5OOTBtD8vv"
   },
   "outputs": [],
   "source": [
    "import ipywidgets as widgets\n",
    "from ipywidgets import fixed\n",
    "import matplotlib.pyplot as plt\n",
    "import numpy as np\n",
    "import torch\n"
   ]
  },
  {
   "cell_type": "markdown",
   "metadata": {
    "id": "8FmlH1cBD8vv"
   },
   "source": [
    "## An Artificial Neuron\n",
    "In the following cell we will implement an Artificial Neuron which is the simplest form of a neural network. As we saw in the the lecture the formula of an Artificial Neuron is as follows:\n",
    "$$\\sum_i^n{w_ix_i + b = z}$$"
   ]
  },
  {
   "cell_type": "code",
   "execution_count": null,
   "metadata": {
    "id": "CjytO-sxD8vv"
   },
   "outputs": [],
   "source": [
    "def linear(x, n_inputs, n_outputs=1):\n",
    "    w = torch.randn(n_inputs, n_outputs) # weights\n",
    "    b = torch.randn(n_outputs) # biases\n",
    "    return x @ w + b\n"
   ]
  },
  {
   "cell_type": "markdown",
   "metadata": {
    "id": "EsHI5qF_D8vw"
   },
   "source": [
    "We can implement the Artificial Neuron without a for loop by using matrix multiplication. We initialize the weights of our Neuron randomly.\n",
    "`torch.randn(n_inputs, n_outputs)` creates a random tensor of shape `n_inputs, n_outputs`. The number of biases matches the number of outputs."
   ]
  },
  {
   "cell_type": "markdown",
   "metadata": {
    "id": "7fzgbUcCD8vw"
   },
   "source": [
    "Let's create an example input `x` and send put it in our Artificial Neuron."
   ]
  },
  {
   "cell_type": "code",
   "execution_count": null,
   "metadata": {
    "id": "6zftqQkPD8vw"
   },
   "outputs": [],
   "source": [
    "x = torch.tensor([1., 0.5, 1.5])"
   ]
  },
  {
   "cell_type": "code",
   "execution_count": null,
   "metadata": {
    "colab": {
     "base_uri": "https://localhost:8080/"
    },
    "id": "3Mi5JqI4D8vw",
    "outputId": "ca022e45-0225-447f-eb01-10d07c64c4f8"
   },
   "outputs": [],
   "source": [
    "linear(x, n_inputs = 3)"
   ]
  },
  {
   "cell_type": "markdown",
   "metadata": {
    "id": "EfYTDCS3D8vw"
   },
   "source": [
    "## Linear Layers\n",
    "You surely noticed that our code allows us to define more than one outputs using the `n_outputs` parameter. We can combine any input and outputsize!\n",
    "> 🖋️  Try it yourself. Send our input `x` through our function. Chose arguments so that we have 3 outputs."
   ]
  },
  {
   "cell_type": "code",
   "execution_count": null,
   "metadata": {
    "colab": {
     "base_uri": "https://localhost:8080/"
    },
    "id": "ovYMOYd_D8vw",
    "outputId": "728b31d6-4425-4b46-ffb7-6f2e5fbfe87c"
   },
   "outputs": [],
   "source": [
    "linear(x, n_inputs=3, n_outputs = 3)"
   ]
  },
  {
   "cell_type": "markdown",
   "metadata": {
    "id": "6B7fPDT_D8vw"
   },
   "source": [
    "You might have wondered why we called our function `linear` and not `neuron`. Actually the function we created describes what is called a *Linear Layer* in *Deep Learning*. A *Neuron* is a special case of a *Linear Layer* where the number of outputs is `1`. A *Linear Layer* definitly deserves to have its own class so let's define it."
   ]
  },
  {
   "cell_type": "code",
   "execution_count": null,
   "metadata": {
    "id": "alfu1pAGD8vx"
   },
   "outputs": [],
   "source": [
    "class Linear:\n",
    "\n",
    "    def __init__(self, in_features, out_features, bias=True):\n",
    "\n",
    "        self.w = torch.randn(in_features, out_features, requires_grad=True)\n",
    "        if bias:\n",
    "            self.b = torch.randn(out_features, requires_grad=True)\n",
    "        else:\n",
    "            self.b = 0\n",
    "\n",
    "    def __call__(self, x):\n",
    "        return self.forward(x)\n",
    "\n",
    "\n",
    "    def forward(self, x):\n",
    "        return x @ self.w + self.b"
   ]
  },
  {
   "cell_type": "markdown",
   "metadata": {
    "id": "PHHkcat0D8vx"
   },
   "source": [
    "Let's break down the code we just wrote:\n",
    "`__init__` is the constructor of our class and allows us to set some parameters when we initially create our class.\n",
    "\n",
    "Our `forward` function does the actual calculations of our *Linear Layer* which is the same as in our `linear` function we previously wrote.\n",
    "\n",
    "The `__call__` function seems a little weird and unnecessary as it simply calls the `forward` function. Just as the `__init__` function it starts and ends with `__`. Those function are called *dunder functions* which stands for double underscore functions. There are several of those *dunder functions* in Python. The `__call__` function allows us to use our class object like a function which is very convinient.  "
   ]
  },
  {
   "cell_type": "markdown",
   "metadata": {
    "id": "jSlSZQB1D8vx"
   },
   "source": [
    "> 🖋️  Create a Linear Layer called `l1` with 3 inputs and 3 outputs and send `x` through it."
   ]
  },
  {
   "cell_type": "code",
   "execution_count": null,
   "metadata": {
    "id": "qiXt10LkD8vx"
   },
   "outputs": [],
   "source": [
    "l1 = Linear(3,3)"
   ]
  },
  {
   "cell_type": "markdown",
   "metadata": {
    "id": "a9OpVzTLD8vx"
   },
   "source": [
    "We can now use our object just like a function thanks to `__call__`!"
   ]
  },
  {
   "cell_type": "code",
   "execution_count": null,
   "metadata": {
    "colab": {
     "base_uri": "https://localhost:8080/"
    },
    "id": "lt25juLZD8vx",
    "outputId": "1156832c-1fbf-41b7-f6ee-a8e676dad675"
   },
   "outputs": [],
   "source": [
    "l1(x)"
   ]
  },
  {
   "cell_type": "markdown",
   "metadata": {
    "id": "_y-SRh0kD8vx"
   },
   "source": [
    "## Stacking Linear Layers\n",
    "We have created a reusable class for a *Linear Layer* the next logical step is to stack this layers together.\n",
    "> 🖋️  You can reuse the `l1` object from above. Create another layer called `l2` that has a single output and send `x` through both of them sequentially. How do we have to choose `n_inputs` of `l2`? Can we choose any value for it? Why?"
   ]
  },
  {
   "cell_type": "code",
   "execution_count": null,
   "metadata": {
    "colab": {
     "base_uri": "https://localhost:8080/"
    },
    "id": "mWlMy3g1D8vx",
    "outputId": "4b5d0dcf-c0e0-49aa-d138-314c94c9dbdf"
   },
   "outputs": [],
   "source": [
    "# create l2\n",
    "l2 = Linear(3,1)\n",
    "# send x through l1 and then l2\n",
    "out = l1(x)\n",
    "out = l2(out)\n",
    "out"
   ]
  },
  {
   "cell_type": "markdown",
   "metadata": {
    "id": "CaOFAf3vD8vx"
   },
   "source": [
    "### Exercise 1\n",
    "\n",
    "* Create a class called `NeuralNetwork`. In the constructor define a `3x5` Linear Layer and a a second layer with one output.\n",
    "* Define a `__call__` function that calls a `forward` function.\n",
    "* Define a `forward` function that receives an input `x` and sends it through both *Linear Layers* and returns the output."
   ]
  },
  {
   "cell_type": "code",
   "execution_count": null,
   "metadata": {
    "id": "7_Q3eAkWD8vx"
   },
   "outputs": [],
   "source": [
    "# define NeuralNetwork class\n",
    "class NeuralNetwork:\n",
    "\n",
    "    def __init__(self):\n",
    "        self.l1 = Linear(3,5)\n",
    "        self.l2 = Linear(5,1)\n",
    "\n",
    "    def __call__(self, x):\n",
    "        self.forward(x)\n",
    "\n",
    "    def forward(self, x):\n",
    "        x = self.l1(x)\n",
    "        return self.l2(x)"
   ]
  },
  {
   "cell_type": "code",
   "execution_count": null,
   "metadata": {
    "id": "6pTaE2g6D8vx"
   },
   "outputs": [],
   "source": [
    "# instantiate the model\n",
    "net = NeuralNetwork()"
   ]
  },
  {
   "cell_type": "code",
   "execution_count": null,
   "metadata": {
    "id": "swWwj2C4D8vx"
   },
   "outputs": [],
   "source": [
    "# send x through the neural network\n",
    "net(x)"
   ]
  },
  {
   "cell_type": "markdown",
   "metadata": {
    "id": "woDCshWxD8vx"
   },
   "source": [
    "## Combining Linear Functions\n",
    "We successfully created our first neural network that consists of two layers. The truth is this was not a real *Neural Network*, yet. We combined two linear layers or linear functions, respectively. In the following we will look at a visual proof that stacking two (or more) linear functions into each other results in another linear function. So actually we gain nothing with an additional layer, we could have achieved the same result with a single linear function."
   ]
  },
  {
   "cell_type": "code",
   "execution_count": null,
   "metadata": {
    "colab": {
     "base_uri": "https://localhost:8080/",
     "height": 632,
     "referenced_widgets": [
      "36139250ebf643adb77c5ce42a5dd7b2",
      "0870243402c24fb38e67bd8f72e0e951",
      "824c0055ff35439488695920bf8be202",
      "24e6dd767cc0458d80a200d617a02789",
      "15874920117f4b39b00983f8d41089b1",
      "b0ddf38fd04646eb914cbcdf5544f154",
      "fab06a9298d94907b6a27718f7163436",
      "1775d6610cba46eaa913cf969fa82214",
      "9ae0dd62e1bb446fb9de2168c9b35e50",
      "bb922eb63e114062b1d73ffbc2c8a4be",
      "673603b2be524877ae23af77b07a4e61",
      "6d8ff1ebed0342f9bd0aa2daefa3de52",
      "ad1d39fec90f4c38b1027cf6a93c5b5a",
      "fc8a0eee070946e1a2e4e1c52a75c1d3",
      "0c7a8e9cade9444e9bfd2cada1ab3161",
      "389cf591604345aab65d2554c754774f",
      "8ecd19df4af142a595595c50504597a7",
      "e76a2044dd5d4b10a10eaf17af654ccc",
      "56deb2345c4c4b72a65795df861b961e"
     ]
    },
    "id": "8raoiktsD8vx",
    "outputId": "a68da91e-db55-42e1-fc93-103edd9bddfe"
   },
   "outputs": [],
   "source": [
    "from functools import partial\n",
    "from aiim.visualization import plot_function"
   ]
  },
  {
   "cell_type": "markdown",
   "metadata": {
    "id": "QT33Di-8D8vx"
   },
   "source": [
    "Let's first define a simple linear function."
   ]
  },
  {
   "cell_type": "code",
   "execution_count": null,
   "metadata": {
    "id": "-1dW1_R-D8vx"
   },
   "outputs": [],
   "source": [
    "def linear_function(x, m, b):\n",
    "    return m * x + b"
   ]
  },
  {
   "cell_type": "markdown",
   "metadata": {
    "id": "KHH43hOTD8vx"
   },
   "source": [
    "We use `partial` from the `functools` to fixate the parameters m and b for two linear functions. You can ignore the `.__name__` part."
   ]
  },
  {
   "cell_type": "code",
   "execution_count": null,
   "metadata": {
    "id": "5mhrLuI-D8vx"
   },
   "outputs": [],
   "source": [
    "linear_function1 = partial(linear_function, m=2, b=0)\n",
    "linear_function2 = partial(linear_function, m=5, b=3)\n",
    "\n",
    "linear_function1.__name__ = 'linear_function1'\n",
    "linear_function2.__name__ = 'linear_function2'\n"
   ]
  },
  {
   "cell_type": "markdown",
   "metadata": {
    "id": "39Pg2gLmD8vx"
   },
   "source": [
    "Let's plot `linear_function1` and `linear_function2` individually."
   ]
  },
  {
   "cell_type": "code",
   "execution_count": null,
   "metadata": {
    "colab": {
     "base_uri": "https://localhost:8080/",
     "height": 430
    },
    "id": "Y8NIQiDHD8vx",
    "outputId": "0df75b90-7ea6-4432-a560-0edf1d0d852b"
   },
   "outputs": [],
   "source": [
    "plot_function(linear_function1)"
   ]
  },
  {
   "cell_type": "code",
   "execution_count": null,
   "metadata": {
    "colab": {
     "base_uri": "https://localhost:8080/",
     "height": 430
    },
    "id": "xyN9k7jMD8vx",
    "outputId": "77998bc1-9d15-41f6-b4cd-626ecc2e5487"
   },
   "outputs": [],
   "source": [
    "plot_function(linear_function2)"
   ]
  },
  {
   "cell_type": "markdown",
   "metadata": {
    "id": "bH3Obz9jD8vx"
   },
   "source": [
    "Nothing surprising here. Let us now write another function that chains the two linear functions and plot the new `combined_linear_function`."
   ]
  },
  {
   "cell_type": "code",
   "execution_count": null,
   "metadata": {
    "id": "el7FArkKD8vy"
   },
   "outputs": [],
   "source": [
    "def combined_linear_function(x):\n",
    "    return linear_function2(linear_function1(x))"
   ]
  },
  {
   "cell_type": "code",
   "execution_count": null,
   "metadata": {
    "colab": {
     "base_uri": "https://localhost:8080/",
     "height": 430
    },
    "id": "lC3Egd4gD8vy",
    "outputId": "81438e83-b596-45af-e932-a6ee2d258b75"
   },
   "outputs": [],
   "source": [
    "plot_function(combined_linear_function)"
   ]
  },
  {
   "cell_type": "markdown",
   "metadata": {
    "id": "57_dQmXAD8vy"
   },
   "source": [
    "The resulting figure leaves no doubt that combining the two linear functions again results in just another linear function. We can even calculate `m` the slope and the intercept `b`."
   ]
  },
  {
   "cell_type": "markdown",
   "metadata": {
    "id": "AZ0jpC28D8vy"
   },
   "source": [
    "$l2(l1(x)) = (x*2+0)*5 + 3  = 10x + 3$\n",
    "\n",
    "So the combination of the two linear functions resulted in yet another linear function with $m=10$ and $b=3$."
   ]
  },
  {
   "cell_type": "markdown",
   "metadata": {
    "id": "B303itmED8v1"
   },
   "source": [
    "## Activation Functions or Nonlinearities"
   ]
  },
  {
   "cell_type": "code",
   "execution_count": null,
   "metadata": {
    "id": "YPQx9VcbD8v1"
   },
   "outputs": [],
   "source": [
    "from aiim.visualization import interactive_plot"
   ]
  },
  {
   "cell_type": "markdown",
   "metadata": {
    "id": "K8FXTyAuD8v1"
   },
   "source": [
    "### Rectified Linear Unit"
   ]
  },
  {
   "cell_type": "code",
   "execution_count": null,
   "metadata": {
    "editable": true,
    "id": "YusrFudmD8v1",
    "tags": []
   },
   "outputs": [],
   "source": [
    "def ReLU(x):\n",
    "    return np.maximum(0, x)"
   ]
  },
  {
   "cell_type": "code",
   "execution_count": null,
   "metadata": {
    "colab": {
     "base_uri": "https://localhost:8080/",
     "height": 462,
     "referenced_widgets": [
      "50598066929a44dc89a2db14e38caa0a",
      "df53b921e5f745169b87415afe8c37ea",
      "34500f011f744b9a8e21a2540d418fa1",
      "9a11e23c62c146feb97fbfa01ba5832b",
      "2613743870ea43c8be9e56ecd93c9f7f",
      "13cc4ca148f145118db5cdf26e602f47",
      "61844e09182a4fdfb69a0805525aee65"
     ]
    },
    "id": "00MRYkfOD8v1",
    "outputId": "c60fd61f-30e2-4849-ff4c-09ac5fe3266c"
   },
   "outputs": [],
   "source": [
    "interactive_plot(ReLU)"
   ]
  },
  {
   "cell_type": "markdown",
   "metadata": {
    "id": "GQF7Ikb0D8v1"
   },
   "source": [
    "### Sigmoid"
   ]
  },
  {
   "cell_type": "code",
   "execution_count": null,
   "metadata": {
    "id": "EwxjuD5kD8v1"
   },
   "outputs": [],
   "source": [
    "def sigmoid(x):\n",
    "    return 1/(1+np.exp(-x))"
   ]
  },
  {
   "cell_type": "code",
   "execution_count": null,
   "metadata": {
    "colab": {
     "base_uri": "https://localhost:8080/",
     "height": 462,
     "referenced_widgets": [
      "01f8e75a73274037996fe8188dbdc764",
      "f17f1ac5e3054a8da4aa462c3a6cce32",
      "17a04dc1c95f4f228dcb31bf4c5cd258",
      "3b5f0b8df09b43df8246aeb044d48935",
      "d85dee2237984e94bdee2e6bff6fb6cb",
      "90e8248d35b2450dac7f09f3042e0a78",
      "448b952058f14701800749fd6fb36466"
     ]
    },
    "id": "-fIeVekLD8v1",
    "outputId": "52bbf3ef-f423-4575-f0b5-9c0da673f925"
   },
   "outputs": [],
   "source": [
    "interactive_plot(sigmoid)"
   ]
  },
  {
   "cell_type": "markdown",
   "metadata": {
    "id": "bg8L-ZYfD8v1"
   },
   "source": [
    "### tanh"
   ]
  },
  {
   "cell_type": "markdown",
   "metadata": {
    "id": "3n9swQ2dD8v1"
   },
   "source": [
    "Try to implement the tanh function yourself!\n",
    "\n",
    "$tanh(x) = \\frac{e^x-e^{-x}}{e^x+e^{-x}}$"
   ]
  },
  {
   "cell_type": "code",
   "execution_count": null,
   "metadata": {
    "id": "yTO3tARAD8v1"
   },
   "outputs": [],
   "source": [
    "def tanh(x):\n",
    "    return (np.exp(x) - np.exp(-x)) / (np.exp(x) + np.exp(-x))"
   ]
  },
  {
   "cell_type": "code",
   "execution_count": null,
   "metadata": {
    "colab": {
     "base_uri": "https://localhost:8080/",
     "height": 462,
     "referenced_widgets": [
      "1d6ad92370174810828049529b2c076f",
      "9ba3319a97d0416b879014bb6041bc81",
      "38bd52c630f348adb00f1be41dabf6d2",
      "fb4cab679699497cb148c5644b35a4cb",
      "21415f1f946243e4b39e8ee199ba227d",
      "dc728ff1635d437d932bfcde9bf85259",
      "f9ec389b52384bad808f2477ed88e689"
     ]
    },
    "id": "pkQNvhoJD8v1",
    "outputId": "57a53284-1f2f-4c27-89a0-02105c14e1a1"
   },
   "outputs": [],
   "source": [
    "interactive_plot(tanh)"
   ]
  },
  {
   "cell_type": "markdown",
   "metadata": {
    "id": "c1O2QagJD8v1"
   },
   "source": [
    "### Softmax Function\n",
    "\n",
    "The softmax function, often used in the final layer of a neural network classifier, converts logits (numeric output scores from the model) into probabilities by taking the exponential of each output and then normalizing these values by dividing by the sum of all the exponentials. This ensures that the output values are in the range (0, 1) and sum up to 1, making them interpretable as probabilities. The softmax function is particularly useful for multi-class classification problems.\n",
    "\n",
    "The formula for the softmax function for a vector $z$ of raw class scores from the final layer of a neural network is given by:\n",
    "\n",
    "$$\n",
    "\\text{softmax}(z_i) = \\frac{e^{z_i}}{\\sum_{j} e^{z_j}}\n",
    "$$\n",
    "\n",
    "\n",
    "where:\n",
    "- $z_i$ is the score for class $i$.\n",
    "- The denominator is the sum of the exponentials of all the raw class scores.\n",
    "\n",
    "This formula ensures that the scores are normalized and interpretable as probabilities."
   ]
  },
  {
   "cell_type": "code",
   "execution_count": null,
   "metadata": {
    "id": "12gfG5vTD8v1"
   },
   "outputs": [],
   "source": [
    "from aiim.visualization import softmax_with_sliders"
   ]
  },
  {
   "cell_type": "code",
   "execution_count": null,
   "metadata": {
    "colab": {
     "base_uri": "https://localhost:8080/",
     "height": 632,
     "referenced_widgets": [
      "5dcedf3afc8a46baba6b3ae7276ad539",
      "1333e51ac3ba462db5e14e305d70f856",
      "646960ee079b4735a9e2e4b7a0175cc7",
      "e8152096e55647a6a31a4c5c35c3d6dd",
      "5a8c8fed6ee14d3a884223d88ccaf056",
      "e5b581038ddb43678ace4008622f432a",
      "fc825b1889c14a9b9010026e28439fec",
      "6d4dab85fefa4c669f705be36f3ec800",
      "5837b13d22754ec5b335de5dfe392e50",
      "d0d27a8c569540ca9c9b2cee5dc3c20c",
      "13f23b5d537b4b61823cd57aae649a9c",
      "69c64756491b4342af01992f48b04bc1",
      "11b756637e51411098378f68aa1dd9df",
      "0e8d69f93bdc435aaf9fd2e12604d347",
      "6101535d5d0240e8828e0fd072e74aea",
      "1f9504bbf48940f299b312a22141fdbc",
      "e6f5402837334e559adbdf58fe920a7e",
      "74ca86b1101b488c8c9ddb0816d6e08b",
      "fb338583c29643819a79d04e5adb7159"
     ]
    },
    "id": "qSACNnCBD8v1",
    "outputId": "3441d40c-8c4c-437d-e43e-75858a8de09c"
   },
   "outputs": [],
   "source": [
    "softmax_with_sliders()"
   ]
  },
  {
   "cell_type": "markdown",
   "metadata": {
    "id": "gElgjM2JD8v1"
   },
   "source": [
    "Implement the softmax with the help of the formula above."
   ]
  },
  {
   "cell_type": "code",
   "execution_count": null,
   "metadata": {
    "id": "joEs0rCID8v1"
   },
   "outputs": [],
   "source": [
    "def softmax(z):\n",
    "    return np.exp(z) / np.exp(z).sum()"
   ]
  },
  {
   "cell_type": "code",
   "execution_count": null,
   "metadata": {
    "id": "EeY8u7ACD8v1"
   },
   "outputs": [],
   "source": [
    "assert softmax(torch.randn(5)).sum() == 1"
   ]
  },
  {
   "cell_type": "markdown",
   "metadata": {
    "id": "afV8unp0D8v2"
   },
   "source": [
    "## A Neural Network with PyTorch\n",
    "\n",
    "We have everything we need to create a forward pass with a Neural Network. In `Exercise 1` we implemented our own neural network but in practice it makes sense to use a framework like PyTorch."
   ]
  },
  {
   "cell_type": "markdown",
   "metadata": {
    "id": "R4XVaaEID8v2"
   },
   "source": [
    "In PyTorch everything resolves about the class `nn.Module`. Each Layer is an `nn.Module` and the Neural Network itself is also an `nn.Module`.\n",
    "\n",
    "We need two things.\n",
    "* An `__init__` function where you usually define the layers and that calls the constructor of the superclass `super().__init__` at the beginning.\n",
    "* A forward function that passes the input in the desired order through our Network layers."
   ]
  },
  {
   "cell_type": "markdown",
   "metadata": {
    "id": "s3u8FYtPD8v2"
   },
   "source": [
    "In the `nn` module you will find an implementation of the a Linear Layer called `nn.Linear` which basically works exactly as the your `Linear` class above."
   ]
  },
  {
   "cell_type": "code",
   "execution_count": null,
   "metadata": {
    "id": "0DonfmDSD8v2"
   },
   "outputs": [],
   "source": [
    "import torch.nn as nn"
   ]
  },
  {
   "cell_type": "code",
   "execution_count": null,
   "metadata": {
    "id": "jHdZR1-aD8v2"
   },
   "outputs": [],
   "source": [
    "nn.Linear??"
   ]
  },
  {
   "cell_type": "markdown",
   "metadata": {
    "id": "DAnL8fK-D8v2"
   },
   "source": [
    "### Exercise 2\n",
    "Create a two layer Neural Network that has 10 inputs and 5 outputs at the end. Use activations functions after each Layer."
   ]
  },
  {
   "cell_type": "code",
   "execution_count": null,
   "metadata": {
    "id": "Y-J4xH9AD8v2"
   },
   "outputs": [],
   "source": [
    "class TwoLayerNeuralNetwork(nn.Module):\n",
    "\n",
    "    def __init__(self):\n",
    "        super().__init__()\n",
    "        self.l1 = nn.Linear(10,10)\n",
    "        self.l2 = nn.Linear(10,5)\n",
    "\n",
    "    def forward(self, x):\n",
    "        x = self.l1(x)\n",
    "        x = torch.nn.ReLU()(x)\n",
    "        return self.l2(x)\n"
   ]
  },
  {
   "cell_type": "markdown",
   "metadata": {
    "id": "xne4k4sKD8v2"
   },
   "source": [
    "## Loss Functions\n",
    "In this section we want to have a look at two different loss functions, namely, `Cross Entropy Loss` and `Mean Squared Error` Loss. There are a lot more loss functions that exist and which one you use depends on the problem you want to solve. Sometimes you can use different loss functions for the same problem. For example you can use both the the `Cross Entropy Loss` and the `Mean Squared Error` Loss for a single-label classification with two classes. However, for each Loss functions expect the data in different formats and you as as the developer have to make sure it is in the right format."
   ]
  },
  {
   "cell_type": "markdown",
   "metadata": {
    "id": "bXx6V4YSD8v2"
   },
   "source": [
    "### Mean Squared Error Loss\n",
    "We discussed the MSE Loss in detail in the lecture. MSELoss is most of the time used when dealing with regression problems but can also been used for classification as stated above.\n",
    "\n",
    "Imagine you want to predict if a move review is positive or negative. We would design our neural network so that it has one output that should be close to `1` if the review is positiv, and close to `0` if it is negative."
   ]
  },
  {
   "cell_type": "code",
   "execution_count": null,
   "metadata": {
    "id": "pzaZTa8rD8v2"
   },
   "outputs": [],
   "source": [
    "from torch.nn import MSELoss"
   ]
  },
  {
   "cell_type": "markdown",
   "metadata": {
    "id": "eqTXziU5D8v2"
   },
   "source": [
    "Let's create an example output and label."
   ]
  },
  {
   "cell_type": "code",
   "execution_count": null,
   "metadata": {
    "id": "vmOjFi4fD8v2"
   },
   "outputs": [],
   "source": [
    "logit = torch.randn(1)\n",
    "label = torch.randint(0,2,[1])\n",
    "prediction = logit.sigmoid()"
   ]
  },
  {
   "cell_type": "code",
   "execution_count": null,
   "metadata": {
    "colab": {
     "base_uri": "https://localhost:8080/"
    },
    "id": "o9eICzEDD8v2",
    "outputId": "fe896582-8d7c-44e9-91f6-b550b05f9c44"
   },
   "outputs": [],
   "source": [
    "prediction, label"
   ]
  },
  {
   "cell_type": "markdown",
   "metadata": {
    "id": "cDRdVLgjD8v2"
   },
   "source": [
    "We now have dummy values for our prediction as well as a label. Let's put this into our Cross Entropy Loss Function."
   ]
  },
  {
   "cell_type": "code",
   "execution_count": null,
   "metadata": {
    "colab": {
     "base_uri": "https://localhost:8080/"
    },
    "id": "wGg3_4hYD8v2",
    "outputId": "05a893ae-c77b-4319-cb9e-f6ee3fd6754c"
   },
   "outputs": [],
   "source": [
    "MSELoss()(prediction, label)"
   ]
  },
  {
   "cell_type": "markdown",
   "metadata": {
    "id": "uvOnGzAPD8v2"
   },
   "source": [
    "### Exercise 3\n",
    "What would be the shape of the `prediction` and `label` if we had a batch size of `4`? Create an example for the `prediction` and the `label` for a batch size of `4` and calculate the MSELoss for this example."
   ]
  },
  {
   "cell_type": "code",
   "execution_count": null,
   "metadata": {
    "id": "jmZCcW26HBfu"
   },
   "outputs": [],
   "source": [
    "logit = torch.randn(4,1)\n",
    "prediction = logit.sigmoid()\n",
    "label = torch.randint(0,2, [4,1])"
   ]
  },
  {
   "cell_type": "code",
   "execution_count": null,
   "metadata": {
    "colab": {
     "base_uri": "https://localhost:8080/"
    },
    "id": "WfHQxMPXHR9X",
    "outputId": "6b8a31e0-91e6-461f-c9a8-17b9dfb9ee3e"
   },
   "outputs": [],
   "source": [
    "prediction, label"
   ]
  },
  {
   "cell_type": "code",
   "execution_count": null,
   "metadata": {
    "colab": {
     "base_uri": "https://localhost:8080/"
    },
    "id": "LSYX8qf7HTt-",
    "outputId": "80a7e7d8-f2c0-4af2-92ac-7e5a9544cb0d"
   },
   "outputs": [],
   "source": [
    "MSELoss()(prediction, label)"
   ]
  },
  {
   "cell_type": "markdown",
   "metadata": {
    "id": "TuC9QTYYD8v2"
   },
   "source": [
    "## Cross Entropy Loss\n",
    "The Cross Entropy Loss is used for single label classification and is widely used to train neural networks. For example, Language Models like GPT predict the next word based on all previous words to generate language. GPT outputs one logit for each word in it's vocabulary and we applies the `softmax` to get the most likely next word, by assigning a probability to each word. During training the loss is calculated with the `CrossEntropyLoss`."
   ]
  },
  {
   "cell_type": "code",
   "execution_count": null,
   "metadata": {
    "id": "dT2HKkevD8v2"
   },
   "outputs": [],
   "source": [
    "from torch.nn import CrossEntropyLoss"
   ]
  },
  {
   "cell_type": "markdown",
   "metadata": {
    "id": "FsTYv664D8v2"
   },
   "source": [
    "Carefully read the documentation. It states that\n",
    "> The input is expected to contain the unnormalized logits for each class\n",
    "\n",
    "Take a pause and try to remember how we defined logits in the lecture."
   ]
  },
  {
   "cell_type": "markdown",
   "metadata": {
    "id": "31dI9C77D8v2"
   },
   "source": [
    "Logits are the raw output of the neural network. This means that we do not have to apply the `softmax` function as this is already done for you in the loss function!!!"
   ]
  },
  {
   "cell_type": "markdown",
   "metadata": {
    "id": "DdSOwgMJD8v2"
   },
   "source": [
    "Let's create some example data and have a look on how the data is formatted."
   ]
  },
  {
   "cell_type": "code",
   "execution_count": null,
   "metadata": {
    "id": "3QUIBCgND8v2"
   },
   "outputs": [],
   "source": [
    "logits = torch.randn(4, 5, requires_grad=True)\n",
    "target = torch.empty(4, dtype=torch.long).random_(5)"
   ]
  },
  {
   "cell_type": "code",
   "execution_count": null,
   "metadata": {
    "colab": {
     "base_uri": "https://localhost:8080/"
    },
    "id": "qyHzOuqKD8v2",
    "outputId": "d1589efd-0f98-4873-9589-31aa3ced77ee"
   },
   "outputs": [],
   "source": [
    "logits, logits.shape"
   ]
  },
  {
   "cell_type": "markdown",
   "metadata": {
    "id": "9OIxfQQ5D8v3"
   },
   "source": [
    "The logits are random positive and negative numbers and simulate the output of the last layer of a neural network. What does the shape `(4,5)` mean?"
   ]
  },
  {
   "cell_type": "code",
   "execution_count": null,
   "metadata": {
    "colab": {
     "base_uri": "https://localhost:8080/"
    },
    "id": "O_eqjySrD8v3",
    "outputId": "1e2a012b-85be-44f4-a5c3-49449b0ba922"
   },
   "outputs": [],
   "source": [
    "target, target.shape, target.dtype"
   ]
  },
  {
   "cell_type": "markdown",
   "metadata": {
    "id": "B8OlFPeID8v3"
   },
   "source": [
    "The target is more interesting. It is a tensor of shape `[4]` with a dtype of `integer` with values between `0` and `4`. This integers encode the correct class of our single-label classification problem.\n",
    "\n",
    "Imagine you classifiying images of animals and have the following classes:\n",
    "    ```\n",
    "    {\n",
    "        0: 'cat',\n",
    "        1: 'dog',\n",
    "        2: 'horse',\n",
    "        3: 'duck',\n",
    "        4: 'monkey'\n",
    "    }\n",
    "    ```\n",
    "So your job as a developer is to make sure that your dataset returns a training example formated as `(image_as_tensor, label_as_int)`."
   ]
  },
  {
   "cell_type": "markdown",
   "metadata": {
    "id": "mon_YElVD8v3"
   },
   "source": [
    "We can now calculate the loss value for our example batch."
   ]
  },
  {
   "cell_type": "code",
   "execution_count": null,
   "metadata": {
    "colab": {
     "base_uri": "https://localhost:8080/"
    },
    "id": "8JpAbUf0D8v3",
    "outputId": "8f88ef13-810a-4706-dbf2-c8b2dae32cc1"
   },
   "outputs": [],
   "source": [
    "CrossEntropyLoss()(logits, target)"
   ]
  },
  {
   "cell_type": "markdown",
   "metadata": {
    "id": "OAX7t5r9D8v3"
   },
   "source": [
    "## The Training Loop\n",
    "\n",
    "We now have almost everything we need for training a neural network except the data and the the optimizer. Let's create some data first."
   ]
  },
  {
   "cell_type": "code",
   "execution_count": null,
   "metadata": {
    "id": "2MvudH03D8v3"
   },
   "outputs": [],
   "source": [
    "criterion = nn.CrossEntropyLoss()\n",
    "train_data = torch.randn(10_000, 10, requires_grad=True)\n",
    "targets = torch.empty(10_000, dtype=torch.long).random_(5)"
   ]
  },
  {
   "cell_type": "markdown",
   "metadata": {
    "id": "EU9KpWDzD8v3"
   },
   "source": [
    "We can split our data in training and evaluation. With the help of scikit learn."
   ]
  },
  {
   "cell_type": "code",
   "execution_count": null,
   "metadata": {
    "id": "f34IEp9ID8v3"
   },
   "outputs": [],
   "source": [
    "from sklearn.model_selection import train_test_split\n",
    "\n",
    "train_data, validation_data, train_labels, validation_labels = train_test_split(train_data, targets, test_size=0.2, random_state=42)"
   ]
  },
  {
   "cell_type": "code",
   "execution_count": null,
   "metadata": {
    "id": "ksAoGRyGMfZC"
   },
   "outputs": [],
   "source": []
  },
  {
   "cell_type": "markdown",
   "metadata": {
    "id": "2dYYVR-dD8v3"
   },
   "source": [
    "### Exercise 4\n",
    "Create a Dataset class and instantiate it with training and validation data. Afterwards create a `train_dataloader` and a `val_dataloader` with batch size of 4."
   ]
  },
  {
   "cell_type": "code",
   "execution_count": null,
   "metadata": {
    "id": "ZhIpie6_D8v3"
   },
   "outputs": [],
   "source": [
    "# Create Dataset Class\n",
    "from torch.utils.data import Dataset, DataLoader\n",
    "\n",
    "class RandomDataset(Dataset):\n",
    "\n",
    "    def __init__(self, data, labels):\n",
    "        self.data = data\n",
    "        self.labels = labels\n",
    "\n",
    "    def __len__(self,):\n",
    "        return len(self.data)\n",
    "\n",
    "    def __getitem__(self, x):\n",
    "        return torch.tensor(self.data[x]), torch.tensor(self.labels[x])\n"
   ]
  },
  {
   "cell_type": "code",
   "execution_count": null,
   "metadata": {
    "id": "NjVE4tzZD8v3"
   },
   "outputs": [],
   "source": [
    "# create train_dataset and val_dataset\n",
    "train_dataset = RandomDataset(train_data, train_labels)\n",
    "validation_dataset = RandomDataset(validation_data, validation_labels)"
   ]
  },
  {
   "cell_type": "code",
   "execution_count": null,
   "metadata": {
    "id": "VVciX-9gD8v3"
   },
   "outputs": [],
   "source": [
    "# create train_dataloader and val_dataloader with bs 4\n",
    "train_dataloader = DataLoader(train_dataset, batch_size = 4)\n",
    "validation_dataloader = DataLoader(validation_dataset, batch_size = 4)"
   ]
  },
  {
   "cell_type": "markdown",
   "metadata": {
    "id": "5dxcS1dSD8v3"
   },
   "source": [
    "The last piece we need is the optimizer. We will use SGD for now."
   ]
  },
  {
   "cell_type": "code",
   "execution_count": null,
   "metadata": {
    "id": "uhc1x1PhD8v3"
   },
   "outputs": [],
   "source": [
    "from torch.optim import SGD"
   ]
  },
  {
   "cell_type": "code",
   "execution_count": null,
   "metadata": {
    "id": "gS8P8FiqD8v3"
   },
   "outputs": [],
   "source": [
    "# we reuse the model you implemented in Exercise 2\n",
    "model = TwoLayerNeuralNetwork()"
   ]
  },
  {
   "cell_type": "markdown",
   "metadata": {
    "id": "gqdxxVm9D8v3"
   },
   "source": [
    "We now can instantiate our optimizer object. We need to pass the learning rate and the model parameters. We need to pass the parameters or weights as the optimizer is the one responsible for tracking the gradients and update the models weight, accordingly."
   ]
  },
  {
   "cell_type": "code",
   "execution_count": null,
   "metadata": {
    "id": "52w2VMv5D8v3"
   },
   "outputs": [],
   "source": [
    "learning_rate = 0.01\n",
    "optimizer = SGD(model.parameters(), learning_rate)"
   ]
  },
  {
   "cell_type": "markdown",
   "metadata": {
    "id": "wEYPWUa1D8v3"
   },
   "source": [
    "We can now implement that training loop. Note that the model most likely wont get better during training as our labels **and** data are randomly created, so there is no pattern to learn for the neural network."
   ]
  },
  {
   "cell_type": "code",
   "execution_count": null,
   "metadata": {
    "colab": {
     "base_uri": "https://localhost:8080/"
    },
    "id": "VnvvxjiAD8v3",
    "outputId": "148a040c-4dec-46e2-92d1-8a6c4dd7d6f1"
   },
   "outputs": [],
   "source": [
    "# Training loop\n",
    "num_epochs = 10\n",
    "criterion = nn.CrossEntropyLoss()\n",
    "model.train()\n",
    "\n",
    "for epoch in range(num_epochs):\n",
    "    # Training\n",
    "    running_loss = 0.0\n",
    "    for i, data in enumerate(train_dataloader):\n",
    "        inputs, labels = data\n",
    "        outputs = model(inputs)\n",
    "        loss = criterion(outputs, labels)\n",
    "        loss.backward()\n",
    "        optimizer.step()\n",
    "        optimizer.zero_grad()\n",
    "\n",
    "        running_loss += loss.item()\n",
    "        if i % 100 == 99:\n",
    "            print(f'[Epoch {epoch + 1}, Batch {i + 1}] Training Loss: {running_loss / 100:.3f}')\n",
    "            running_loss = 0.0\n",
    "\n",
    "    # Validation\n",
    "    model.eval()\n",
    "    val_loss = 0.0\n",
    "    correct = 0\n",
    "    total = 0\n",
    "    with torch.no_grad():\n",
    "        for data in validation_dataloader:\n",
    "            inputs, labels = data\n",
    "            outputs = model(inputs)\n",
    "            loss = criterion(outputs, labels)\n",
    "            val_loss += loss.item()\n",
    "            _, predicted = torch.max(outputs.data, 1)\n",
    "            total += labels.size(0)\n",
    "            correct += (predicted == labels).sum().item()\n",
    "\n",
    "    val_loss /= len(validation_dataloader)\n",
    "    val_accuracy = 100 * correct / total\n",
    "    print(f'[Epoch {epoch + 1}] Validation Loss: {val_loss:.3f}, Validation Accuracy: {val_accuracy:.2f}%')\n",
    "\n",
    "print('Training and validation finished')"
   ]
  },
  {
   "cell_type": "markdown",
   "metadata": {
    "id": "J2-cx9ABD8v3"
   },
   "source": [
    "## Exercise 5\n",
    "Now that we can train our neural network it is your turn to improve the training loop. Here are some ideas:\n",
    "* convert the loop to a reusable function.\n",
    "* (optionally) put the tensors on the gpu\n",
    "* add a progress bar with the `tqdm` library\n",
    "\n",
    "You can also add your (documented) training function to `train.py` located in `src/aiim` in this repository and make a pull request to make your training loop accessible for your fellow students!"
   ]
  },
  {
   "cell_type": "markdown",
   "metadata": {
    "id": "DC0HsFtuD8v4"
   },
   "source": []
  }
 ],
 "metadata": {
  "colab": {
   "provenance": []
  },
  "kernelspec": {
   "display_name": "Python 3 (ipykernel)",
   "language": "python",
   "name": "python3"
  },
  "language_info": {
   "codemirror_mode": {
    "name": "ipython",
    "version": 3
   },
   "file_extension": ".py",
   "mimetype": "text/x-python",
   "name": "python",
   "nbconvert_exporter": "python",
   "pygments_lexer": "ipython3",
   "version": "3.11.4"
  },
  "widgets": {
   "application/vnd.jupyter.widget-state+json": {
    "01f8e75a73274037996fe8188dbdc764": {
     "model_module": "@jupyter-widgets/controls",
     "model_module_version": "1.5.0",
     "model_name": "VBoxModel",
     "state": {
      "_dom_classes": [],
      "_model_module": "@jupyter-widgets/controls",
      "_model_module_version": "1.5.0",
      "_model_name": "VBoxModel",
      "_view_count": null,
      "_view_module": "@jupyter-widgets/controls",
      "_view_module_version": "1.5.0",
      "_view_name": "VBoxView",
      "box_style": "",
      "children": [
       "IPY_MODEL_f17f1ac5e3054a8da4aa462c3a6cce32",
       "IPY_MODEL_17a04dc1c95f4f228dcb31bf4c5cd258"
      ],
      "layout": "IPY_MODEL_3b5f0b8df09b43df8246aeb044d48935"
     }
    },
    "0870243402c24fb38e67bd8f72e0e951": {
     "model_module": "@jupyter-widgets/controls",
     "model_module_version": "1.5.0",
     "model_name": "FloatSliderModel",
     "state": {
      "_dom_classes": [],
      "_model_module": "@jupyter-widgets/controls",
      "_model_module_version": "1.5.0",
      "_model_name": "FloatSliderModel",
      "_view_count": null,
      "_view_module": "@jupyter-widgets/controls",
      "_view_module_version": "1.5.0",
      "_view_name": "FloatSliderView",
      "continuous_update": true,
      "description": "Value 1",
      "description_tooltip": null,
      "disabled": false,
      "layout": "IPY_MODEL_9ae0dd62e1bb446fb9de2168c9b35e50",
      "max": 10,
      "min": -10,
      "orientation": "horizontal",
      "readout": true,
      "readout_format": ".2f",
      "step": 0.1,
      "style": "IPY_MODEL_bb922eb63e114062b1d73ffbc2c8a4be",
      "value": 0
     }
    },
    "0c7a8e9cade9444e9bfd2cada1ab3161": {
     "model_module": "@jupyter-widgets/base",
     "model_module_version": "1.2.0",
     "model_name": "LayoutModel",
     "state": {
      "_model_module": "@jupyter-widgets/base",
      "_model_module_version": "1.2.0",
      "_model_name": "LayoutModel",
      "_view_count": null,
      "_view_module": "@jupyter-widgets/base",
      "_view_module_version": "1.2.0",
      "_view_name": "LayoutView",
      "align_content": null,
      "align_items": null,
      "align_self": null,
      "border": null,
      "bottom": null,
      "display": null,
      "flex": null,
      "flex_flow": null,
      "grid_area": null,
      "grid_auto_columns": null,
      "grid_auto_flow": null,
      "grid_auto_rows": null,
      "grid_column": null,
      "grid_gap": null,
      "grid_row": null,
      "grid_template_areas": null,
      "grid_template_columns": null,
      "grid_template_rows": null,
      "height": null,
      "justify_content": null,
      "justify_items": null,
      "left": null,
      "margin": null,
      "max_height": null,
      "max_width": null,
      "min_height": null,
      "min_width": null,
      "object_fit": null,
      "object_position": null,
      "order": null,
      "overflow": null,
      "overflow_x": null,
      "overflow_y": null,
      "padding": null,
      "right": null,
      "top": null,
      "visibility": null,
      "width": null
     }
    },
    "0e8d69f93bdc435aaf9fd2e12604d347": {
     "model_module": "@jupyter-widgets/controls",
     "model_module_version": "1.5.0",
     "model_name": "SliderStyleModel",
     "state": {
      "_model_module": "@jupyter-widgets/controls",
      "_model_module_version": "1.5.0",
      "_model_name": "SliderStyleModel",
      "_view_count": null,
      "_view_module": "@jupyter-widgets/base",
      "_view_module_version": "1.2.0",
      "_view_name": "StyleView",
      "description_width": "",
      "handle_color": null
     }
    },
    "11b756637e51411098378f68aa1dd9df": {
     "model_module": "@jupyter-widgets/base",
     "model_module_version": "1.2.0",
     "model_name": "LayoutModel",
     "state": {
      "_model_module": "@jupyter-widgets/base",
      "_model_module_version": "1.2.0",
      "_model_name": "LayoutModel",
      "_view_count": null,
      "_view_module": "@jupyter-widgets/base",
      "_view_module_version": "1.2.0",
      "_view_name": "LayoutView",
      "align_content": null,
      "align_items": null,
      "align_self": null,
      "border": null,
      "bottom": null,
      "display": null,
      "flex": null,
      "flex_flow": null,
      "grid_area": null,
      "grid_auto_columns": null,
      "grid_auto_flow": null,
      "grid_auto_rows": null,
      "grid_column": null,
      "grid_gap": null,
      "grid_row": null,
      "grid_template_areas": null,
      "grid_template_columns": null,
      "grid_template_rows": null,
      "height": null,
      "justify_content": null,
      "justify_items": null,
      "left": null,
      "margin": null,
      "max_height": null,
      "max_width": null,
      "min_height": null,
      "min_width": null,
      "object_fit": null,
      "object_position": null,
      "order": null,
      "overflow": null,
      "overflow_x": null,
      "overflow_y": null,
      "padding": null,
      "right": null,
      "top": null,
      "visibility": null,
      "width": null
     }
    },
    "1333e51ac3ba462db5e14e305d70f856": {
     "model_module": "@jupyter-widgets/controls",
     "model_module_version": "1.5.0",
     "model_name": "FloatSliderModel",
     "state": {
      "_dom_classes": [],
      "_model_module": "@jupyter-widgets/controls",
      "_model_module_version": "1.5.0",
      "_model_name": "FloatSliderModel",
      "_view_count": null,
      "_view_module": "@jupyter-widgets/controls",
      "_view_module_version": "1.5.0",
      "_view_name": "FloatSliderView",
      "continuous_update": true,
      "description": "Value 1",
      "description_tooltip": null,
      "disabled": false,
      "layout": "IPY_MODEL_5837b13d22754ec5b335de5dfe392e50",
      "max": 10,
      "min": -10,
      "orientation": "horizontal",
      "readout": true,
      "readout_format": ".2f",
      "step": 0.1,
      "style": "IPY_MODEL_d0d27a8c569540ca9c9b2cee5dc3c20c",
      "value": 0
     }
    },
    "13cc4ca148f145118db5cdf26e602f47": {
     "model_module": "@jupyter-widgets/controls",
     "model_module_version": "1.5.0",
     "model_name": "SliderStyleModel",
     "state": {
      "_model_module": "@jupyter-widgets/controls",
      "_model_module_version": "1.5.0",
      "_model_name": "SliderStyleModel",
      "_view_count": null,
      "_view_module": "@jupyter-widgets/base",
      "_view_module_version": "1.2.0",
      "_view_name": "StyleView",
      "description_width": "",
      "handle_color": null
     }
    },
    "13f23b5d537b4b61823cd57aae649a9c": {
     "model_module": "@jupyter-widgets/base",
     "model_module_version": "1.2.0",
     "model_name": "LayoutModel",
     "state": {
      "_model_module": "@jupyter-widgets/base",
      "_model_module_version": "1.2.0",
      "_model_name": "LayoutModel",
      "_view_count": null,
      "_view_module": "@jupyter-widgets/base",
      "_view_module_version": "1.2.0",
      "_view_name": "LayoutView",
      "align_content": null,
      "align_items": null,
      "align_self": null,
      "border": null,
      "bottom": null,
      "display": null,
      "flex": null,
      "flex_flow": null,
      "grid_area": null,
      "grid_auto_columns": null,
      "grid_auto_flow": null,
      "grid_auto_rows": null,
      "grid_column": null,
      "grid_gap": null,
      "grid_row": null,
      "grid_template_areas": null,
      "grid_template_columns": null,
      "grid_template_rows": null,
      "height": null,
      "justify_content": null,
      "justify_items": null,
      "left": null,
      "margin": null,
      "max_height": null,
      "max_width": null,
      "min_height": null,
      "min_width": null,
      "object_fit": null,
      "object_position": null,
      "order": null,
      "overflow": null,
      "overflow_x": null,
      "overflow_y": null,
      "padding": null,
      "right": null,
      "top": null,
      "visibility": null,
      "width": null
     }
    },
    "15874920117f4b39b00983f8d41089b1": {
     "model_module": "@jupyter-widgets/controls",
     "model_module_version": "1.5.0",
     "model_name": "FloatSliderModel",
     "state": {
      "_dom_classes": [],
      "_model_module": "@jupyter-widgets/controls",
      "_model_module_version": "1.5.0",
      "_model_name": "FloatSliderModel",
      "_view_count": null,
      "_view_module": "@jupyter-widgets/controls",
      "_view_module_version": "1.5.0",
      "_view_name": "FloatSliderView",
      "continuous_update": true,
      "description": "Value 4",
      "description_tooltip": null,
      "disabled": false,
      "layout": "IPY_MODEL_0c7a8e9cade9444e9bfd2cada1ab3161",
      "max": 10,
      "min": -10,
      "orientation": "horizontal",
      "readout": true,
      "readout_format": ".2f",
      "step": 0.1,
      "style": "IPY_MODEL_389cf591604345aab65d2554c754774f",
      "value": 0
     }
    },
    "1775d6610cba46eaa913cf969fa82214": {
     "model_module": "@jupyter-widgets/base",
     "model_module_version": "1.2.0",
     "model_name": "LayoutModel",
     "state": {
      "_model_module": "@jupyter-widgets/base",
      "_model_module_version": "1.2.0",
      "_model_name": "LayoutModel",
      "_view_count": null,
      "_view_module": "@jupyter-widgets/base",
      "_view_module_version": "1.2.0",
      "_view_name": "LayoutView",
      "align_content": null,
      "align_items": null,
      "align_self": null,
      "border": null,
      "bottom": null,
      "display": null,
      "flex": null,
      "flex_flow": null,
      "grid_area": null,
      "grid_auto_columns": null,
      "grid_auto_flow": null,
      "grid_auto_rows": null,
      "grid_column": null,
      "grid_gap": null,
      "grid_row": null,
      "grid_template_areas": null,
      "grid_template_columns": null,
      "grid_template_rows": null,
      "height": null,
      "justify_content": null,
      "justify_items": null,
      "left": null,
      "margin": null,
      "max_height": null,
      "max_width": null,
      "min_height": null,
      "min_width": null,
      "object_fit": null,
      "object_position": null,
      "order": null,
      "overflow": null,
      "overflow_x": null,
      "overflow_y": null,
      "padding": null,
      "right": null,
      "top": null,
      "visibility": null,
      "width": null
     }
    },
    "17a04dc1c95f4f228dcb31bf4c5cd258": {
     "model_module": "@jupyter-widgets/output",
     "model_module_version": "1.0.0",
     "model_name": "OutputModel",
     "state": {
      "_dom_classes": [],
      "_model_module": "@jupyter-widgets/output",
      "_model_module_version": "1.0.0",
      "_model_name": "OutputModel",
      "_view_count": null,
      "_view_module": "@jupyter-widgets/output",
      "_view_module_version": "1.0.0",
      "_view_name": "OutputView",
      "layout": "IPY_MODEL_448b952058f14701800749fd6fb36466",
      "msg_id": "",
      "outputs": [
       {
        "data": {
         "image/png": "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\n",
         "text/plain": "<Figure size 640x480 with 1 Axes>"
        },
        "metadata": {},
        "output_type": "display_data"
       }
      ]
     }
    },
    "1d6ad92370174810828049529b2c076f": {
     "model_module": "@jupyter-widgets/controls",
     "model_module_version": "1.5.0",
     "model_name": "VBoxModel",
     "state": {
      "_dom_classes": [],
      "_model_module": "@jupyter-widgets/controls",
      "_model_module_version": "1.5.0",
      "_model_name": "VBoxModel",
      "_view_count": null,
      "_view_module": "@jupyter-widgets/controls",
      "_view_module_version": "1.5.0",
      "_view_name": "VBoxView",
      "box_style": "",
      "children": [
       "IPY_MODEL_9ba3319a97d0416b879014bb6041bc81",
       "IPY_MODEL_38bd52c630f348adb00f1be41dabf6d2"
      ],
      "layout": "IPY_MODEL_fb4cab679699497cb148c5644b35a4cb"
     }
    },
    "1f9504bbf48940f299b312a22141fdbc": {
     "model_module": "@jupyter-widgets/controls",
     "model_module_version": "1.5.0",
     "model_name": "SliderStyleModel",
     "state": {
      "_model_module": "@jupyter-widgets/controls",
      "_model_module_version": "1.5.0",
      "_model_name": "SliderStyleModel",
      "_view_count": null,
      "_view_module": "@jupyter-widgets/base",
      "_view_module_version": "1.2.0",
      "_view_name": "StyleView",
      "description_width": "",
      "handle_color": null
     }
    },
    "21415f1f946243e4b39e8ee199ba227d": {
     "model_module": "@jupyter-widgets/base",
     "model_module_version": "1.2.0",
     "model_name": "LayoutModel",
     "state": {
      "_model_module": "@jupyter-widgets/base",
      "_model_module_version": "1.2.0",
      "_model_name": "LayoutModel",
      "_view_count": null,
      "_view_module": "@jupyter-widgets/base",
      "_view_module_version": "1.2.0",
      "_view_name": "LayoutView",
      "align_content": null,
      "align_items": null,
      "align_self": null,
      "border": null,
      "bottom": null,
      "display": null,
      "flex": null,
      "flex_flow": null,
      "grid_area": null,
      "grid_auto_columns": null,
      "grid_auto_flow": null,
      "grid_auto_rows": null,
      "grid_column": null,
      "grid_gap": null,
      "grid_row": null,
      "grid_template_areas": null,
      "grid_template_columns": null,
      "grid_template_rows": null,
      "height": null,
      "justify_content": null,
      "justify_items": null,
      "left": null,
      "margin": null,
      "max_height": null,
      "max_width": null,
      "min_height": null,
      "min_width": null,
      "object_fit": null,
      "object_position": null,
      "order": null,
      "overflow": null,
      "overflow_x": null,
      "overflow_y": null,
      "padding": null,
      "right": null,
      "top": null,
      "visibility": null,
      "width": null
     }
    },
    "24e6dd767cc0458d80a200d617a02789": {
     "model_module": "@jupyter-widgets/controls",
     "model_module_version": "1.5.0",
     "model_name": "FloatSliderModel",
     "state": {
      "_dom_classes": [],
      "_model_module": "@jupyter-widgets/controls",
      "_model_module_version": "1.5.0",
      "_model_name": "FloatSliderModel",
      "_view_count": null,
      "_view_module": "@jupyter-widgets/controls",
      "_view_module_version": "1.5.0",
      "_view_name": "FloatSliderView",
      "continuous_update": true,
      "description": "Value 3",
      "description_tooltip": null,
      "disabled": false,
      "layout": "IPY_MODEL_ad1d39fec90f4c38b1027cf6a93c5b5a",
      "max": 10,
      "min": -10,
      "orientation": "horizontal",
      "readout": true,
      "readout_format": ".2f",
      "step": 0.1,
      "style": "IPY_MODEL_fc8a0eee070946e1a2e4e1c52a75c1d3",
      "value": 0
     }
    },
    "2613743870ea43c8be9e56ecd93c9f7f": {
     "model_module": "@jupyter-widgets/base",
     "model_module_version": "1.2.0",
     "model_name": "LayoutModel",
     "state": {
      "_model_module": "@jupyter-widgets/base",
      "_model_module_version": "1.2.0",
      "_model_name": "LayoutModel",
      "_view_count": null,
      "_view_module": "@jupyter-widgets/base",
      "_view_module_version": "1.2.0",
      "_view_name": "LayoutView",
      "align_content": null,
      "align_items": null,
      "align_self": null,
      "border": null,
      "bottom": null,
      "display": null,
      "flex": null,
      "flex_flow": null,
      "grid_area": null,
      "grid_auto_columns": null,
      "grid_auto_flow": null,
      "grid_auto_rows": null,
      "grid_column": null,
      "grid_gap": null,
      "grid_row": null,
      "grid_template_areas": null,
      "grid_template_columns": null,
      "grid_template_rows": null,
      "height": null,
      "justify_content": null,
      "justify_items": null,
      "left": null,
      "margin": null,
      "max_height": null,
      "max_width": null,
      "min_height": null,
      "min_width": null,
      "object_fit": null,
      "object_position": null,
      "order": null,
      "overflow": null,
      "overflow_x": null,
      "overflow_y": null,
      "padding": null,
      "right": null,
      "top": null,
      "visibility": null,
      "width": null
     }
    },
    "34500f011f744b9a8e21a2540d418fa1": {
     "model_module": "@jupyter-widgets/output",
     "model_module_version": "1.0.0",
     "model_name": "OutputModel",
     "state": {
      "_dom_classes": [],
      "_model_module": "@jupyter-widgets/output",
      "_model_module_version": "1.0.0",
      "_model_name": "OutputModel",
      "_view_count": null,
      "_view_module": "@jupyter-widgets/output",
      "_view_module_version": "1.0.0",
      "_view_name": "OutputView",
      "layout": "IPY_MODEL_61844e09182a4fdfb69a0805525aee65",
      "msg_id": "",
      "outputs": [
       {
        "data": {
         "image/png": "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\n",
         "text/plain": "<Figure size 640x480 with 1 Axes>"
        },
        "metadata": {},
        "output_type": "display_data"
       }
      ]
     }
    },
    "36139250ebf643adb77c5ce42a5dd7b2": {
     "model_module": "@jupyter-widgets/controls",
     "model_module_version": "1.5.0",
     "model_name": "VBoxModel",
     "state": {
      "_dom_classes": [
       "widget-interact"
      ],
      "_model_module": "@jupyter-widgets/controls",
      "_model_module_version": "1.5.0",
      "_model_name": "VBoxModel",
      "_view_count": null,
      "_view_module": "@jupyter-widgets/controls",
      "_view_module_version": "1.5.0",
      "_view_name": "VBoxView",
      "box_style": "",
      "children": [
       "IPY_MODEL_0870243402c24fb38e67bd8f72e0e951",
       "IPY_MODEL_824c0055ff35439488695920bf8be202",
       "IPY_MODEL_24e6dd767cc0458d80a200d617a02789",
       "IPY_MODEL_15874920117f4b39b00983f8d41089b1",
       "IPY_MODEL_b0ddf38fd04646eb914cbcdf5544f154",
       "IPY_MODEL_fab06a9298d94907b6a27718f7163436"
      ],
      "layout": "IPY_MODEL_1775d6610cba46eaa913cf969fa82214"
     }
    },
    "389cf591604345aab65d2554c754774f": {
     "model_module": "@jupyter-widgets/controls",
     "model_module_version": "1.5.0",
     "model_name": "SliderStyleModel",
     "state": {
      "_model_module": "@jupyter-widgets/controls",
      "_model_module_version": "1.5.0",
      "_model_name": "SliderStyleModel",
      "_view_count": null,
      "_view_module": "@jupyter-widgets/base",
      "_view_module_version": "1.2.0",
      "_view_name": "StyleView",
      "description_width": "",
      "handle_color": null
     }
    },
    "38bd52c630f348adb00f1be41dabf6d2": {
     "model_module": "@jupyter-widgets/output",
     "model_module_version": "1.0.0",
     "model_name": "OutputModel",
     "state": {
      "_dom_classes": [],
      "_model_module": "@jupyter-widgets/output",
      "_model_module_version": "1.0.0",
      "_model_name": "OutputModel",
      "_view_count": null,
      "_view_module": "@jupyter-widgets/output",
      "_view_module_version": "1.0.0",
      "_view_name": "OutputView",
      "layout": "IPY_MODEL_f9ec389b52384bad808f2477ed88e689",
      "msg_id": "",
      "outputs": [
       {
        "data": {
         "image/png": "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\n",
         "text/plain": "<Figure size 640x480 with 1 Axes>"
        },
        "metadata": {},
        "output_type": "display_data"
       }
      ]
     }
    },
    "3b5f0b8df09b43df8246aeb044d48935": {
     "model_module": "@jupyter-widgets/base",
     "model_module_version": "1.2.0",
     "model_name": "LayoutModel",
     "state": {
      "_model_module": "@jupyter-widgets/base",
      "_model_module_version": "1.2.0",
      "_model_name": "LayoutModel",
      "_view_count": null,
      "_view_module": "@jupyter-widgets/base",
      "_view_module_version": "1.2.0",
      "_view_name": "LayoutView",
      "align_content": null,
      "align_items": null,
      "align_self": null,
      "border": null,
      "bottom": null,
      "display": null,
      "flex": null,
      "flex_flow": null,
      "grid_area": null,
      "grid_auto_columns": null,
      "grid_auto_flow": null,
      "grid_auto_rows": null,
      "grid_column": null,
      "grid_gap": null,
      "grid_row": null,
      "grid_template_areas": null,
      "grid_template_columns": null,
      "grid_template_rows": null,
      "height": null,
      "justify_content": null,
      "justify_items": null,
      "left": null,
      "margin": null,
      "max_height": null,
      "max_width": null,
      "min_height": null,
      "min_width": null,
      "object_fit": null,
      "object_position": null,
      "order": null,
      "overflow": null,
      "overflow_x": null,
      "overflow_y": null,
      "padding": null,
      "right": null,
      "top": null,
      "visibility": null,
      "width": null
     }
    },
    "448b952058f14701800749fd6fb36466": {
     "model_module": "@jupyter-widgets/base",
     "model_module_version": "1.2.0",
     "model_name": "LayoutModel",
     "state": {
      "_model_module": "@jupyter-widgets/base",
      "_model_module_version": "1.2.0",
      "_model_name": "LayoutModel",
      "_view_count": null,
      "_view_module": "@jupyter-widgets/base",
      "_view_module_version": "1.2.0",
      "_view_name": "LayoutView",
      "align_content": null,
      "align_items": null,
      "align_self": null,
      "border": null,
      "bottom": null,
      "display": null,
      "flex": null,
      "flex_flow": null,
      "grid_area": null,
      "grid_auto_columns": null,
      "grid_auto_flow": null,
      "grid_auto_rows": null,
      "grid_column": null,
      "grid_gap": null,
      "grid_row": null,
      "grid_template_areas": null,
      "grid_template_columns": null,
      "grid_template_rows": null,
      "height": null,
      "justify_content": null,
      "justify_items": null,
      "left": null,
      "margin": null,
      "max_height": null,
      "max_width": null,
      "min_height": null,
      "min_width": null,
      "object_fit": null,
      "object_position": null,
      "order": null,
      "overflow": null,
      "overflow_x": null,
      "overflow_y": null,
      "padding": null,
      "right": null,
      "top": null,
      "visibility": null,
      "width": null
     }
    },
    "50598066929a44dc89a2db14e38caa0a": {
     "model_module": "@jupyter-widgets/controls",
     "model_module_version": "1.5.0",
     "model_name": "VBoxModel",
     "state": {
      "_dom_classes": [],
      "_model_module": "@jupyter-widgets/controls",
      "_model_module_version": "1.5.0",
      "_model_name": "VBoxModel",
      "_view_count": null,
      "_view_module": "@jupyter-widgets/controls",
      "_view_module_version": "1.5.0",
      "_view_name": "VBoxView",
      "box_style": "",
      "children": [
       "IPY_MODEL_df53b921e5f745169b87415afe8c37ea",
       "IPY_MODEL_34500f011f744b9a8e21a2540d418fa1"
      ],
      "layout": "IPY_MODEL_9a11e23c62c146feb97fbfa01ba5832b"
     }
    },
    "56deb2345c4c4b72a65795df861b961e": {
     "model_module": "@jupyter-widgets/base",
     "model_module_version": "1.2.0",
     "model_name": "LayoutModel",
     "state": {
      "_model_module": "@jupyter-widgets/base",
      "_model_module_version": "1.2.0",
      "_model_name": "LayoutModel",
      "_view_count": null,
      "_view_module": "@jupyter-widgets/base",
      "_view_module_version": "1.2.0",
      "_view_name": "LayoutView",
      "align_content": null,
      "align_items": null,
      "align_self": null,
      "border": null,
      "bottom": null,
      "display": null,
      "flex": null,
      "flex_flow": null,
      "grid_area": null,
      "grid_auto_columns": null,
      "grid_auto_flow": null,
      "grid_auto_rows": null,
      "grid_column": null,
      "grid_gap": null,
      "grid_row": null,
      "grid_template_areas": null,
      "grid_template_columns": null,
      "grid_template_rows": null,
      "height": null,
      "justify_content": null,
      "justify_items": null,
      "left": null,
      "margin": null,
      "max_height": null,
      "max_width": null,
      "min_height": null,
      "min_width": null,
      "object_fit": null,
      "object_position": null,
      "order": null,
      "overflow": null,
      "overflow_x": null,
      "overflow_y": null,
      "padding": null,
      "right": null,
      "top": null,
      "visibility": null,
      "width": null
     }
    },
    "5837b13d22754ec5b335de5dfe392e50": {
     "model_module": "@jupyter-widgets/base",
     "model_module_version": "1.2.0",
     "model_name": "LayoutModel",
     "state": {
      "_model_module": "@jupyter-widgets/base",
      "_model_module_version": "1.2.0",
      "_model_name": "LayoutModel",
      "_view_count": null,
      "_view_module": "@jupyter-widgets/base",
      "_view_module_version": "1.2.0",
      "_view_name": "LayoutView",
      "align_content": null,
      "align_items": null,
      "align_self": null,
      "border": null,
      "bottom": null,
      "display": null,
      "flex": null,
      "flex_flow": null,
      "grid_area": null,
      "grid_auto_columns": null,
      "grid_auto_flow": null,
      "grid_auto_rows": null,
      "grid_column": null,
      "grid_gap": null,
      "grid_row": null,
      "grid_template_areas": null,
      "grid_template_columns": null,
      "grid_template_rows": null,
      "height": null,
      "justify_content": null,
      "justify_items": null,
      "left": null,
      "margin": null,
      "max_height": null,
      "max_width": null,
      "min_height": null,
      "min_width": null,
      "object_fit": null,
      "object_position": null,
      "order": null,
      "overflow": null,
      "overflow_x": null,
      "overflow_y": null,
      "padding": null,
      "right": null,
      "top": null,
      "visibility": null,
      "width": null
     }
    },
    "5a8c8fed6ee14d3a884223d88ccaf056": {
     "model_module": "@jupyter-widgets/controls",
     "model_module_version": "1.5.0",
     "model_name": "FloatSliderModel",
     "state": {
      "_dom_classes": [],
      "_model_module": "@jupyter-widgets/controls",
      "_model_module_version": "1.5.0",
      "_model_name": "FloatSliderModel",
      "_view_count": null,
      "_view_module": "@jupyter-widgets/controls",
      "_view_module_version": "1.5.0",
      "_view_name": "FloatSliderView",
      "continuous_update": true,
      "description": "Value 4",
      "description_tooltip": null,
      "disabled": false,
      "layout": "IPY_MODEL_6101535d5d0240e8828e0fd072e74aea",
      "max": 10,
      "min": -10,
      "orientation": "horizontal",
      "readout": true,
      "readout_format": ".2f",
      "step": 0.1,
      "style": "IPY_MODEL_1f9504bbf48940f299b312a22141fdbc",
      "value": 0
     }
    },
    "5dcedf3afc8a46baba6b3ae7276ad539": {
     "model_module": "@jupyter-widgets/controls",
     "model_module_version": "1.5.0",
     "model_name": "VBoxModel",
     "state": {
      "_dom_classes": [
       "widget-interact"
      ],
      "_model_module": "@jupyter-widgets/controls",
      "_model_module_version": "1.5.0",
      "_model_name": "VBoxModel",
      "_view_count": null,
      "_view_module": "@jupyter-widgets/controls",
      "_view_module_version": "1.5.0",
      "_view_name": "VBoxView",
      "box_style": "",
      "children": [
       "IPY_MODEL_1333e51ac3ba462db5e14e305d70f856",
       "IPY_MODEL_646960ee079b4735a9e2e4b7a0175cc7",
       "IPY_MODEL_e8152096e55647a6a31a4c5c35c3d6dd",
       "IPY_MODEL_5a8c8fed6ee14d3a884223d88ccaf056",
       "IPY_MODEL_e5b581038ddb43678ace4008622f432a",
       "IPY_MODEL_fc825b1889c14a9b9010026e28439fec"
      ],
      "layout": "IPY_MODEL_6d4dab85fefa4c669f705be36f3ec800"
     }
    },
    "6101535d5d0240e8828e0fd072e74aea": {
     "model_module": "@jupyter-widgets/base",
     "model_module_version": "1.2.0",
     "model_name": "LayoutModel",
     "state": {
      "_model_module": "@jupyter-widgets/base",
      "_model_module_version": "1.2.0",
      "_model_name": "LayoutModel",
      "_view_count": null,
      "_view_module": "@jupyter-widgets/base",
      "_view_module_version": "1.2.0",
      "_view_name": "LayoutView",
      "align_content": null,
      "align_items": null,
      "align_self": null,
      "border": null,
      "bottom": null,
      "display": null,
      "flex": null,
      "flex_flow": null,
      "grid_area": null,
      "grid_auto_columns": null,
      "grid_auto_flow": null,
      "grid_auto_rows": null,
      "grid_column": null,
      "grid_gap": null,
      "grid_row": null,
      "grid_template_areas": null,
      "grid_template_columns": null,
      "grid_template_rows": null,
      "height": null,
      "justify_content": null,
      "justify_items": null,
      "left": null,
      "margin": null,
      "max_height": null,
      "max_width": null,
      "min_height": null,
      "min_width": null,
      "object_fit": null,
      "object_position": null,
      "order": null,
      "overflow": null,
      "overflow_x": null,
      "overflow_y": null,
      "padding": null,
      "right": null,
      "top": null,
      "visibility": null,
      "width": null
     }
    },
    "61844e09182a4fdfb69a0805525aee65": {
     "model_module": "@jupyter-widgets/base",
     "model_module_version": "1.2.0",
     "model_name": "LayoutModel",
     "state": {
      "_model_module": "@jupyter-widgets/base",
      "_model_module_version": "1.2.0",
      "_model_name": "LayoutModel",
      "_view_count": null,
      "_view_module": "@jupyter-widgets/base",
      "_view_module_version": "1.2.0",
      "_view_name": "LayoutView",
      "align_content": null,
      "align_items": null,
      "align_self": null,
      "border": null,
      "bottom": null,
      "display": null,
      "flex": null,
      "flex_flow": null,
      "grid_area": null,
      "grid_auto_columns": null,
      "grid_auto_flow": null,
      "grid_auto_rows": null,
      "grid_column": null,
      "grid_gap": null,
      "grid_row": null,
      "grid_template_areas": null,
      "grid_template_columns": null,
      "grid_template_rows": null,
      "height": null,
      "justify_content": null,
      "justify_items": null,
      "left": null,
      "margin": null,
      "max_height": null,
      "max_width": null,
      "min_height": null,
      "min_width": null,
      "object_fit": null,
      "object_position": null,
      "order": null,
      "overflow": null,
      "overflow_x": null,
      "overflow_y": null,
      "padding": null,
      "right": null,
      "top": null,
      "visibility": null,
      "width": null
     }
    },
    "646960ee079b4735a9e2e4b7a0175cc7": {
     "model_module": "@jupyter-widgets/controls",
     "model_module_version": "1.5.0",
     "model_name": "FloatSliderModel",
     "state": {
      "_dom_classes": [],
      "_model_module": "@jupyter-widgets/controls",
      "_model_module_version": "1.5.0",
      "_model_name": "FloatSliderModel",
      "_view_count": null,
      "_view_module": "@jupyter-widgets/controls",
      "_view_module_version": "1.5.0",
      "_view_name": "FloatSliderView",
      "continuous_update": true,
      "description": "Value 2",
      "description_tooltip": null,
      "disabled": false,
      "layout": "IPY_MODEL_13f23b5d537b4b61823cd57aae649a9c",
      "max": 10,
      "min": -10,
      "orientation": "horizontal",
      "readout": true,
      "readout_format": ".2f",
      "step": 0.1,
      "style": "IPY_MODEL_69c64756491b4342af01992f48b04bc1",
      "value": 0
     }
    },
    "673603b2be524877ae23af77b07a4e61": {
     "model_module": "@jupyter-widgets/base",
     "model_module_version": "1.2.0",
     "model_name": "LayoutModel",
     "state": {
      "_model_module": "@jupyter-widgets/base",
      "_model_module_version": "1.2.0",
      "_model_name": "LayoutModel",
      "_view_count": null,
      "_view_module": "@jupyter-widgets/base",
      "_view_module_version": "1.2.0",
      "_view_name": "LayoutView",
      "align_content": null,
      "align_items": null,
      "align_self": null,
      "border": null,
      "bottom": null,
      "display": null,
      "flex": null,
      "flex_flow": null,
      "grid_area": null,
      "grid_auto_columns": null,
      "grid_auto_flow": null,
      "grid_auto_rows": null,
      "grid_column": null,
      "grid_gap": null,
      "grid_row": null,
      "grid_template_areas": null,
      "grid_template_columns": null,
      "grid_template_rows": null,
      "height": null,
      "justify_content": null,
      "justify_items": null,
      "left": null,
      "margin": null,
      "max_height": null,
      "max_width": null,
      "min_height": null,
      "min_width": null,
      "object_fit": null,
      "object_position": null,
      "order": null,
      "overflow": null,
      "overflow_x": null,
      "overflow_y": null,
      "padding": null,
      "right": null,
      "top": null,
      "visibility": null,
      "width": null
     }
    },
    "69c64756491b4342af01992f48b04bc1": {
     "model_module": "@jupyter-widgets/controls",
     "model_module_version": "1.5.0",
     "model_name": "SliderStyleModel",
     "state": {
      "_model_module": "@jupyter-widgets/controls",
      "_model_module_version": "1.5.0",
      "_model_name": "SliderStyleModel",
      "_view_count": null,
      "_view_module": "@jupyter-widgets/base",
      "_view_module_version": "1.2.0",
      "_view_name": "StyleView",
      "description_width": "",
      "handle_color": null
     }
    },
    "6d4dab85fefa4c669f705be36f3ec800": {
     "model_module": "@jupyter-widgets/base",
     "model_module_version": "1.2.0",
     "model_name": "LayoutModel",
     "state": {
      "_model_module": "@jupyter-widgets/base",
      "_model_module_version": "1.2.0",
      "_model_name": "LayoutModel",
      "_view_count": null,
      "_view_module": "@jupyter-widgets/base",
      "_view_module_version": "1.2.0",
      "_view_name": "LayoutView",
      "align_content": null,
      "align_items": null,
      "align_self": null,
      "border": null,
      "bottom": null,
      "display": null,
      "flex": null,
      "flex_flow": null,
      "grid_area": null,
      "grid_auto_columns": null,
      "grid_auto_flow": null,
      "grid_auto_rows": null,
      "grid_column": null,
      "grid_gap": null,
      "grid_row": null,
      "grid_template_areas": null,
      "grid_template_columns": null,
      "grid_template_rows": null,
      "height": null,
      "justify_content": null,
      "justify_items": null,
      "left": null,
      "margin": null,
      "max_height": null,
      "max_width": null,
      "min_height": null,
      "min_width": null,
      "object_fit": null,
      "object_position": null,
      "order": null,
      "overflow": null,
      "overflow_x": null,
      "overflow_y": null,
      "padding": null,
      "right": null,
      "top": null,
      "visibility": null,
      "width": null
     }
    },
    "6d8ff1ebed0342f9bd0aa2daefa3de52": {
     "model_module": "@jupyter-widgets/controls",
     "model_module_version": "1.5.0",
     "model_name": "SliderStyleModel",
     "state": {
      "_model_module": "@jupyter-widgets/controls",
      "_model_module_version": "1.5.0",
      "_model_name": "SliderStyleModel",
      "_view_count": null,
      "_view_module": "@jupyter-widgets/base",
      "_view_module_version": "1.2.0",
      "_view_name": "StyleView",
      "description_width": "",
      "handle_color": null
     }
    },
    "74ca86b1101b488c8c9ddb0816d6e08b": {
     "model_module": "@jupyter-widgets/controls",
     "model_module_version": "1.5.0",
     "model_name": "SliderStyleModel",
     "state": {
      "_model_module": "@jupyter-widgets/controls",
      "_model_module_version": "1.5.0",
      "_model_name": "SliderStyleModel",
      "_view_count": null,
      "_view_module": "@jupyter-widgets/base",
      "_view_module_version": "1.2.0",
      "_view_name": "StyleView",
      "description_width": "",
      "handle_color": null
     }
    },
    "824c0055ff35439488695920bf8be202": {
     "model_module": "@jupyter-widgets/controls",
     "model_module_version": "1.5.0",
     "model_name": "FloatSliderModel",
     "state": {
      "_dom_classes": [],
      "_model_module": "@jupyter-widgets/controls",
      "_model_module_version": "1.5.0",
      "_model_name": "FloatSliderModel",
      "_view_count": null,
      "_view_module": "@jupyter-widgets/controls",
      "_view_module_version": "1.5.0",
      "_view_name": "FloatSliderView",
      "continuous_update": true,
      "description": "Value 2",
      "description_tooltip": null,
      "disabled": false,
      "layout": "IPY_MODEL_673603b2be524877ae23af77b07a4e61",
      "max": 10,
      "min": -10,
      "orientation": "horizontal",
      "readout": true,
      "readout_format": ".2f",
      "step": 0.1,
      "style": "IPY_MODEL_6d8ff1ebed0342f9bd0aa2daefa3de52",
      "value": 0
     }
    },
    "8ecd19df4af142a595595c50504597a7": {
     "model_module": "@jupyter-widgets/base",
     "model_module_version": "1.2.0",
     "model_name": "LayoutModel",
     "state": {
      "_model_module": "@jupyter-widgets/base",
      "_model_module_version": "1.2.0",
      "_model_name": "LayoutModel",
      "_view_count": null,
      "_view_module": "@jupyter-widgets/base",
      "_view_module_version": "1.2.0",
      "_view_name": "LayoutView",
      "align_content": null,
      "align_items": null,
      "align_self": null,
      "border": null,
      "bottom": null,
      "display": null,
      "flex": null,
      "flex_flow": null,
      "grid_area": null,
      "grid_auto_columns": null,
      "grid_auto_flow": null,
      "grid_auto_rows": null,
      "grid_column": null,
      "grid_gap": null,
      "grid_row": null,
      "grid_template_areas": null,
      "grid_template_columns": null,
      "grid_template_rows": null,
      "height": null,
      "justify_content": null,
      "justify_items": null,
      "left": null,
      "margin": null,
      "max_height": null,
      "max_width": null,
      "min_height": null,
      "min_width": null,
      "object_fit": null,
      "object_position": null,
      "order": null,
      "overflow": null,
      "overflow_x": null,
      "overflow_y": null,
      "padding": null,
      "right": null,
      "top": null,
      "visibility": null,
      "width": null
     }
    },
    "90e8248d35b2450dac7f09f3042e0a78": {
     "model_module": "@jupyter-widgets/controls",
     "model_module_version": "1.5.0",
     "model_name": "SliderStyleModel",
     "state": {
      "_model_module": "@jupyter-widgets/controls",
      "_model_module_version": "1.5.0",
      "_model_name": "SliderStyleModel",
      "_view_count": null,
      "_view_module": "@jupyter-widgets/base",
      "_view_module_version": "1.2.0",
      "_view_name": "StyleView",
      "description_width": "",
      "handle_color": null
     }
    },
    "9a11e23c62c146feb97fbfa01ba5832b": {
     "model_module": "@jupyter-widgets/base",
     "model_module_version": "1.2.0",
     "model_name": "LayoutModel",
     "state": {
      "_model_module": "@jupyter-widgets/base",
      "_model_module_version": "1.2.0",
      "_model_name": "LayoutModel",
      "_view_count": null,
      "_view_module": "@jupyter-widgets/base",
      "_view_module_version": "1.2.0",
      "_view_name": "LayoutView",
      "align_content": null,
      "align_items": null,
      "align_self": null,
      "border": null,
      "bottom": null,
      "display": null,
      "flex": null,
      "flex_flow": null,
      "grid_area": null,
      "grid_auto_columns": null,
      "grid_auto_flow": null,
      "grid_auto_rows": null,
      "grid_column": null,
      "grid_gap": null,
      "grid_row": null,
      "grid_template_areas": null,
      "grid_template_columns": null,
      "grid_template_rows": null,
      "height": null,
      "justify_content": null,
      "justify_items": null,
      "left": null,
      "margin": null,
      "max_height": null,
      "max_width": null,
      "min_height": null,
      "min_width": null,
      "object_fit": null,
      "object_position": null,
      "order": null,
      "overflow": null,
      "overflow_x": null,
      "overflow_y": null,
      "padding": null,
      "right": null,
      "top": null,
      "visibility": null,
      "width": null
     }
    },
    "9ae0dd62e1bb446fb9de2168c9b35e50": {
     "model_module": "@jupyter-widgets/base",
     "model_module_version": "1.2.0",
     "model_name": "LayoutModel",
     "state": {
      "_model_module": "@jupyter-widgets/base",
      "_model_module_version": "1.2.0",
      "_model_name": "LayoutModel",
      "_view_count": null,
      "_view_module": "@jupyter-widgets/base",
      "_view_module_version": "1.2.0",
      "_view_name": "LayoutView",
      "align_content": null,
      "align_items": null,
      "align_self": null,
      "border": null,
      "bottom": null,
      "display": null,
      "flex": null,
      "flex_flow": null,
      "grid_area": null,
      "grid_auto_columns": null,
      "grid_auto_flow": null,
      "grid_auto_rows": null,
      "grid_column": null,
      "grid_gap": null,
      "grid_row": null,
      "grid_template_areas": null,
      "grid_template_columns": null,
      "grid_template_rows": null,
      "height": null,
      "justify_content": null,
      "justify_items": null,
      "left": null,
      "margin": null,
      "max_height": null,
      "max_width": null,
      "min_height": null,
      "min_width": null,
      "object_fit": null,
      "object_position": null,
      "order": null,
      "overflow": null,
      "overflow_x": null,
      "overflow_y": null,
      "padding": null,
      "right": null,
      "top": null,
      "visibility": null,
      "width": null
     }
    },
    "9ba3319a97d0416b879014bb6041bc81": {
     "model_module": "@jupyter-widgets/controls",
     "model_module_version": "1.5.0",
     "model_name": "FloatSliderModel",
     "state": {
      "_dom_classes": [],
      "_model_module": "@jupyter-widgets/controls",
      "_model_module_version": "1.5.0",
      "_model_name": "FloatSliderModel",
      "_view_count": null,
      "_view_module": "@jupyter-widgets/controls",
      "_view_module_version": "1.5.0",
      "_view_name": "FloatSliderView",
      "continuous_update": true,
      "description": "Input Value",
      "description_tooltip": null,
      "disabled": false,
      "layout": "IPY_MODEL_21415f1f946243e4b39e8ee199ba227d",
      "max": 8,
      "min": -8,
      "orientation": "horizontal",
      "readout": true,
      "readout_format": ".2f",
      "step": 0.1,
      "style": "IPY_MODEL_dc728ff1635d437d932bfcde9bf85259",
      "value": 0
     }
    },
    "ad1d39fec90f4c38b1027cf6a93c5b5a": {
     "model_module": "@jupyter-widgets/base",
     "model_module_version": "1.2.0",
     "model_name": "LayoutModel",
     "state": {
      "_model_module": "@jupyter-widgets/base",
      "_model_module_version": "1.2.0",
      "_model_name": "LayoutModel",
      "_view_count": null,
      "_view_module": "@jupyter-widgets/base",
      "_view_module_version": "1.2.0",
      "_view_name": "LayoutView",
      "align_content": null,
      "align_items": null,
      "align_self": null,
      "border": null,
      "bottom": null,
      "display": null,
      "flex": null,
      "flex_flow": null,
      "grid_area": null,
      "grid_auto_columns": null,
      "grid_auto_flow": null,
      "grid_auto_rows": null,
      "grid_column": null,
      "grid_gap": null,
      "grid_row": null,
      "grid_template_areas": null,
      "grid_template_columns": null,
      "grid_template_rows": null,
      "height": null,
      "justify_content": null,
      "justify_items": null,
      "left": null,
      "margin": null,
      "max_height": null,
      "max_width": null,
      "min_height": null,
      "min_width": null,
      "object_fit": null,
      "object_position": null,
      "order": null,
      "overflow": null,
      "overflow_x": null,
      "overflow_y": null,
      "padding": null,
      "right": null,
      "top": null,
      "visibility": null,
      "width": null
     }
    },
    "b0ddf38fd04646eb914cbcdf5544f154": {
     "model_module": "@jupyter-widgets/controls",
     "model_module_version": "1.5.0",
     "model_name": "FloatSliderModel",
     "state": {
      "_dom_classes": [],
      "_model_module": "@jupyter-widgets/controls",
      "_model_module_version": "1.5.0",
      "_model_name": "FloatSliderModel",
      "_view_count": null,
      "_view_module": "@jupyter-widgets/controls",
      "_view_module_version": "1.5.0",
      "_view_name": "FloatSliderView",
      "continuous_update": true,
      "description": "Value 5",
      "description_tooltip": null,
      "disabled": false,
      "layout": "IPY_MODEL_8ecd19df4af142a595595c50504597a7",
      "max": 10,
      "min": -10,
      "orientation": "horizontal",
      "readout": true,
      "readout_format": ".2f",
      "step": 0.1,
      "style": "IPY_MODEL_e76a2044dd5d4b10a10eaf17af654ccc",
      "value": 0
     }
    },
    "bb922eb63e114062b1d73ffbc2c8a4be": {
     "model_module": "@jupyter-widgets/controls",
     "model_module_version": "1.5.0",
     "model_name": "SliderStyleModel",
     "state": {
      "_model_module": "@jupyter-widgets/controls",
      "_model_module_version": "1.5.0",
      "_model_name": "SliderStyleModel",
      "_view_count": null,
      "_view_module": "@jupyter-widgets/base",
      "_view_module_version": "1.2.0",
      "_view_name": "StyleView",
      "description_width": "",
      "handle_color": null
     }
    },
    "d0d27a8c569540ca9c9b2cee5dc3c20c": {
     "model_module": "@jupyter-widgets/controls",
     "model_module_version": "1.5.0",
     "model_name": "SliderStyleModel",
     "state": {
      "_model_module": "@jupyter-widgets/controls",
      "_model_module_version": "1.5.0",
      "_model_name": "SliderStyleModel",
      "_view_count": null,
      "_view_module": "@jupyter-widgets/base",
      "_view_module_version": "1.2.0",
      "_view_name": "StyleView",
      "description_width": "",
      "handle_color": null
     }
    },
    "d85dee2237984e94bdee2e6bff6fb6cb": {
     "model_module": "@jupyter-widgets/base",
     "model_module_version": "1.2.0",
     "model_name": "LayoutModel",
     "state": {
      "_model_module": "@jupyter-widgets/base",
      "_model_module_version": "1.2.0",
      "_model_name": "LayoutModel",
      "_view_count": null,
      "_view_module": "@jupyter-widgets/base",
      "_view_module_version": "1.2.0",
      "_view_name": "LayoutView",
      "align_content": null,
      "align_items": null,
      "align_self": null,
      "border": null,
      "bottom": null,
      "display": null,
      "flex": null,
      "flex_flow": null,
      "grid_area": null,
      "grid_auto_columns": null,
      "grid_auto_flow": null,
      "grid_auto_rows": null,
      "grid_column": null,
      "grid_gap": null,
      "grid_row": null,
      "grid_template_areas": null,
      "grid_template_columns": null,
      "grid_template_rows": null,
      "height": null,
      "justify_content": null,
      "justify_items": null,
      "left": null,
      "margin": null,
      "max_height": null,
      "max_width": null,
      "min_height": null,
      "min_width": null,
      "object_fit": null,
      "object_position": null,
      "order": null,
      "overflow": null,
      "overflow_x": null,
      "overflow_y": null,
      "padding": null,
      "right": null,
      "top": null,
      "visibility": null,
      "width": null
     }
    },
    "dc728ff1635d437d932bfcde9bf85259": {
     "model_module": "@jupyter-widgets/controls",
     "model_module_version": "1.5.0",
     "model_name": "SliderStyleModel",
     "state": {
      "_model_module": "@jupyter-widgets/controls",
      "_model_module_version": "1.5.0",
      "_model_name": "SliderStyleModel",
      "_view_count": null,
      "_view_module": "@jupyter-widgets/base",
      "_view_module_version": "1.2.0",
      "_view_name": "StyleView",
      "description_width": "",
      "handle_color": null
     }
    },
    "df53b921e5f745169b87415afe8c37ea": {
     "model_module": "@jupyter-widgets/controls",
     "model_module_version": "1.5.0",
     "model_name": "FloatSliderModel",
     "state": {
      "_dom_classes": [],
      "_model_module": "@jupyter-widgets/controls",
      "_model_module_version": "1.5.0",
      "_model_name": "FloatSliderModel",
      "_view_count": null,
      "_view_module": "@jupyter-widgets/controls",
      "_view_module_version": "1.5.0",
      "_view_name": "FloatSliderView",
      "continuous_update": true,
      "description": "Input Value",
      "description_tooltip": null,
      "disabled": false,
      "layout": "IPY_MODEL_2613743870ea43c8be9e56ecd93c9f7f",
      "max": 8,
      "min": -8,
      "orientation": "horizontal",
      "readout": true,
      "readout_format": ".2f",
      "step": 0.1,
      "style": "IPY_MODEL_13cc4ca148f145118db5cdf26e602f47",
      "value": 0
     }
    },
    "e5b581038ddb43678ace4008622f432a": {
     "model_module": "@jupyter-widgets/controls",
     "model_module_version": "1.5.0",
     "model_name": "FloatSliderModel",
     "state": {
      "_dom_classes": [],
      "_model_module": "@jupyter-widgets/controls",
      "_model_module_version": "1.5.0",
      "_model_name": "FloatSliderModel",
      "_view_count": null,
      "_view_module": "@jupyter-widgets/controls",
      "_view_module_version": "1.5.0",
      "_view_name": "FloatSliderView",
      "continuous_update": true,
      "description": "Value 5",
      "description_tooltip": null,
      "disabled": false,
      "layout": "IPY_MODEL_e6f5402837334e559adbdf58fe920a7e",
      "max": 10,
      "min": -10,
      "orientation": "horizontal",
      "readout": true,
      "readout_format": ".2f",
      "step": 0.1,
      "style": "IPY_MODEL_74ca86b1101b488c8c9ddb0816d6e08b",
      "value": 0
     }
    },
    "e6f5402837334e559adbdf58fe920a7e": {
     "model_module": "@jupyter-widgets/base",
     "model_module_version": "1.2.0",
     "model_name": "LayoutModel",
     "state": {
      "_model_module": "@jupyter-widgets/base",
      "_model_module_version": "1.2.0",
      "_model_name": "LayoutModel",
      "_view_count": null,
      "_view_module": "@jupyter-widgets/base",
      "_view_module_version": "1.2.0",
      "_view_name": "LayoutView",
      "align_content": null,
      "align_items": null,
      "align_self": null,
      "border": null,
      "bottom": null,
      "display": null,
      "flex": null,
      "flex_flow": null,
      "grid_area": null,
      "grid_auto_columns": null,
      "grid_auto_flow": null,
      "grid_auto_rows": null,
      "grid_column": null,
      "grid_gap": null,
      "grid_row": null,
      "grid_template_areas": null,
      "grid_template_columns": null,
      "grid_template_rows": null,
      "height": null,
      "justify_content": null,
      "justify_items": null,
      "left": null,
      "margin": null,
      "max_height": null,
      "max_width": null,
      "min_height": null,
      "min_width": null,
      "object_fit": null,
      "object_position": null,
      "order": null,
      "overflow": null,
      "overflow_x": null,
      "overflow_y": null,
      "padding": null,
      "right": null,
      "top": null,
      "visibility": null,
      "width": null
     }
    },
    "e76a2044dd5d4b10a10eaf17af654ccc": {
     "model_module": "@jupyter-widgets/controls",
     "model_module_version": "1.5.0",
     "model_name": "SliderStyleModel",
     "state": {
      "_model_module": "@jupyter-widgets/controls",
      "_model_module_version": "1.5.0",
      "_model_name": "SliderStyleModel",
      "_view_count": null,
      "_view_module": "@jupyter-widgets/base",
      "_view_module_version": "1.2.0",
      "_view_name": "StyleView",
      "description_width": "",
      "handle_color": null
     }
    },
    "e8152096e55647a6a31a4c5c35c3d6dd": {
     "model_module": "@jupyter-widgets/controls",
     "model_module_version": "1.5.0",
     "model_name": "FloatSliderModel",
     "state": {
      "_dom_classes": [],
      "_model_module": "@jupyter-widgets/controls",
      "_model_module_version": "1.5.0",
      "_model_name": "FloatSliderModel",
      "_view_count": null,
      "_view_module": "@jupyter-widgets/controls",
      "_view_module_version": "1.5.0",
      "_view_name": "FloatSliderView",
      "continuous_update": true,
      "description": "Value 3",
      "description_tooltip": null,
      "disabled": false,
      "layout": "IPY_MODEL_11b756637e51411098378f68aa1dd9df",
      "max": 10,
      "min": -10,
      "orientation": "horizontal",
      "readout": true,
      "readout_format": ".2f",
      "step": 0.1,
      "style": "IPY_MODEL_0e8d69f93bdc435aaf9fd2e12604d347",
      "value": 0
     }
    },
    "f17f1ac5e3054a8da4aa462c3a6cce32": {
     "model_module": "@jupyter-widgets/controls",
     "model_module_version": "1.5.0",
     "model_name": "FloatSliderModel",
     "state": {
      "_dom_classes": [],
      "_model_module": "@jupyter-widgets/controls",
      "_model_module_version": "1.5.0",
      "_model_name": "FloatSliderModel",
      "_view_count": null,
      "_view_module": "@jupyter-widgets/controls",
      "_view_module_version": "1.5.0",
      "_view_name": "FloatSliderView",
      "continuous_update": true,
      "description": "Input Value",
      "description_tooltip": null,
      "disabled": false,
      "layout": "IPY_MODEL_d85dee2237984e94bdee2e6bff6fb6cb",
      "max": 8,
      "min": -8,
      "orientation": "horizontal",
      "readout": true,
      "readout_format": ".2f",
      "step": 0.1,
      "style": "IPY_MODEL_90e8248d35b2450dac7f09f3042e0a78",
      "value": 0
     }
    },
    "f9ec389b52384bad808f2477ed88e689": {
     "model_module": "@jupyter-widgets/base",
     "model_module_version": "1.2.0",
     "model_name": "LayoutModel",
     "state": {
      "_model_module": "@jupyter-widgets/base",
      "_model_module_version": "1.2.0",
      "_model_name": "LayoutModel",
      "_view_count": null,
      "_view_module": "@jupyter-widgets/base",
      "_view_module_version": "1.2.0",
      "_view_name": "LayoutView",
      "align_content": null,
      "align_items": null,
      "align_self": null,
      "border": null,
      "bottom": null,
      "display": null,
      "flex": null,
      "flex_flow": null,
      "grid_area": null,
      "grid_auto_columns": null,
      "grid_auto_flow": null,
      "grid_auto_rows": null,
      "grid_column": null,
      "grid_gap": null,
      "grid_row": null,
      "grid_template_areas": null,
      "grid_template_columns": null,
      "grid_template_rows": null,
      "height": null,
      "justify_content": null,
      "justify_items": null,
      "left": null,
      "margin": null,
      "max_height": null,
      "max_width": null,
      "min_height": null,
      "min_width": null,
      "object_fit": null,
      "object_position": null,
      "order": null,
      "overflow": null,
      "overflow_x": null,
      "overflow_y": null,
      "padding": null,
      "right": null,
      "top": null,
      "visibility": null,
      "width": null
     }
    },
    "fab06a9298d94907b6a27718f7163436": {
     "model_module": "@jupyter-widgets/output",
     "model_module_version": "1.0.0",
     "model_name": "OutputModel",
     "state": {
      "_dom_classes": [],
      "_model_module": "@jupyter-widgets/output",
      "_model_module_version": "1.0.0",
      "_model_name": "OutputModel",
      "_view_count": null,
      "_view_module": "@jupyter-widgets/output",
      "_view_module_version": "1.0.0",
      "_view_name": "OutputView",
      "layout": "IPY_MODEL_56deb2345c4c4b72a65795df861b961e",
      "msg_id": "",
      "outputs": [
       {
        "data": {
         "image/png": "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\n",
         "text/plain": "<Figure size 640x480 with 1 Axes>"
        },
        "metadata": {},
        "output_type": "display_data"
       }
      ]
     }
    },
    "fb338583c29643819a79d04e5adb7159": {
     "model_module": "@jupyter-widgets/base",
     "model_module_version": "1.2.0",
     "model_name": "LayoutModel",
     "state": {
      "_model_module": "@jupyter-widgets/base",
      "_model_module_version": "1.2.0",
      "_model_name": "LayoutModel",
      "_view_count": null,
      "_view_module": "@jupyter-widgets/base",
      "_view_module_version": "1.2.0",
      "_view_name": "LayoutView",
      "align_content": null,
      "align_items": null,
      "align_self": null,
      "border": null,
      "bottom": null,
      "display": null,
      "flex": null,
      "flex_flow": null,
      "grid_area": null,
      "grid_auto_columns": null,
      "grid_auto_flow": null,
      "grid_auto_rows": null,
      "grid_column": null,
      "grid_gap": null,
      "grid_row": null,
      "grid_template_areas": null,
      "grid_template_columns": null,
      "grid_template_rows": null,
      "height": null,
      "justify_content": null,
      "justify_items": null,
      "left": null,
      "margin": null,
      "max_height": null,
      "max_width": null,
      "min_height": null,
      "min_width": null,
      "object_fit": null,
      "object_position": null,
      "order": null,
      "overflow": null,
      "overflow_x": null,
      "overflow_y": null,
      "padding": null,
      "right": null,
      "top": null,
      "visibility": null,
      "width": null
     }
    },
    "fb4cab679699497cb148c5644b35a4cb": {
     "model_module": "@jupyter-widgets/base",
     "model_module_version": "1.2.0",
     "model_name": "LayoutModel",
     "state": {
      "_model_module": "@jupyter-widgets/base",
      "_model_module_version": "1.2.0",
      "_model_name": "LayoutModel",
      "_view_count": null,
      "_view_module": "@jupyter-widgets/base",
      "_view_module_version": "1.2.0",
      "_view_name": "LayoutView",
      "align_content": null,
      "align_items": null,
      "align_self": null,
      "border": null,
      "bottom": null,
      "display": null,
      "flex": null,
      "flex_flow": null,
      "grid_area": null,
      "grid_auto_columns": null,
      "grid_auto_flow": null,
      "grid_auto_rows": null,
      "grid_column": null,
      "grid_gap": null,
      "grid_row": null,
      "grid_template_areas": null,
      "grid_template_columns": null,
      "grid_template_rows": null,
      "height": null,
      "justify_content": null,
      "justify_items": null,
      "left": null,
      "margin": null,
      "max_height": null,
      "max_width": null,
      "min_height": null,
      "min_width": null,
      "object_fit": null,
      "object_position": null,
      "order": null,
      "overflow": null,
      "overflow_x": null,
      "overflow_y": null,
      "padding": null,
      "right": null,
      "top": null,
      "visibility": null,
      "width": null
     }
    },
    "fc825b1889c14a9b9010026e28439fec": {
     "model_module": "@jupyter-widgets/output",
     "model_module_version": "1.0.0",
     "model_name": "OutputModel",
     "state": {
      "_dom_classes": [],
      "_model_module": "@jupyter-widgets/output",
      "_model_module_version": "1.0.0",
      "_model_name": "OutputModel",
      "_view_count": null,
      "_view_module": "@jupyter-widgets/output",
      "_view_module_version": "1.0.0",
      "_view_name": "OutputView",
      "layout": "IPY_MODEL_fb338583c29643819a79d04e5adb7159",
      "msg_id": "",
      "outputs": [
       {
        "data": {
         "image/png": "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\n",
         "text/plain": "<Figure size 640x480 with 1 Axes>"
        },
        "metadata": {},
        "output_type": "display_data"
       }
      ]
     }
    },
    "fc8a0eee070946e1a2e4e1c52a75c1d3": {
     "model_module": "@jupyter-widgets/controls",
     "model_module_version": "1.5.0",
     "model_name": "SliderStyleModel",
     "state": {
      "_model_module": "@jupyter-widgets/controls",
      "_model_module_version": "1.5.0",
      "_model_name": "SliderStyleModel",
      "_view_count": null,
      "_view_module": "@jupyter-widgets/base",
      "_view_module_version": "1.2.0",
      "_view_name": "StyleView",
      "description_width": "",
      "handle_color": null
     }
    }
   }
  }
 },
 "nbformat": 4,
 "nbformat_minor": 0
}
