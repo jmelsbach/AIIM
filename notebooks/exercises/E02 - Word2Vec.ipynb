{
  "cells": [
    {
      "cell_type": "markdown",
      "metadata": {
        "id": "8OSoLnKRMZQS"
      },
      "source": [
        "![Logo Uni Köln](https://raw.githubusercontent.com/jmelsbach/ai-im/main/img/uni-logo.png)"
      ]
    },
    {
      "cell_type": "markdown",
      "metadata": {
        "id": "8L0w5U9pMdcx"
      },
      "source": [
        "# Exercise 02 Notebook - Preprocessing and Word2Vec\n"
      ]
    },
    {
      "cell_type": "markdown",
      "metadata": {
        "id": "0rW011jzMqlp"
      },
      "source": [
        "In this exercise you will create vector representations of words and documents.\n",
        "In the python eco system there are several libraries that make it very easy to implement to achieve this.\n",
        "\n",
        "In this notebook we will use the  `gensim` library for text preprocessing and the training of a `word2Vec` model."
      ]
    },
    {
      "cell_type": "code",
      "execution_count": null,
      "metadata": {
        "colab": {
          "base_uri": "https://localhost:8080/"
        },
        "id": "s7363iY3Q_FA",
        "outputId": "a3d47a5b-991f-4581-d818-32e78613cf69"
      },
      "outputs": [],
      "source": [
        "!pip uninstall gensim -y\n",
        "!pip install gensim"
      ]
    },
    {
      "cell_type": "markdown",
      "metadata": {
        "id": "IlKXi8Q4_47v"
      },
      "source": [
        "## 1. Using a pretrained Word2Vec Model\n",
        "In this part we will download a pretrained word2vec model that was trained on a huge news corpus by google. The model was trained in 2013 so the data includes news articles from before that year. The model is quite large so downloading it will take about 10 minutes."
      ]
    },
    {
      "cell_type": "code",
      "execution_count": null,
      "metadata": {
        "colab": {
          "base_uri": "https://localhost:8080/"
        },
        "id": "Gg5SeSjqz5_h",
        "outputId": "9af859c3-ff22-4ecf-ea6a-a9b5076e8641"
      },
      "outputs": [],
      "source": [
        "%%time\n",
        "import gensim.downloader as api\n",
        "# download takes about 10 minutes\n",
        "wv = api.load('word2vec-google-news-300')"
      ]
    },
    {
      "cell_type": "markdown",
      "metadata": {
        "id": "KYoHK4GeRDQE"
      },
      "source": [
        "Download has finished and we can now start to explore the model. As a first step find out how to get a vector for the word `king`. How many dimensions has the vector? You can learn how to extract the word vectors in [this word2vec tutorial](https://radimrehurek.com/gensim/auto_examples/tutorials/run_word2vec.html#introducing-the-word2vec-model)."
      ]
    },
    {
      "cell_type": "code",
      "execution_count": null,
      "metadata": {
        "id": "-CoejC8dRqZP"
      },
      "outputs": [],
      "source": [
        "# Get the word vector of the word 'king'\n"
      ]
    },
    {
      "cell_type": "code",
      "execution_count": null,
      "metadata": {
        "colab": {
          "base_uri": "https://localhost:8080/"
        },
        "id": "LBiY0bsnRxpV",
        "outputId": "0b17a4f5-d533-4c27-b259-9c03f3e37faa"
      },
      "outputs": [],
      "source": [
        "# Proof that the dimensionality is indeed 300\n"
      ]
    },
    {
      "cell_type": "code",
      "execution_count": null,
      "metadata": {
        "colab": {
          "base_uri": "https://localhost:8080/"
        },
        "id": "mHnRxmtWR673",
        "outputId": "7e985968-7422-4d57-b9f6-e7905d7d166c"
      },
      "outputs": [],
      "source": [
        "# What are the most similar words to king?\n"
      ]
    },
    {
      "cell_type": "code",
      "execution_count": null,
      "metadata": {
        "colab": {
          "base_uri": "https://localhost:8080/"
        },
        "id": "-qIWikLNSFwm",
        "outputId": "b8f6c407-f71a-491a-c096-a7368b93af94"
      },
      "outputs": [],
      "source": [
        "# Test if the example from the lecture works: v(King) - v(Man) + v(Woman) = v(Queen)\n"
      ]
    },
    {
      "cell_type": "markdown",
      "metadata": {
        "id": "zsxYE0mbNA9M"
      },
      "source": [
        "### 1.1 Exploring the model"
      ]
    },
    {
      "cell_type": "markdown",
      "metadata": {
        "id": "Sfjj8oagIRGi"
      },
      "source": [
        "We saw in the lecture that it can useful to preprocess the text data before training a vectorization technique. Try to find out by finding examples how the data in the google corpus has been preprocessed. Things you should check:\n",
        "* lowercasing\n",
        "* stopword removal\n",
        "* stemming\n",
        "* n-grams"
      ]
    },
    {
      "cell_type": "code",
      "execution_count": null,
      "metadata": {
        "id": "v-Xk9T5WDDGG"
      },
      "outputs": [],
      "source": []
    },
    {
      "cell_type": "markdown",
      "metadata": {
        "id": "BMIWsgXFDR49"
      },
      "source": [
        "As you are now more familar with the model complete the following tasks:\n",
        "* use analogies to find out the capital 'Cameroon'\n",
        "* use analogies to find out who was the prime minister of spain\n",
        "* use analogies to find out what the German national dish is\n",
        "* find other examples where this works out and makes sense\n",
        "* find examples where this doesn't work well\n",
        "* use the word2vec model to find out which of the following words does not fit in the group: `[\"breakfast\", \"cereal\", \"dinner\", \"lunch\"]`"
      ]
    },
    {
      "cell_type": "code",
      "execution_count": null,
      "metadata": {
        "colab": {
          "base_uri": "https://localhost:8080/"
        },
        "id": "wVrQqceehSwK",
        "outputId": "2e44ccc1-6376-4e8e-81b4-ec0b91cec850"
      },
      "outputs": [],
      "source": []
    },
    {
      "cell_type": "code",
      "execution_count": null,
      "metadata": {
        "colab": {
          "base_uri": "https://localhost:8080/"
        },
        "id": "yB3UIoiUiiw-",
        "outputId": "88b36e43-ff42-4fc3-fc6f-1f4eaf83e6a0"
      },
      "outputs": [],
      "source": []
    },
    {
      "cell_type": "code",
      "execution_count": null,
      "metadata": {
        "colab": {
          "base_uri": "https://localhost:8080/",
          "height": 35
        },
        "id": "IDQMOv69iisK",
        "outputId": "408e679d-3ee9-4372-ceed-7aead00934d7"
      },
      "outputs": [],
      "source": []
    },
    {
      "cell_type": "code",
      "execution_count": null,
      "metadata": {
        "id": "htUYaobuPGMv"
      },
      "outputs": [],
      "source": []
    },
    {
      "cell_type": "markdown",
      "metadata": {
        "id": "tBrjR842JMBg"
      },
      "source": [
        "### 1.2 Bias in word embeddings\n",
        "Word2Vec learns word relationships on a training corpus. If there is a bias in the training corpus, there is a great chance that those are also reflected in the resulting word embeddings. [This Paper](https://arxiv.org/pdf/1607.06520.pdf) has studied bias in word2vec word embeddings. Look at the examples given in the paper and try if you can reproduce any of them."
      ]
    },
    {
      "cell_type": "code",
      "execution_count": null,
      "metadata": {
        "colab": {
          "base_uri": "https://localhost:8080/"
        },
        "id": "jBQCY1iSDte6",
        "outputId": "8bcf085a-6aba-4d5f-e35e-af16df5900f1"
      },
      "outputs": [],
      "source": [
        "wv.most_similar(positive=['computer_programmer', 'woman'], negative=['man'])"
      ]
    },
    {
      "cell_type": "markdown",
      "metadata": {
        "id": "a2ipgquWNTm0"
      },
      "source": [
        "### 1.3 Visualizing Word Embeddings\n",
        "Word Embeddings usually live in a very high dimensional space. Visualizing data with more than three dimensions is very difficult and becomes impossible very quickly.\n",
        "\n",
        "If we want to visualize a high dimensional vector we have to use so called dimensionality reduction techniques that are able to reduce the dimensions of a group of vectors and preserve relative properties. It is needless to say that you lose a lot of information if you reduce the dimensionality but is is a good way to visualize the relation between word embeddings. The following code uses the so called `principal component analysis (PCA)`  to make 2-dimensional vectors. Click [here](https://scikit-learn.org/stable/modules/generated/sklearn.decomposition.PCA.html) for details about the implementation."
      ]
    },
    {
      "cell_type": "code",
      "execution_count": null,
      "metadata": {
        "id": "o0YP2TyRPVeO"
      },
      "outputs": [],
      "source": [
        "from sklearn.decomposition import PCA\n",
        "import matplotlib.pyplot as plt\n",
        "import numpy as np\n",
        "\n",
        "np.random.seed(0)\n",
        "def display_pca_scatterplot(model, words):\n",
        "\n",
        "\n",
        "    word_vectors = np.array([model[w] for w in words])\n",
        "\n",
        "    twodim = PCA().fit_transform(word_vectors)[:,:2]\n",
        "\n",
        "    plt.figure(figsize=(20,12))\n",
        "    plt.rcParams.update({'font.size': 18})\n",
        "    plt.scatter(twodim[:,0], twodim[:,1], edgecolors='k', c='r')\n",
        "    for word, (x,y) in zip(words, twodim):\n",
        "        plt.text(x+0.05, y+0.05, word)"
      ]
    },
    {
      "cell_type": "markdown",
      "metadata": {
        "id": "3HMPC7iCPGDW"
      },
      "source": [
        "Create a list of about 20 words you would like to plot in the diagramm."
      ]
    },
    {
      "cell_type": "code",
      "execution_count": null,
      "metadata": {
        "id": "EhA7lt4EPfeq"
      },
      "outputs": [],
      "source": [
        "word_list = ['Germany']"
      ]
    },
    {
      "cell_type": "markdown",
      "metadata": {
        "id": "1OXnJo9cPPUS"
      },
      "source": [
        "Run the `display_pca_scatterplot` function and interpret the results."
      ]
    },
    {
      "cell_type": "code",
      "execution_count": null,
      "metadata": {
        "colab": {
          "base_uri": "https://localhost:8080/",
          "height": 139
        },
        "id": "VthHKW5lPYRO",
        "outputId": "82caf2a1-9a5b-42d3-93d9-cfd0fc1f036d"
      },
      "outputs": [],
      "source": [
        "display_pca_scatterplot(wv, word_list)"
      ]
    },
    {
      "cell_type": "markdown",
      "metadata": {
        "id": "OP2N9osVmBMY"
      },
      "source": [
        "## 2. Training a Word2Vec Model\n",
        "In this part we will train our first word2vec model by our self using the gensim library. We will train our model on the text8 dataset which we can download directly with the gensim library. The dataset is already in the right format to train a model on it."
      ]
    },
    {
      "cell_type": "code",
      "execution_count": null,
      "metadata": {
        "id": "efvi52UNJwP3"
      },
      "outputs": [],
      "source": [
        "import gensim\n",
        "import gensim.downloader as api\n",
        "from gensim.models import Word2Vec"
      ]
    },
    {
      "cell_type": "code",
      "execution_count": null,
      "metadata": {
        "colab": {
          "base_uri": "https://localhost:8080/"
        },
        "id": "90Qf3VExKot_",
        "outputId": "93d42d53-59d4-41c9-d325-fb0fb6e5fe2f"
      },
      "outputs": [],
      "source": [
        "# text8 corpus consists of wikipedia data from the year 2006\n",
        "# http://mattmahoney.net/dc/textdata.html\n",
        "corpus = api.load('text8')"
      ]
    },
    {
      "cell_type": "markdown",
      "metadata": {
        "id": "nCoYK6fQLEuv"
      },
      "source": [
        "Look into the word2vec [documentation](https://radimrehurek.com/gensim_3.8.3/models/word2vec.html) of the gensim library and to the following tasks:\n",
        "\n",
        "Train a Word2Vec Model with the following hyperparameters:\n",
        "  * vector size of 100\n",
        "  * window size of 5\n",
        "  * negative_sampling of 3\n",
        "\n",
        "  The training of the model on the text8 dataset should take about 2 minutes."
      ]
    },
    {
      "cell_type": "code",
      "execution_count": null,
      "metadata": {
        "colab": {
          "base_uri": "https://localhost:8080/"
        },
        "id": "NVIKEiyiOcDi",
        "outputId": "4bfbb8cf-a1f3-4e52-bf40-681f9355ce31"
      },
      "outputs": [],
      "source": [
        "# train word2vec model\n",
        "%%time\n"
      ]
    },
    {
      "cell_type": "markdown",
      "metadata": {
        "id": "ivfJ5mE_SaJg"
      },
      "source": [
        "### 2.1 Exploring the model"
      ]
    },
    {
      "cell_type": "markdown",
      "metadata": {
        "id": "BhKqulIpPoAz"
      },
      "source": [
        "The resulting model is much smaller than the pretrained model we used previously. Solve the same tasks as in Section 1. Does it work as well?\n",
        "\n"
      ]
    },
    {
      "cell_type": "code",
      "execution_count": null,
      "metadata": {
        "colab": {
          "base_uri": "https://localhost:8080/"
        },
        "id": "1QnlmFbbOyw7",
        "outputId": "6bbed652-f33f-4146-b5e8-437f2a5c58b2"
      },
      "outputs": [],
      "source": [
        "# most similart to king\n"
      ]
    },
    {
      "cell_type": "code",
      "execution_count": null,
      "metadata": {
        "colab": {
          "base_uri": "https://localhost:8080/"
        },
        "id": "smpuTnS1Zill",
        "outputId": "3afdac31-a175-43a1-d477-126b1973a1a1"
      },
      "outputs": [],
      "source": [
        "# king - man + woman = ?\n"
      ]
    },
    {
      "cell_type": "code",
      "execution_count": null,
      "metadata": {
        "colab": {
          "base_uri": "https://localhost:8080/"
        },
        "id": "AWUQjLZUaIBN",
        "outputId": "1d9538ca-39ce-4d8b-e5fc-67b9d9ffc0de"
      },
      "outputs": [],
      "source": [
        "# What is the capital of Cameroon?"
      ]
    },
    {
      "cell_type": "markdown",
      "metadata": {
        "id": "sr_8UQc3Smgy"
      },
      "source": [
        "### 2.2 Visualizing Word Embeddings\n",
        "Once again visualize a list of words. You can use the list you created in Section 1 but you might have to make some adjustments."
      ]
    },
    {
      "cell_type": "code",
      "execution_count": null,
      "metadata": {
        "id": "PmWV9bN-PHKn"
      },
      "outputs": [],
      "source": [
        "# example list\n",
        "word_list = ['coffee', 'tea', 'beer', 'wine', 'water',                                      # Beverages\n",
        "             'spaghetti', 'hamburger', 'pizza',                                             # Food\n",
        "             'dog', 'horse', 'cat', 'mouse',                                                # Animals\n",
        "             'france', 'germany', 'hungary', 'china',                                       # countries\n",
        "             'school', 'college', 'university', 'institute',                                # Education\n",
        "             'soccer', 'basketball', 'baseball', 'football']                                # Sports"
      ]
    },
    {
      "cell_type": "code",
      "execution_count": null,
      "metadata": {
        "colab": {
          "base_uri": "https://localhost:8080/",
          "height": 684
        },
        "id": "Slhou_DmQUuM",
        "outputId": "61961e8a-b08d-45ae-9f08-b27f06b17c7c"
      },
      "outputs": [],
      "source": [
        "display_pca_scatterplot(wv, word_list)"
      ]
    },
    {
      "cell_type": "markdown",
      "metadata": {
        "id": "az_3IBqnSHrk"
      },
      "source": [
        "## 3. Training a word2vec model with a custom dataset"
      ]
    },
    {
      "cell_type": "markdown",
      "metadata": {
        "id": "h5in3NJDBF1a"
      },
      "source": [
        "In this section we will train word embeddings on our own dataset. We will preprocess the data by our selfes and will therefore have full control of the process."
      ]
    },
    {
      "cell_type": "markdown",
      "metadata": {
        "id": "3dmslK1N-kS0"
      },
      "source": [
        "### 3.1 Downloading the dataset\n",
        "First of all we need to download our dataset. You can directly read the data from this link: `https://raw.githubusercontent.com/LawrenceDuan/IMDb-Review-Analysis/master/IMDb_Reviews.csv` into a pandas `DataFrame`."
      ]
    },
    {
      "cell_type": "code",
      "execution_count": null,
      "metadata": {
        "id": "LON-cg0W-p0y"
      },
      "outputs": [],
      "source": [
        "# create a pandas dataframe and save it in a variable called data\n",
        "import pandas as pd\n",
        "\n",
        "data = pd.read_csv(\"https://raw.githubusercontent.com/LawrenceDuan/IMDb-Review-Analysis/master/IMDb_Reviews.csv\")"
      ]
    },
    {
      "cell_type": "code",
      "execution_count": null,
      "metadata": {
        "id": "s3Z47u3eP5Ho"
      },
      "outputs": [],
      "source": [
        "data"
      ]
    },
    {
      "cell_type": "markdown",
      "metadata": {
        "id": "rw2nNB84-vee"
      },
      "source": [
        "Explore the data.\n",
        "* What data kind of data is it?\n",
        "* How large is the dataset?\n",
        "* What are the labels?\n",
        "* How are the labels distributed?"
      ]
    },
    {
      "cell_type": "code",
      "execution_count": null,
      "metadata": {
        "colab": {
          "base_uri": "https://localhost:8080/",
          "height": 363
        },
        "id": "v9cXEAoa-wDL",
        "outputId": "3581b13e-e483-44af-f9b8-1e8a338ad5f9"
      },
      "outputs": [],
      "source": [
        "# get the first 10 rows of the data\n"
      ]
    },
    {
      "cell_type": "code",
      "execution_count": null,
      "metadata": {
        "colab": {
          "base_uri": "https://localhost:8080/"
        },
        "id": "YERljPCV-0pF",
        "outputId": "6e2dc9aa-bc8e-4c8f-e713-3e11ec22c26c"
      },
      "outputs": [],
      "source": [
        "# how many training examples do we have?\n"
      ]
    },
    {
      "cell_type": "code",
      "execution_count": null,
      "metadata": {
        "colab": {
          "base_uri": "https://localhost:8080/"
        },
        "id": "IRD4jprO-3S_",
        "outputId": "c06e8899-9441-43f6-a284-939ebc5447dd"
      },
      "outputs": [],
      "source": [
        "# how many labels do we have for each class?\n"
      ]
    },
    {
      "cell_type": "markdown",
      "metadata": {
        "id": "j8FcZ4mUt-fY"
      },
      "source": [
        "### 3.2 Preprocessing the corpus\n",
        "\n"
      ]
    },
    {
      "cell_type": "markdown",
      "metadata": {
        "id": "H99h6WetDLId"
      },
      "source": [
        "Implement a function that gets a text as an input and returns the preprocessed version of it. Your preprocessing should include the following steps:\n",
        "* lowercase text\n",
        "* remove punctuation\n",
        "* remove stopwords\n",
        "* remove numbers\n",
        "\n",
        "you can use the gensim library for the preprocessing. Visit the [documentation](https://radimrehurek.com/gensim_3.8.3/parsing/preprocessing.html) to learn how it works.\n"
      ]
    },
    {
      "cell_type": "code",
      "execution_count": null,
      "metadata": {
        "id": "eg8x5XvUx_rS"
      },
      "outputs": [],
      "source": [
        "# import gensim library for preprocessing\n",
        "import gensim.parsing.preprocessing as pp"
      ]
    },
    {
      "cell_type": "code",
      "execution_count": null,
      "metadata": {
        "id": "5mB00uMwyBTj"
      },
      "outputs": [],
      "source": [
        "# define preprocessing function\n",
        "def preprocess_text(text):\n",
        "  # lowercasing\n",
        "  # remove punctuation\n",
        "  # remove stopword\n",
        "  # remove numbers\n",
        "\n",
        "  return text"
      ]
    },
    {
      "cell_type": "markdown",
      "metadata": {
        "id": "ADqnGtRfF0AK"
      },
      "source": [
        "Execute the following Cell. Your function should print out something like ```text includes number```."
      ]
    },
    {
      "cell_type": "code",
      "execution_count": null,
      "metadata": {
        "colab": {
          "base_uri": "https://localhost:8080/"
        },
        "id": "Or8tl9koFltU",
        "outputId": "f6595e22-2583-48b5-9ac1-ff25f1f8a79c"
      },
      "outputs": [],
      "source": [
        "test_text = \"This is a text that INCLUDES the number 34.\"\n",
        "preprocessed_text = preprocess_text(test_text)\n",
        "print(preprocessed_text)\n",
        "assert preprocessed_text == 'text includes number '"
      ]
    },
    {
      "cell_type": "code",
      "execution_count": null,
      "metadata": {
        "id": "4A6ZtJYe_d1l"
      },
      "outputs": [],
      "source": [
        "# apply it to the text in our DataFrame\n",
        "# and save the results in a new column called review_pp\n"
      ]
    },
    {
      "cell_type": "code",
      "execution_count": null,
      "metadata": {
        "id": "YEoLRwL3REqw"
      },
      "outputs": [],
      "source": []
    },
    {
      "cell_type": "markdown",
      "metadata": {
        "id": "Gy0TH1JKVJ-Q"
      },
      "source": [
        "Some words happen to appear very frequently next to each other. It can be very useful to combine this word into a single representation before tokenizing the corpus.\n",
        "\n",
        "The combination of two words is called bigram. Have a look at the following examples:\n",
        "* new york -> new_york\n",
        "* star wars -> star_wars\n",
        "\n",
        "The following code blocks show how you can train a phraser with the gensim library. You can learn more about the Phraser [here](https://radimrehurek.com/gensim_3.8.3/models/phrases.html).\n",
        "\n"
      ]
    },
    {
      "cell_type": "code",
      "execution_count": null,
      "metadata": {
        "colab": {
          "base_uri": "https://localhost:8080/"
        },
        "id": "jUfXioEFLWSc",
        "outputId": "8177205c-5171-4100-e91a-a11b3c815293"
      },
      "outputs": [],
      "source": [
        "\"Hi Ho\".split()"
      ]
    },
    {
      "cell_type": "code",
      "execution_count": null,
      "metadata": {
        "colab": {
          "base_uri": "https://localhost:8080/"
        },
        "id": "5ImDi2hIVvEP",
        "outputId": "bc488c03-4259-4eab-9efe-5465fef4a834"
      },
      "outputs": [],
      "source": [
        "%%time\n",
        "from gensim.models.phrases import Phrases\n",
        "phrases = Phrases(data['review_pp'].apply(lambda x: x.split()))"
      ]
    },
    {
      "cell_type": "markdown",
      "metadata": {
        "id": "af4oUpOsfx0A"
      },
      "source": [
        "You can apply the bigram model like this:"
      ]
    },
    {
      "cell_type": "code",
      "execution_count": null,
      "metadata": {
        "colab": {
          "base_uri": "https://localhost:8080/"
        },
        "id": "tMt6qqtOsbBY",
        "outputId": "d576e17c-dd6c-4909-b68a-b6de71600823"
      },
      "outputs": [],
      "source": [
        "phrases[\"the lion king is by far my favorite movie!\".split()]"
      ]
    },
    {
      "cell_type": "markdown",
      "metadata": {
        "id": "1Emo0VtWehhW"
      },
      "source": [
        "Apply the bigrams to the text in the `review_pp` column and overwrite it."
      ]
    },
    {
      "cell_type": "code",
      "execution_count": null,
      "metadata": {
        "colab": {
          "base_uri": "https://localhost:8080/",
          "height": 423
        },
        "id": "CMY_NNaDVH3I",
        "outputId": "f9402277-c3e9-437b-f91f-49847c16ec4e"
      },
      "outputs": [],
      "source": []
    },
    {
      "cell_type": "markdown",
      "metadata": {
        "id": "hlP9tffDfDul"
      },
      "source": [
        "### 3.3 Creating a Corpus Class"
      ]
    },
    {
      "cell_type": "markdown",
      "metadata": {
        "id": "n4tUo8DpdZvo"
      },
      "source": [
        "In this section we create a class for our corpus that will be the input for the training algorithm of our word2vec model.\n",
        "\n",
        "Write a class called `MyCorpus`.\n",
        "It should have an `__init__` function that takes a list or array of strings as an input and saves it into a class variable `self.data`.\n",
        "\n",
        "Also implement an `__iter__` function that loops over `self.data` and `yields` each line as a list of the words. (hint: use `.split()`to split a string into words"
      ]
    },
    {
      "cell_type": "code",
      "execution_count": null,
      "metadata": {
        "id": "_8rVmG3rc9Us"
      },
      "outputs": [],
      "source": [
        "class MyCorpus:\n",
        "  def __init__(self, data):\n",
        "    pass\n",
        "  def __iter__(self,):\n",
        "    pass"
      ]
    },
    {
      "cell_type": "code",
      "execution_count": null,
      "metadata": {
        "id": "5KfJSpNvthXw"
      },
      "outputs": [],
      "source": [
        "# instantiate the MyCorpus class with a list of the preprocessed texts in our dataframe.\n",
        "# save it in a variable called sentences\n",
        "sentences = None"
      ]
    },
    {
      "cell_type": "code",
      "execution_count": null,
      "metadata": {
        "colab": {
          "background_save": true
        },
        "id": "_eqvn9TUWvdl",
        "outputId": "b16ed310-1054-44fc-eafd-6d8b3b869202"
      },
      "outputs": [],
      "source": [
        "%%time\n",
        "model = gensim.models.Word2Vec(sentences=sentences)"
      ]
    },
    {
      "cell_type": "markdown",
      "metadata": {
        "id": "heGORJoSgIMJ"
      },
      "source": [
        "Once again explore the model by using the similarity function. Remember that this is a very specific dataset we trained the model on. It is about movie reviews and the analogies we used before probably won't work here.\n",
        "\n",
        "But maybe there are some interesting relationships between actors and movies encoded in the word embeddings."
      ]
    },
    {
      "cell_type": "code",
      "execution_count": null,
      "metadata": {
        "colab": {
          "base_uri": "https://localhost:8080/",
          "height": 139
        },
        "id": "OOnBPb40UlPV",
        "outputId": "d106e639-f759-40a3-e4b0-9cb8e5ab8dd9"
      },
      "outputs": [],
      "source": [
        "model.wv.most_similar('matrix', topn=10)"
      ]
    },
    {
      "cell_type": "code",
      "execution_count": null,
      "metadata": {
        "id": "_PCHSrLQicfH"
      },
      "outputs": [],
      "source": [
        "word_list = ['stallone' ,'clint_eastwood', 'schwarzenegger', 'pulp_fiction',\n",
        "             'aladdin', 'brad_pitt', 'angelina_jolie', 'cameron_diaz',  'orlando_bloom', 'incredibles',\n",
        "             'mulan', 'godfather', 'tarantino', 'shrek', 'star_wars', 'matrix', 'lord_rings', \"jurassic_park\"]"
      ]
    },
    {
      "cell_type": "markdown",
      "metadata": {
        "id": "lrN7sKh24iWk"
      },
      "source": [
        "## Visualizing Word Embeddings\n",
        "Once again create a list that you want to plot in 2D-Space.\n",
        "Try to use a list of movie titles and actors and see how similar they are."
      ]
    },
    {
      "cell_type": "code",
      "execution_count": null,
      "metadata": {
        "id": "Tt3kMQDI4k5J"
      },
      "outputs": [],
      "source": [
        "display_pca_scatterplot(model.wv, word_list)"
      ]
    },
    {
      "cell_type": "code",
      "execution_count": null,
      "metadata": {
        "id": "sVjZ8QAvVAcm"
      },
      "outputs": [],
      "source": []
    },
    {
      "cell_type": "code",
      "execution_count": null,
      "metadata": {
        "id": "8ENrquyJmMqh"
      },
      "outputs": [],
      "source": []
    }
  ],
  "metadata": {
    "colab": {
      "provenance": []
    },
    "kernelspec": {
      "display_name": "Python 3",
      "name": "python3"
    },
    "language_info": {
      "name": "python"
    }
  },
  "nbformat": 4,
  "nbformat_minor": 0
}
