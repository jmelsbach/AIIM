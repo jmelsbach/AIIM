{
 "cells": [
  {
   "cell_type": "markdown",
   "id": "bright-offer",
   "metadata": {
    "id": "bright-offer"
   },
   "source": [
    "# Exercise 03 Notebook - Convolutional Neural Networks\n",
    "\n",
    "In this exercise we'll implement different convolutional neural networks, that is AlexNet and ResNet18. Further, we'll use a pretrained model and finetune it to further increase the performance.\n",
    "\n",
    "1. Load Data\n",
    "2. Implement AlexNet from Scratch\n",
    "3. Implement ResNet18 from Scratch\n",
    "4. Implement pretrained ResNet18\n",
    "5. Implement and finetune a pretrained ResNet18"
   ]
  },
  {
   "cell_type": "markdown",
   "id": "assisted-palmer",
   "metadata": {
    "id": "assisted-palmer"
   },
   "source": [
    "## 1. Load Data\n",
    "\n",
    "We'll use the Imagenette data set during this exercise. More specifically, we'll use the Imagenette-320 data set. Imagenette is a very small subset of the Imagenet data set which consists of 9469 training samples and 3925 validation examples. Each sample is a 320x320 image, associated with a label from 10 different classes. More information can be found [here](https://github.com/fastai/imagenette)\n",
    "\n",
    "You can download the dataset [here](https://s3.amazonaws.com/fast-ai-imageclas/imagenette2-320.tgz)\n",
    "\n",
    "Labels:</br>\n",
    "* 0=n01440764='tench',\n",
    "* 1=n02102040='English springer'\n",
    "* 2=n02979186='cassette player'\n",
    "* 3=n03000684='chain saw'\n",
    "* 4=n03028079='church'\n",
    "* 5=n03394916='French horn'\n",
    "* 6=n03417042='garbage truck'\n",
    "* 7=n03425413='gas pump'\n",
    "* 8=n03445777='golf ball'\n",
    "* 9=n03888257='parachute'\n",
    "\n",
    "Task 1: Create a *torch.utils.data.Dataset* class for training and validation set, respectively. </br>\n",
    "*Hint1 : You can use PyTorch's [ImageFolder](https://pytorch.org/vision/stable/datasets.html#imagefolder) class to create a torch.utils.data.Dataset.*</br>\n",
    "*Hint2: You need to transform each sample such that each image is of size 224 and each image needs to be a tensor. Use PyTorch's [transforms method](https://pytorch.org/vision/stable/transforms.html#torchvision-transforms)* </br>\n",
    "*Hint3: Enable GPU runtime as follows: Runtime > Change Runtime type > Hardware accelerator > GPU*\n",
    "\n",
    "Task 2: Create a DataLoader object with batch size = 8 for training and valid set, respectively<br>\n",
    "* *Hint: Don't forget to shuffle the DataLoader!* </br>\n",
    "\n",
    "Task 3: Print the shape of one batch (images and labels) and plot one example with image and label"
   ]
  },
  {
   "cell_type": "markdown",
   "id": "rjbSTz9cZVli",
   "metadata": {
    "id": "rjbSTz9cZVli"
   },
   "source": [
    "Download and unzip data"
   ]
  },
  {
   "cell_type": "code",
   "execution_count": null,
   "id": "tzeX8scyKn-J",
   "metadata": {
    "id": "tzeX8scyKn-J"
   },
   "outputs": [],
   "source": [
    "!wget -q https://s3.amazonaws.com/fast-ai-imageclas/imagenette2-320.tgz\n",
    "!tar zxf /content/imagenette2-320.tgz"
   ]
  },
  {
   "cell_type": "code",
   "execution_count": null,
   "id": "S-w1Aok9-Q8y",
   "metadata": {
    "colab": {
     "base_uri": "https://localhost:8080/"
    },
    "id": "S-w1Aok9-Q8y",
    "outputId": "0109f6bf-9803-4225-fb04-9410e7399faa"
   },
   "outputs": [],
   "source": [
    "import torch\n",
    "\n",
    "print(torch.cuda.is_available())\n",
    "if torch.cuda.is_available():\n",
    "  print(torch.cuda.get_device_name(0))\n",
    "\n",
    "device = torch.device('cuda' if torch.cuda.is_available() else 'cpu')"
   ]
  },
  {
   "cell_type": "markdown",
   "id": "protected-vehicle",
   "metadata": {
    "id": "protected-vehicle"
   },
   "source": [
    "### 1.1 Create Data Sets (Task 1)"
   ]
  },
  {
   "cell_type": "code",
   "execution_count": null,
   "id": "textile-avenue",
   "metadata": {
    "id": "textile-avenue"
   },
   "outputs": [],
   "source": [
    "from torchvision.datasets import ImageFolder\n",
    "from torchvision import *\n",
    "from tqdm.auto import tqdm\n",
    "\n",
    "transformer = transforms.Compose([transforms.Resize((224, 224)), transforms.ToTensor()])\n",
    "train_ds = ImageFolder(\"/content/imagenette2-320/train\", transform=transformer)\n",
    "valid_ds = ImageFolder(\"/content/imagenette2-320/val\", transform=transformer)"
   ]
  },
  {
   "cell_type": "markdown",
   "id": "fundamental-algorithm",
   "metadata": {
    "id": "fundamental-algorithm"
   },
   "source": [
    "### 1.2 Create DataLoader (Task 2)"
   ]
  },
  {
   "cell_type": "code",
   "execution_count": null,
   "id": "conventional-packet",
   "metadata": {
    "id": "conventional-packet"
   },
   "outputs": [],
   "source": [
    "from torch.utils.data import DataLoader\n",
    "\n",
    "\n",
    "train_dl = DataLoader(train_ds, batch_size=8, shuffle=True)\n",
    "valid_dl = DataLoader(valid_ds, batch_size=8, shuffle=False)"
   ]
  },
  {
   "cell_type": "markdown",
   "id": "sufficient-tuner",
   "metadata": {
    "id": "sufficient-tuner"
   },
   "source": [
    "### 1.3 One Example (Task 3)"
   ]
  },
  {
   "cell_type": "code",
   "execution_count": null,
   "id": "incorrect-healing",
   "metadata": {
    "colab": {
     "base_uri": "https://localhost:8080/"
    },
    "id": "incorrect-healing",
    "outputId": "81adcd32-c261-4d6d-f04a-5374db145929"
   },
   "outputs": [],
   "source": [
    "images, labels = next(iter(train_dl))\n",
    "print(f\"Shape of the batch {images.shape}\")\n",
    "print(f\"Number of images/labels in the batch: {images.shape[0]}\")\n",
    "print(f\"Number of channels each image has: {images.shape[1]}\")\n",
    "print(f\"Size of each image is: {images.shape[2]}x{images.shape[3]}\")"
   ]
  },
  {
   "cell_type": "code",
   "execution_count": null,
   "id": "Ld2nRROM-rKj",
   "metadata": {
    "colab": {
     "base_uri": "https://localhost:8080/",
     "height": 463
    },
    "id": "Ld2nRROM-rKj",
    "outputId": "e97cae69-6efb-460b-e366-bcdc980f619c"
   },
   "outputs": [],
   "source": [
    "import matplotlib.pyplot as plt\n",
    "\n",
    "index = 3\n",
    "\n",
    "fig, ax = plt.subplots(1, 1, figsize=(5,5))\n",
    "ax.set_xticks([])\n",
    "ax.set_yticks([])\n",
    "ax.imshow(images[index].permute(1, 2, 0), cmap='gray')\n",
    "ax.set_title(labels[index], fontsize = 14)"
   ]
  },
  {
   "cell_type": "markdown",
   "id": "logical-department",
   "metadata": {
    "id": "logical-department"
   },
   "source": [
    "## 2. AlexNet Model from Scratch\n",
    "\n",
    "We introduced [AlexNet](https://papers.nips.cc/paper/2012/file/c399862d3b9d6b76c8436e924a68c45b-Paper.pdf) in the lecture. We now want to implement AlexNet from scratch using almost the same architecture as the authors proposed in the original paper and in the ImageNet Large Scale Visual Recognition Competition (ILSVRC)\n",
    "\n",
    "Task 4: Create a AlexNetFashionCNN class with 5 Convolutional Layers, 3 Pooling Layers and 2 fully connected-layers.\n",
    "* First convolutional layer: Kernel size: 11x11, stride:4, padding=2, check the number of input/output channels yourself\n",
    "* First max pooling layer: Window size: 3x3, stride:2\n",
    "* Second conv layer: Kernel size: 5x5, stride=1, padding:2, check the number of input/output channels: yourself\n",
    "* Second max pooling layer: Window size: 3x3, stride:2\n",
    "* Third conv layer: Kernel size: 3x3, stride=1, padding=1, check the number of input/output channels: yourself\n",
    "* Fourth conv layer: Kernel size: 3x3, stride=1, padding=1, check the number of input/output channels: yourself\n",
    "* Fifth conv layer: Kernel size: 3x3, stride=1, padding=1, check the number of input/output channels: yourself\n",
    "* Third max pooling layer: Window size: 3x3, stride=2\n",
    "* The ReLU non-linearity is applied to the output of every convolutional and fully-connected layer. (except for the last fully-connected layer!)\n",
    "* *Hint 1: Think about the output of the last layer. Should we apply an activation function? If yes, which one is most appropriate?\n",
    "* *Hint 2: What is the number of neurons in the first fully-connected layer? Try to figure it out by yourself!\n",
    "\n",
    "Task 5: Forward propagate the first batch to test whether the network is working as expected.\n",
    "\n",
    "Task 6: Implement a method which serves as a training loop to train the network\n",
    "* The method should expect the following parameters: the model which should be trained, number of epochs, optimizer, and loss function\n",
    "* The method should return the training and test accuracy of each epoch. Optionally, print the accuracy of training and validation for each epoch during training\n",
    "* This is actually the most difficult part, have a look at the other notebooks which we have already provided\n",
    "\n",
    "Task 7: Create an optimizer object (such as stochastic gradient descent), define the number of epochs and train the AlexNetFashionCNN\n",
    "* Play with the number of epochs, and the learning rate of the optimizer until you are satisfied with the results"
   ]
  },
  {
   "cell_type": "markdown",
   "id": "twenty-fifteen",
   "metadata": {
    "id": "twenty-fifteen"
   },
   "source": [
    "### 2.1 AlexNetFashionCNN (Task 4)"
   ]
  },
  {
   "cell_type": "code",
   "execution_count": null,
   "id": "ljUGW3MBDCQA",
   "metadata": {
    "id": "ljUGW3MBDCQA"
   },
   "outputs": [],
   "source": [
    "import torch.nn.functional as F\n",
    "from torch import nn\n",
    "import torch\n",
    "from tqdm.auto import tqdm\n"
   ]
  },
  {
   "cell_type": "code",
   "execution_count": null,
   "id": "equivalent-penalty",
   "metadata": {
    "id": "equivalent-penalty"
   },
   "outputs": [],
   "source": [
    "class AlexNetFashionCNN(nn.Module):\n",
    "    def __init__(self):\n",
    "        super(AlexNetFashionCNN, self).__init__()\n",
    "        # Create Convolutional Layer\n",
    "        self.conv_1 = nn.Conv2d(in_channels=3, out_channels=96, kernel_size=11, stride = 4, padding = 2)\n",
    "        self.conv_2 = nn.Conv2d(in_channels=96, out_channels=256, kernel_size=5, stride = 1, padding = 2)\n",
    "        self.conv_3 = nn.Conv2d(in_channels=256, out_channels=384, kernel_size=3, stride = 1, padding = 1)\n",
    "        self.conv_4 = nn.Conv2d(in_channels=384, out_channels=384, kernel_size=3, stride = 1, padding = 1)\n",
    "        self.conv_5 = nn.Conv2d(in_channels=384, out_channels=256, kernel_size=3, stride = 1, padding = 1)\n",
    "        # Create max pooling layer\n",
    "        self.pooling_1 = nn.MaxPool2d(kernel_size=(3, 3), stride=(2, 2))\n",
    "        self.pooling_2 = nn.MaxPool2d(kernel_size=(3, 3), stride=(2, 2))\n",
    "        self.pooling_3 = nn.MaxPool2d(kernel_size=(3, 3), stride=(2, 2))\n",
    "        # Fully-connected Layer\n",
    "        self.fc_1 = nn.Linear(in_features=9216, out_features=4096)\n",
    "        self.fc_2 = nn.Linear(in_features=4096, out_features=10)\n",
    "\n",
    "    def forward(self, X):\n",
    "\n",
    "        X = F.relu(self.conv_1(X))    # 96x55x55\n",
    "        X = self.pooling_1(X)         # 96x27x27\n",
    "        X = F.relu(self.conv_2(X))    # 256x27x27\n",
    "        X = self.pooling_2(X)         # 256x13x13\n",
    "        X = F.relu(self.conv_3(X))    # 384x13x13\n",
    "        X = F.relu(self.conv_4(X))    # 384x13x13\n",
    "        X = F.relu(self.conv_5(X))    # 256x13x13\n",
    "        X = self.pooling_3(X)         # 256x6x6\n",
    "        X = X.flatten(1)              # 9216x1\n",
    "        X = F.relu(self.fc_1(X))      # 4096\n",
    "        X = self.fc_2(X)              # 10\n",
    "\n",
    "        return X"
   ]
  },
  {
   "cell_type": "code",
   "execution_count": null,
   "id": "_itKp895DFOj",
   "metadata": {
    "id": "_itKp895DFOj"
   },
   "outputs": [],
   "source": [
    "alexnet_model = AlexNetFashionCNN()"
   ]
  },
  {
   "cell_type": "markdown",
   "id": "serious-pizza",
   "metadata": {
    "id": "serious-pizza"
   },
   "source": [
    "### 2.2 Forward Propagation (first batch) (Task 5)"
   ]
  },
  {
   "cell_type": "code",
   "execution_count": null,
   "id": "twenty-commander",
   "metadata": {
    "colab": {
     "base_uri": "https://localhost:8080/"
    },
    "id": "twenty-commander",
    "outputId": "7e6f130e-c7f8-4af4-804e-5b77a9bb2e96"
   },
   "outputs": [],
   "source": [
    "alexnet_model(images)"
   ]
  },
  {
   "cell_type": "markdown",
   "id": "obvious-webster",
   "metadata": {
    "id": "obvious-webster"
   },
   "source": [
    "### 2.3 Training Loop (Task 6)"
   ]
  },
  {
   "cell_type": "code",
   "execution_count": null,
   "id": "jrR-96PGw15I",
   "metadata": {
    "id": "jrR-96PGw15I"
   },
   "outputs": [],
   "source": [
    "def training(net, n_epochs, optimizer, loss_function, verbose=True):\n",
    "  # Store the losses for each epoch\n",
    "  loss_train_list = []\n",
    "  loss_valid_list = []\n",
    "\n",
    "  # Store the accuracy for each epoch\n",
    "  acc_train_list = []\n",
    "  acc_valid_list = []\n",
    "\n",
    "  # Iterate over the dataset n_epochs times\n",
    "  for epoch in range(n_epochs):\n",
    "    net.train()  # net.train() will notify all your layers that you are in training mode\n",
    "\n",
    "    train_loss = 0  # Training loss in epoch\n",
    "    num_train_correct  = 0\n",
    "    num_train_examples = 0\n",
    "\n",
    "    # For each batch, pass the training examples, calculate loss and gradients and optimize the parameters\n",
    "    for xb, yb in tqdm(train_dl, total=len(train_dl)):\n",
    "      optimizer.zero_grad()  # zero_grad clears old gradients from the last step\n",
    "\n",
    "      xb = xb.to(device)\n",
    "      yb = yb.to(device)\n",
    "\n",
    "      y_hat = net(xb)  # Forward pass\n",
    "      loss = loss_function(y_hat, yb)  # Calculate Loss\n",
    "\n",
    "      loss.backward()  # Calculate the gradients (using backpropagation)\n",
    "      optimizer.step()  # # Optimize the parameters: opt.step() causes the optimizer to take a step based on the gradients of the parameters.\n",
    "\n",
    "      train_loss += loss.item()\n",
    "      num_train_correct += (torch.max(y_hat, 1)[1] == yb).sum().item()\n",
    "      num_train_examples += xb.shape[0]\n",
    "\n",
    "    train_acc = num_train_correct / num_train_examples\n",
    "    train_loss /= num_train_examples\n",
    "    valid_loss = 0  # Validation loss in epoch\n",
    "    num_val_correct  = 0\n",
    "    num_val_examples = 0\n",
    "\n",
    "    net.eval()  # net.eval() will notify all your layers that you are in evaluation mode\n",
    "    # torch.no_grad() impacts the autograd engine and deactivate it. It will reduce memory usage and speed\n",
    "    # up computations but you won’t be able to backprop (which you don’t want in an evaluation script).\n",
    "    with torch.no_grad():\n",
    "      # Perform a prediction on the validation set\n",
    "      for xb_valid, yb_valid in tqdm(valid_dl, total=len(valid_dl)):\n",
    "        xb_valid = xb_valid.to(device)\n",
    "        yb_valid = yb_valid.to(device)\n",
    "\n",
    "        y_hat = net(xb_valid)  # Forward pass\n",
    "        loss = loss_function(y_hat, yb_valid)  # Calculate Loss\n",
    "\n",
    "        valid_loss += loss.item()\n",
    "        num_val_correct += (torch.max(y_hat, 1)[1] == yb_valid).sum().item()\n",
    "        num_val_examples += xb_valid.shape[0]\n",
    "\n",
    "    val_acc = num_val_correct / num_val_examples\n",
    "    valid_loss /= num_val_examples\n",
    "\n",
    "    if verbose:\n",
    "      print(f\"Train Loss in epoch {epoch}: {train_loss:.2f}\")\n",
    "      print(f\"Validation Loss in epoch {epoch}: {valid_loss:.2f}\")\n",
    "      print(f\"Train Accuracy in epoch {epoch}: {100 * (train_acc):.2f}\")\n",
    "      print(f\"Validation Accuracy in epoch {epoch}: {100 * (val_acc):.2f}\\n\")\n",
    "      print(\"\\n\")\n",
    "\n",
    "    loss_train_list.append(train_loss)\n",
    "    loss_valid_list.append(valid_loss)\n",
    "    acc_train_list.append(100 * (train_acc))\n",
    "    acc_valid_list.append(100 * (val_acc))\n",
    "\n",
    "  return acc_train_list, acc_valid_list, loss_train_list, loss_valid_list"
   ]
  },
  {
   "cell_type": "markdown",
   "id": "fifth-ecuador",
   "metadata": {
    "id": "fifth-ecuador"
   },
   "source": [
    "### 2.4 Training (Task 7)"
   ]
  },
  {
   "cell_type": "code",
   "execution_count": null,
   "id": "boolean-reggae",
   "metadata": {
    "colab": {
     "base_uri": "https://localhost:8080/",
     "height": 739,
     "referenced_widgets": [
      "605e908d531a4258890d7db3faa04cbd",
      "de462f0960e6408ea80eed5580d23663",
      "0fdf7978a6fe4fe8b0665c976f3976b6",
      "b13d22755e7a4cee86f31d1fa1cf3c3b",
      "e0ae243d5e654f30a727068c4403462e",
      "93177ebbe67e4cb6af1606ba8b8668f4",
      "5a7175fac25544bbb38c01f2f4fb7009",
      "53a4c1d635074f44a0c6992714e915c8",
      "ba8cf3fce49743a4a9b3d2c518dcd448",
      "db288e8fcadc4e90979eed8093699581",
      "07725c573b9848449722a613daa11925",
      "873935bfc0374b109a765cb285e46380",
      "3e3c37a11a6a44c79f632bf47e6d336a",
      "104f3369fb6d4e93a862b4e3a2a01483",
      "b5a13c086b364a63ad276fbd2ecd0b9f",
      "e6732d7b2f32438382d105394cb0c152",
      "0602979627c44c3fb7fda6de26a70b6a",
      "fcb52745e4a54d219a3605a8c328d567",
      "d47fd7e784c94de6b608f6a851bf3d56",
      "316e96243577441da23178008f7e3a55",
      "9e15e70a8fce416f87fb40191bff1245",
      "72f848ee91344ec789623ed2c8d756ae",
      "ab9bc59e5091465d9ef9e3e181e78fb4",
      "faa2f424acb846f09f2c8e43e3858ca1",
      "0589fa97d84e40b3b003aecf2cc29fba",
      "fad62a120a2d4bc78ddbe7b2bd62f09d",
      "f2b70909cd604c668c88ede3aa552925",
      "23ed941ec4b244eaa22a3b012dc933c2",
      "a15399f3be9f4779a50680b67d27e01e",
      "165de670ed3d4dc08be9d49d7cfa150d",
      "1561e75e89314d8f9701ef27bfadab3c",
      "bd02b21ed2dc42d997afa6187d52b699",
      "8cdbe04c38494002b5d25da9786a38cb",
      "83012d9e48914d189019e5a04d4bc5d8",
      "44df7287af4c4648ac5a1a21c17333af",
      "2c8180ba97084f198077c6e7f308700f",
      "9cabdbe2a6d444a5af4f66b59b236cc6",
      "d69128d59b804408b6d7fb9a9a1bcdc4",
      "25ab3656d6a542dbb403811f47bfeea6",
      "729eb588f20d46c9a2c19c548074c1e5",
      "730dbf54437b40008c3ed2bd89c16802",
      "49f41b21b0544c2a8003bcdde9b162f5",
      "56d95afff38d4e1491d03ae210f3a2f6",
      "c6f67307518c477ba65186ebc2db53b1",
      "8b2895401a714308b9afd995e407d672",
      "af6f6ffcb5fd49c3a9dd881a9f3fb220",
      "260337fb545f49559a7de1e802cd3ac3",
      "34c3eb26189b4cf7b7b390d537733bd9",
      "8d318737f3904d5c9f88106882a8a4a2",
      "4c3c78ee6e0a433f9c95c8ab06099a73",
      "e4510f4852c44546ab9c71816c4c7f5f",
      "19175d87334c4916b814d44c2d33f22e",
      "18a33c586abd4ea49657b81750e5d90e",
      "8270e38982394fcaa5639cde215b85c6",
      "797d766409d847c0954c59397b939389"
     ]
    },
    "id": "boolean-reggae",
    "outputId": "e61809f4-bbc5-4c71-97a9-63e18e533dff"
   },
   "outputs": [],
   "source": [
    "from torch import optim\n",
    "\n",
    "optimizer = optim.SGD(alexnet_model.parameters(), lr=0.01)\n",
    "EPOCHS = 10\n",
    "\n",
    "# Create Loss Function\n",
    "loss_function = nn.CrossEntropyLoss()\n",
    "\n",
    "alexnet_model.to(device)\n",
    "\n",
    "acc_train, acc_valid, loss_train, loss_valid = training(net=alexnet_model, n_epochs=EPOCHS, optimizer=optimizer, loss_function=loss_function)"
   ]
  },
  {
   "cell_type": "markdown",
   "id": "dirty-cisco",
   "metadata": {
    "id": "dirty-cisco"
   },
   "source": [
    "## 3. ResNet18 from Scratch\n",
    "\n",
    "We introduced [ResNet18](https://arxiv.org/abs/1512.03385) in the lecture. Now, we want to build the ResNet18 model from scratch using the same architecture as in the original paper!\n",
    "\n",
    "Task 8: Instead of implementing the entire architecture yourself, you can use PyTorch's [torchvision-models](https://pytorch.org/vision/stable/models.html#torchvision-models) to download the architecture. Please don't use the pretrained model and explicitly set pretrained=False when using PyTorchs torchvison models.\n",
    "\n",
    "Task 9: Use the *fit method* defined above to train the ResNet18 model\n",
    "\n",
    "Task 9.1 (optional): Why is this approach strange?"
   ]
  },
  {
   "cell_type": "code",
   "execution_count": null,
   "id": "ready-promise",
   "metadata": {
    "id": "ready-promise"
   },
   "outputs": [],
   "source": [
    "from torchvision.models import resnet18\n",
    "from tqdm.auto import tqdm\n"
   ]
  },
  {
   "cell_type": "markdown",
   "id": "civil-memorabilia",
   "metadata": {
    "id": "civil-memorabilia"
   },
   "source": [
    "### 3.1 Create ResNet18 Model (Task 8)"
   ]
  },
  {
   "cell_type": "code",
   "execution_count": null,
   "id": "painted-stack",
   "metadata": {
    "colab": {
     "base_uri": "https://localhost:8080/"
    },
    "id": "painted-stack",
    "outputId": "96380c05-81b5-4bdb-fc9f-5ba3a62fc17d"
   },
   "outputs": [],
   "source": [
    "resnet18_model = resnet18(pretrained=False)"
   ]
  },
  {
   "cell_type": "markdown",
   "id": "breeding-cowboy",
   "metadata": {
    "id": "breeding-cowboy"
   },
   "source": [
    "### 3.2 ResNet18 Training (Task 9)"
   ]
  },
  {
   "cell_type": "code",
   "execution_count": null,
   "id": "metropolitan-diabetes",
   "metadata": {
    "colab": {
     "base_uri": "https://localhost:8080/",
     "height": 361,
     "referenced_widgets": [
      "c1549b94d91d40d091b9f29ecba0dd21",
      "79ac0c5eed92465fab179d7ecb1bb11d",
      "e25d3f33096742bfb00ad651f42d0214",
      "35ff629138354a7bae1335eb037a78c4",
      "bcd2aa52303547adb76b814c4956b6b5",
      "bfa068786d3d4a8983f5fc0237350296",
      "f18af857fe604a0aaad063982bd20d61",
      "d36e4b5bd1eb4fe9b5f5965cdac14e2e",
      "9d2767e42f734b3aab2df1c2c3da7101",
      "4868c7e6575245abba47ba2c3f504ee8",
      "dcb8237f98a5482a9d39ee2f577c4a0f"
     ]
    },
    "id": "metropolitan-diabetes",
    "outputId": "b810f472-3152-4dcd-f1b9-4516c4a316f8"
   },
   "outputs": [],
   "source": [
    "from torch import optim\n",
    "\n",
    "optimizer = optim.Adam(resnet18_model.parameters(), lr=0.01)\n",
    "EPOCHS = 5\n",
    "\n",
    "# Create Loss Function\n",
    "loss_function = nn.CrossEntropyLoss()\n",
    "\n",
    "resnet18_model.to(device)\n",
    "\n",
    "acc_train, acc_valid, loss_train, loss_valid = training(net=resnet18_model, n_epochs=EPOCHS, optimizer=optimizer, loss_function=loss_function)"
   ]
  },
  {
   "cell_type": "markdown",
   "id": "tqRyMC3E9z6V",
   "metadata": {
    "id": "tqRyMC3E9z6V"
   },
   "source": [
    "### 3.2.1 ResNet18 CrossEntropy (optional)\n",
    "\n",
    "Let's say we were given 8 images. And each of these images is exactly one of 10 different classes. For example:"
   ]
  },
  {
   "cell_type": "code",
   "execution_count": null,
   "id": "P1dnYX6U_OBl",
   "metadata": {
    "colab": {
     "base_uri": "https://localhost:8080/"
    },
    "id": "P1dnYX6U_OBl",
    "outputId": "d1fb2c31-40f1-488b-ffcf-f61bc9d945cc"
   },
   "outputs": [],
   "source": [
    "print(labels)\n",
    "print(labels.shape)"
   ]
  },
  {
   "cell_type": "markdown",
   "id": "R2QuYIM699sp",
   "metadata": {
    "id": "R2QuYIM699sp"
   },
   "source": [
    "#### 3.2.1.1 Using ResNet18 without own, fully-connected layer\n",
    "\n",
    "For each image, the model outputs the logits for 1000 different classes (as the neural network was originally trained on a dataset with 1000 different classes)"
   ]
  },
  {
   "cell_type": "code",
   "execution_count": null,
   "id": "-f--s-jD1BLL",
   "metadata": {
    "colab": {
     "base_uri": "https://localhost:8080/"
    },
    "id": "-f--s-jD1BLL",
    "outputId": "bc2ee93e-ca52-4156-d93f-04cdff481cb9"
   },
   "outputs": [],
   "source": [
    "images.shape"
   ]
  },
  {
   "cell_type": "code",
   "execution_count": null,
   "id": "QWTeoh54-3cI",
   "metadata": {
    "colab": {
     "base_uri": "https://localhost:8080/"
    },
    "id": "QWTeoh54-3cI",
    "outputId": "9cef2df4-61a6-41b2-f752-8e5f5a0ad795"
   },
   "outputs": [],
   "source": [
    "resnet_output = resnet18_model(images.to(device))\n",
    "resnet_output.shape"
   ]
  },
  {
   "cell_type": "code",
   "execution_count": null,
   "id": "K1ZKts9u96Q5",
   "metadata": {
    "colab": {
     "base_uri": "https://localhost:8080/"
    },
    "id": "K1ZKts9u96Q5",
    "outputId": "3b4dc94f-555e-456f-896f-f3205a753037"
   },
   "outputs": [],
   "source": [
    "nn.CrossEntropyLoss()(resnet_output, labels.to(device))"
   ]
  },
  {
   "cell_type": "markdown",
   "id": "plhlYnXk_Wap",
   "metadata": {
    "id": "plhlYnXk_Wap"
   },
   "source": [
    "Although the shapes of the predicted values (resnet_output) and ground truth (labels) are different, we can calculate the CrossEntropyLoss. Why? Because the CrossEntropyLoss only looks at indices. It first uses Softmax to determine the logit with the highest value and then selects its index."
   ]
  },
  {
   "cell_type": "markdown",
   "id": "qY4_7vQ5-ajm",
   "metadata": {
    "id": "qY4_7vQ5-ajm"
   },
   "source": [
    "#### 3.2.1.2 Using ResNet18 with own, fully-connected layer\n",
    "\n",
    "For each image, the model outputs the logits for 10 different classes"
   ]
  },
  {
   "cell_type": "code",
   "execution_count": null,
   "id": "RQftVzAiABkV",
   "metadata": {
    "id": "RQftVzAiABkV"
   },
   "outputs": [],
   "source": [
    "resnet18_model.fc = nn.Linear(512, 10)"
   ]
  },
  {
   "cell_type": "code",
   "execution_count": null,
   "id": "JDox78D01a2z",
   "metadata": {
    "colab": {
     "base_uri": "https://localhost:8080/"
    },
    "id": "JDox78D01a2z",
    "outputId": "ada11155-0895-4abc-80cb-b2970f5cc592"
   },
   "outputs": [],
   "source": [
    "resnet18_model.to(device)"
   ]
  },
  {
   "cell_type": "code",
   "execution_count": null,
   "id": "ZPUMSNL695dV",
   "metadata": {
    "colab": {
     "base_uri": "https://localhost:8080/"
    },
    "id": "ZPUMSNL695dV",
    "outputId": "a2420e17-95d2-456a-9007-62c8194e2d4d"
   },
   "outputs": [],
   "source": [
    "resnet_output = resnet18_model(images.to(device))\n",
    "resnet_output.shape"
   ]
  },
  {
   "cell_type": "code",
   "execution_count": null,
   "id": "wyCaI8LL97pW",
   "metadata": {
    "colab": {
     "base_uri": "https://localhost:8080/"
    },
    "id": "wyCaI8LL97pW",
    "outputId": "818ceeee-3c9f-4c03-c8a0-bf19ecd2cecc"
   },
   "outputs": [],
   "source": [
    "nn.CrossEntropyLoss()(resnet_output, labels.to(device))"
   ]
  },
  {
   "cell_type": "markdown",
   "id": "starting-steering",
   "metadata": {
    "id": "starting-steering"
   },
   "source": [
    "## 4. Pretrained ResNet18\n",
    "\n",
    "In practice, very few people train an entire Convolutional Network from scratch (with random initialization), because it is relatively rare to have a dataset of sufficient size. Instead, it is common to pretrain a CNN on a very large dataset (e.g. ImageNet, which contains 1.2 million images with 1000 categories), and then use the ConvNet either as an initialization or a fixed feature extractor for the task of interest.\n",
    "\n",
    "Hence, we'll now use a ResNet18 model pretrained on ImageNet.\n",
    "\n",
    "Task 10: Download the ResNet18 architecture and weights from PyTorch, create a pretrained ResNet18 CNN, and replace the last fully-connected layer\n",
    "* Again, you can use PyTorch's [torchvision-models](https://pytorch.org/vision/stable/models.html#torchvision-models). But this time, set pretrained=True in order to download the weights from the pretrained model\n",
    "* *Hint: Note that the ResNet18 was pretrained on the ImageNet data set where the task was to classify 1000 different labels. Here we will only need 10 classes. Thus, you need to **replace** the last fully-connected layer with one which only produces 10 outputs instead of 1000.*\n",
    "\n",
    "Task 11: Use the *fit method* defined above to train the pretrained ResNet18 model\n",
    "* Again, play with the optimizer and the number of epochs until you are satisfied with the results (in terms of accuracy on training and validation set)"
   ]
  },
  {
   "cell_type": "code",
   "execution_count": null,
   "id": "operating-fellowship",
   "metadata": {
    "id": "operating-fellowship"
   },
   "outputs": [],
   "source": [
    "from torchvision.models import resnet18\n",
    "from tqdm.auto import tqdm\n"
   ]
  },
  {
   "cell_type": "markdown",
   "id": "virgin-produce",
   "metadata": {
    "id": "virgin-produce"
   },
   "source": [
    "### 4.1 Create Pretrained ResNet18 Model (Task 10)"
   ]
  },
  {
   "cell_type": "code",
   "execution_count": null,
   "id": "instructional-monitor",
   "metadata": {
    "colab": {
     "base_uri": "https://localhost:8080/"
    },
    "id": "instructional-monitor",
    "outputId": "ccd60e48-56ab-46f3-f2b0-65dee73adae2"
   },
   "outputs": [],
   "source": [
    "resnet18_pre_model = resnet18(pretrained=True)\n",
    "resnet18_pre_model.fc = nn.Linear(512, 10)"
   ]
  },
  {
   "cell_type": "markdown",
   "id": "under-admission",
   "metadata": {
    "id": "under-admission"
   },
   "source": [
    "### 4.2 Pretrained ResNet18 Training (Task 11)"
   ]
  },
  {
   "cell_type": "code",
   "execution_count": null,
   "id": "j9ZZIMBsG_4L",
   "metadata": {
    "colab": {
     "base_uri": "https://localhost:8080/"
    },
    "id": "j9ZZIMBsG_4L",
    "outputId": "d8e8e1ab-b643-4a34-a536-c4182d38faa1"
   },
   "outputs": [],
   "source": [
    "for p in resnet18_pre_model.parameters():\n",
    "    print(p)\n",
    "    break"
   ]
  },
  {
   "cell_type": "code",
   "execution_count": null,
   "id": "portuguese-cookbook",
   "metadata": {
    "colab": {
     "base_uri": "https://localhost:8080/",
     "height": 49,
     "referenced_widgets": [
      "d0c89baf565b46eca8762034c9edbcf6",
      "51e59983a78542a58afc8a1d4c81fc33",
      "f52c1fe96b7448959a8d94eba4e63cc5",
      "65fbc59856eb474390ba030a3ee48ace",
      "d5129711586048b79ebea8f58af00706",
      "db5b5fc8c0564476a7c17dfb3658a25d",
      "afec0ca684724f41b4ea1ddbf11853b6",
      "59021395427346c7ab718daa2f92be3f",
      "37c913633e404edc94564af68426d529",
      "375921b8764a4038aac2ea1cda33075e",
      "49f0dcdce95a4ce3885137dfe758e200"
     ]
    },
    "id": "portuguese-cookbook",
    "outputId": "6f681eb4-3748-4412-dff8-c0402a07822b"
   },
   "outputs": [],
   "source": [
    "from torch import optim\n",
    "\n",
    "optimizer = optim.SGD(resnet18_pre_model.parameters(), lr=0.1)\n",
    "EPOCHS = 5\n",
    "\n",
    "# Create Loss Function\n",
    "loss_function = nn.CrossEntropyLoss()\n",
    "\n",
    "resnet18_pre_model.to(device)\n",
    "\n",
    "acc_train, acc_valid, loss_train, loss_valid = training(net=resnet18_pre_model, n_epochs=EPOCHS, optimizer=optimizer, loss_function=loss_function)"
   ]
  },
  {
   "cell_type": "markdown",
   "id": "charged-tsunami",
   "metadata": {
    "id": "charged-tsunami"
   },
   "source": [
    "## 5. Finetuning Pretrained ResNet18\n",
    "\n",
    "In the previous exercise (Chapter 4), we retrained the entire pretrained ResNet18 model using the Imagenette data set. Although the results were already pretty good, it might be better to only train the custom, final fully-connected layer. Remember, that every layer in a pretrained model is already optimized except for the custom final fully-connected layer which is randomly initialized. Thus, in this exercise we want to **only train the custom fully-connected layer** (only update the weights of the custom fully-connected layer) and keep the other layers (and weigts).\n",
    "\n",
    "Task 12: Download the ResNet18 architecture and weights from PyTorch, create a pretrained ResNet18 CNN, freeze all layers, and replace the last fully-connected layer\n",
    "* *Hint 1: In order to \"freeze\" a layer, you need to set its requires_grad Parameter to False\n",
    "* *Hint 2: First freeze all layers, than add the custom, final fully-connected layer\n",
    "\n",
    "Task 13: Use the *fit method* defined above to train only the last layer of the pretrained ResNet18 model\n",
    "* Note how the training is much faster (as we don't need to compute the gradients for each layer!)"
   ]
  },
  {
   "cell_type": "code",
   "execution_count": null,
   "id": "DwK7lktL6F1F",
   "metadata": {
    "id": "DwK7lktL6F1F"
   },
   "outputs": [],
   "source": [
    "from torchvision.models import resnet18"
   ]
  },
  {
   "cell_type": "markdown",
   "id": "athletic-petersburg",
   "metadata": {
    "id": "athletic-petersburg"
   },
   "source": [
    "### 5.1 Create Pretrained ResNet18 Model (Task 12)"
   ]
  },
  {
   "cell_type": "code",
   "execution_count": null,
   "id": "cleared-victoria",
   "metadata": {
    "id": "cleared-victoria"
   },
   "outputs": [],
   "source": [
    "resnet18_fine_model = resnet18(pretrained=True)\n",
    "\n",
    "for param in resnet18_fine_model.parameters():\n",
    "    param.requires_grad = False\n",
    "\n",
    "resnet18_fine_model.fc = nn.Linear(512, 10)"
   ]
  },
  {
   "cell_type": "code",
   "execution_count": null,
   "id": "rqnX-d6fHK2M",
   "metadata": {
    "id": "rqnX-d6fHK2M"
   },
   "outputs": [],
   "source": [
    "for p in resnet18_fine_model.parameters():\n",
    "    print(p.requires_grad)\n",
    "    break"
   ]
  },
  {
   "cell_type": "markdown",
   "id": "monthly-monster",
   "metadata": {
    "id": "monthly-monster"
   },
   "source": [
    "### 5.2 Pretrained ResNet18 Fine Tuning (Task 13)"
   ]
  },
  {
   "cell_type": "code",
   "execution_count": null,
   "id": "million-prague",
   "metadata": {
    "id": "million-prague"
   },
   "outputs": [],
   "source": [
    "from torch import optim\n",
    "\n",
    "optimizer = optim.SGD(resnet18_fine_model.parameters(), lr=0.1)\n",
    "EPOCHS = 5\n",
    "\n",
    "# Create Loss Function\n",
    "loss_function = nn.CrossEntropyLoss()\n",
    "\n",
    "resnet18_fine_model.to(device)\n",
    "\n",
    "acc_train, acc_valid, loss_train, loss_valid = training(net=resnet18_fine_model, n_epochs=EPOCHS, optimizer=optimizer, loss_function=loss_function)"
   ]
  },
  {
   "cell_type": "markdown",
   "id": "RfkYgcST6eKn",
   "metadata": {
    "id": "RfkYgcST6eKn"
   },
   "source": [
    "Done"
   ]
  }
 ],
 "metadata": {
  "accelerator": "GPU",
  "colab": {
   "provenance": []
  },
  "kernelspec": {
   "display_name": "Python [pipenv: aiim_env]",
   "language": "python",
   "name": "aiim_env"
  },
  "language_info": {
   "codemirror_mode": {
    "name": "ipython",
    "version": 3
   },
   "file_extension": ".py",
   "mimetype": "text/x-python",
   "name": "python",
   "nbconvert_exporter": "python",
   "pygments_lexer": "ipython3",
   "version": "3.8.5"
  },
  "widgets": {
   "application/vnd.jupyter.widget-state+json": {
    "0589fa97d84e40b3b003aecf2cc29fba": {
     "model_module": "@jupyter-widgets/controls",
     "model_module_version": "1.5.0",
     "model_name": "FloatProgressModel",
     "state": {
      "_dom_classes": [],
      "_model_module": "@jupyter-widgets/controls",
      "_model_module_version": "1.5.0",
      "_model_name": "FloatProgressModel",
      "_view_count": null,
      "_view_module": "@jupyter-widgets/controls",
      "_view_module_version": "1.5.0",
      "_view_name": "ProgressView",
      "bar_style": "success",
      "description": "",
      "description_tooltip": null,
      "layout": "IPY_MODEL_165de670ed3d4dc08be9d49d7cfa150d",
      "max": 1184,
      "min": 0,
      "orientation": "horizontal",
      "style": "IPY_MODEL_1561e75e89314d8f9701ef27bfadab3c",
      "value": 1184
     }
    },
    "0602979627c44c3fb7fda6de26a70b6a": {
     "model_module": "@jupyter-widgets/base",
     "model_module_version": "1.2.0",
     "model_name": "LayoutModel",
     "state": {
      "_model_module": "@jupyter-widgets/base",
      "_model_module_version": "1.2.0",
      "_model_name": "LayoutModel",
      "_view_count": null,
      "_view_module": "@jupyter-widgets/base",
      "_view_module_version": "1.2.0",
      "_view_name": "LayoutView",
      "align_content": null,
      "align_items": null,
      "align_self": null,
      "border": null,
      "bottom": null,
      "display": null,
      "flex": null,
      "flex_flow": null,
      "grid_area": null,
      "grid_auto_columns": null,
      "grid_auto_flow": null,
      "grid_auto_rows": null,
      "grid_column": null,
      "grid_gap": null,
      "grid_row": null,
      "grid_template_areas": null,
      "grid_template_columns": null,
      "grid_template_rows": null,
      "height": null,
      "justify_content": null,
      "justify_items": null,
      "left": null,
      "margin": null,
      "max_height": null,
      "max_width": null,
      "min_height": null,
      "min_width": null,
      "object_fit": null,
      "object_position": null,
      "order": null,
      "overflow": null,
      "overflow_x": null,
      "overflow_y": null,
      "padding": null,
      "right": null,
      "top": null,
      "visibility": null,
      "width": null
     }
    },
    "07725c573b9848449722a613daa11925": {
     "model_module": "@jupyter-widgets/controls",
     "model_module_version": "1.5.0",
     "model_name": "DescriptionStyleModel",
     "state": {
      "_model_module": "@jupyter-widgets/controls",
      "_model_module_version": "1.5.0",
      "_model_name": "DescriptionStyleModel",
      "_view_count": null,
      "_view_module": "@jupyter-widgets/base",
      "_view_module_version": "1.2.0",
      "_view_name": "StyleView",
      "description_width": ""
     }
    },
    "0fdf7978a6fe4fe8b0665c976f3976b6": {
     "model_module": "@jupyter-widgets/controls",
     "model_module_version": "1.5.0",
     "model_name": "FloatProgressModel",
     "state": {
      "_dom_classes": [],
      "_model_module": "@jupyter-widgets/controls",
      "_model_module_version": "1.5.0",
      "_model_name": "FloatProgressModel",
      "_view_count": null,
      "_view_module": "@jupyter-widgets/controls",
      "_view_module_version": "1.5.0",
      "_view_name": "ProgressView",
      "bar_style": "success",
      "description": "",
      "description_tooltip": null,
      "layout": "IPY_MODEL_53a4c1d635074f44a0c6992714e915c8",
      "max": 1184,
      "min": 0,
      "orientation": "horizontal",
      "style": "IPY_MODEL_ba8cf3fce49743a4a9b3d2c518dcd448",
      "value": 1184
     }
    },
    "104f3369fb6d4e93a862b4e3a2a01483": {
     "model_module": "@jupyter-widgets/controls",
     "model_module_version": "1.5.0",
     "model_name": "FloatProgressModel",
     "state": {
      "_dom_classes": [],
      "_model_module": "@jupyter-widgets/controls",
      "_model_module_version": "1.5.0",
      "_model_name": "FloatProgressModel",
      "_view_count": null,
      "_view_module": "@jupyter-widgets/controls",
      "_view_module_version": "1.5.0",
      "_view_name": "ProgressView",
      "bar_style": "success",
      "description": "",
      "description_tooltip": null,
      "layout": "IPY_MODEL_d47fd7e784c94de6b608f6a851bf3d56",
      "max": 491,
      "min": 0,
      "orientation": "horizontal",
      "style": "IPY_MODEL_316e96243577441da23178008f7e3a55",
      "value": 491
     }
    },
    "1561e75e89314d8f9701ef27bfadab3c": {
     "model_module": "@jupyter-widgets/controls",
     "model_module_version": "1.5.0",
     "model_name": "ProgressStyleModel",
     "state": {
      "_model_module": "@jupyter-widgets/controls",
      "_model_module_version": "1.5.0",
      "_model_name": "ProgressStyleModel",
      "_view_count": null,
      "_view_module": "@jupyter-widgets/base",
      "_view_module_version": "1.2.0",
      "_view_name": "StyleView",
      "bar_color": null,
      "description_width": ""
     }
    },
    "165de670ed3d4dc08be9d49d7cfa150d": {
     "model_module": "@jupyter-widgets/base",
     "model_module_version": "1.2.0",
     "model_name": "LayoutModel",
     "state": {
      "_model_module": "@jupyter-widgets/base",
      "_model_module_version": "1.2.0",
      "_model_name": "LayoutModel",
      "_view_count": null,
      "_view_module": "@jupyter-widgets/base",
      "_view_module_version": "1.2.0",
      "_view_name": "LayoutView",
      "align_content": null,
      "align_items": null,
      "align_self": null,
      "border": null,
      "bottom": null,
      "display": null,
      "flex": null,
      "flex_flow": null,
      "grid_area": null,
      "grid_auto_columns": null,
      "grid_auto_flow": null,
      "grid_auto_rows": null,
      "grid_column": null,
      "grid_gap": null,
      "grid_row": null,
      "grid_template_areas": null,
      "grid_template_columns": null,
      "grid_template_rows": null,
      "height": null,
      "justify_content": null,
      "justify_items": null,
      "left": null,
      "margin": null,
      "max_height": null,
      "max_width": null,
      "min_height": null,
      "min_width": null,
      "object_fit": null,
      "object_position": null,
      "order": null,
      "overflow": null,
      "overflow_x": null,
      "overflow_y": null,
      "padding": null,
      "right": null,
      "top": null,
      "visibility": null,
      "width": null
     }
    },
    "18a33c586abd4ea49657b81750e5d90e": {
     "model_module": "@jupyter-widgets/controls",
     "model_module_version": "1.5.0",
     "model_name": "ProgressStyleModel",
     "state": {
      "_model_module": "@jupyter-widgets/controls",
      "_model_module_version": "1.5.0",
      "_model_name": "ProgressStyleModel",
      "_view_count": null,
      "_view_module": "@jupyter-widgets/base",
      "_view_module_version": "1.2.0",
      "_view_name": "StyleView",
      "bar_color": null,
      "description_width": ""
     }
    },
    "19175d87334c4916b814d44c2d33f22e": {
     "model_module": "@jupyter-widgets/base",
     "model_module_version": "1.2.0",
     "model_name": "LayoutModel",
     "state": {
      "_model_module": "@jupyter-widgets/base",
      "_model_module_version": "1.2.0",
      "_model_name": "LayoutModel",
      "_view_count": null,
      "_view_module": "@jupyter-widgets/base",
      "_view_module_version": "1.2.0",
      "_view_name": "LayoutView",
      "align_content": null,
      "align_items": null,
      "align_self": null,
      "border": null,
      "bottom": null,
      "display": null,
      "flex": null,
      "flex_flow": null,
      "grid_area": null,
      "grid_auto_columns": null,
      "grid_auto_flow": null,
      "grid_auto_rows": null,
      "grid_column": null,
      "grid_gap": null,
      "grid_row": null,
      "grid_template_areas": null,
      "grid_template_columns": null,
      "grid_template_rows": null,
      "height": null,
      "justify_content": null,
      "justify_items": null,
      "left": null,
      "margin": null,
      "max_height": null,
      "max_width": null,
      "min_height": null,
      "min_width": null,
      "object_fit": null,
      "object_position": null,
      "order": null,
      "overflow": null,
      "overflow_x": null,
      "overflow_y": null,
      "padding": null,
      "right": null,
      "top": null,
      "visibility": null,
      "width": null
     }
    },
    "23ed941ec4b244eaa22a3b012dc933c2": {
     "model_module": "@jupyter-widgets/base",
     "model_module_version": "1.2.0",
     "model_name": "LayoutModel",
     "state": {
      "_model_module": "@jupyter-widgets/base",
      "_model_module_version": "1.2.0",
      "_model_name": "LayoutModel",
      "_view_count": null,
      "_view_module": "@jupyter-widgets/base",
      "_view_module_version": "1.2.0",
      "_view_name": "LayoutView",
      "align_content": null,
      "align_items": null,
      "align_self": null,
      "border": null,
      "bottom": null,
      "display": null,
      "flex": null,
      "flex_flow": null,
      "grid_area": null,
      "grid_auto_columns": null,
      "grid_auto_flow": null,
      "grid_auto_rows": null,
      "grid_column": null,
      "grid_gap": null,
      "grid_row": null,
      "grid_template_areas": null,
      "grid_template_columns": null,
      "grid_template_rows": null,
      "height": null,
      "justify_content": null,
      "justify_items": null,
      "left": null,
      "margin": null,
      "max_height": null,
      "max_width": null,
      "min_height": null,
      "min_width": null,
      "object_fit": null,
      "object_position": null,
      "order": null,
      "overflow": null,
      "overflow_x": null,
      "overflow_y": null,
      "padding": null,
      "right": null,
      "top": null,
      "visibility": null,
      "width": null
     }
    },
    "25ab3656d6a542dbb403811f47bfeea6": {
     "model_module": "@jupyter-widgets/base",
     "model_module_version": "1.2.0",
     "model_name": "LayoutModel",
     "state": {
      "_model_module": "@jupyter-widgets/base",
      "_model_module_version": "1.2.0",
      "_model_name": "LayoutModel",
      "_view_count": null,
      "_view_module": "@jupyter-widgets/base",
      "_view_module_version": "1.2.0",
      "_view_name": "LayoutView",
      "align_content": null,
      "align_items": null,
      "align_self": null,
      "border": null,
      "bottom": null,
      "display": null,
      "flex": null,
      "flex_flow": null,
      "grid_area": null,
      "grid_auto_columns": null,
      "grid_auto_flow": null,
      "grid_auto_rows": null,
      "grid_column": null,
      "grid_gap": null,
      "grid_row": null,
      "grid_template_areas": null,
      "grid_template_columns": null,
      "grid_template_rows": null,
      "height": null,
      "justify_content": null,
      "justify_items": null,
      "left": null,
      "margin": null,
      "max_height": null,
      "max_width": null,
      "min_height": null,
      "min_width": null,
      "object_fit": null,
      "object_position": null,
      "order": null,
      "overflow": null,
      "overflow_x": null,
      "overflow_y": null,
      "padding": null,
      "right": null,
      "top": null,
      "visibility": null,
      "width": null
     }
    },
    "260337fb545f49559a7de1e802cd3ac3": {
     "model_module": "@jupyter-widgets/controls",
     "model_module_version": "1.5.0",
     "model_name": "FloatProgressModel",
     "state": {
      "_dom_classes": [],
      "_model_module": "@jupyter-widgets/controls",
      "_model_module_version": "1.5.0",
      "_model_name": "FloatProgressModel",
      "_view_count": null,
      "_view_module": "@jupyter-widgets/controls",
      "_view_module_version": "1.5.0",
      "_view_name": "ProgressView",
      "bar_style": "danger",
      "description": "",
      "description_tooltip": null,
      "layout": "IPY_MODEL_19175d87334c4916b814d44c2d33f22e",
      "max": 1184,
      "min": 0,
      "orientation": "horizontal",
      "style": "IPY_MODEL_18a33c586abd4ea49657b81750e5d90e",
      "value": 589
     }
    },
    "2c8180ba97084f198077c6e7f308700f": {
     "model_module": "@jupyter-widgets/controls",
     "model_module_version": "1.5.0",
     "model_name": "FloatProgressModel",
     "state": {
      "_dom_classes": [],
      "_model_module": "@jupyter-widgets/controls",
      "_model_module_version": "1.5.0",
      "_model_name": "FloatProgressModel",
      "_view_count": null,
      "_view_module": "@jupyter-widgets/controls",
      "_view_module_version": "1.5.0",
      "_view_name": "ProgressView",
      "bar_style": "success",
      "description": "",
      "description_tooltip": null,
      "layout": "IPY_MODEL_730dbf54437b40008c3ed2bd89c16802",
      "max": 491,
      "min": 0,
      "orientation": "horizontal",
      "style": "IPY_MODEL_49f41b21b0544c2a8003bcdde9b162f5",
      "value": 491
     }
    },
    "316e96243577441da23178008f7e3a55": {
     "model_module": "@jupyter-widgets/controls",
     "model_module_version": "1.5.0",
     "model_name": "ProgressStyleModel",
     "state": {
      "_model_module": "@jupyter-widgets/controls",
      "_model_module_version": "1.5.0",
      "_model_name": "ProgressStyleModel",
      "_view_count": null,
      "_view_module": "@jupyter-widgets/base",
      "_view_module_version": "1.2.0",
      "_view_name": "StyleView",
      "bar_color": null,
      "description_width": ""
     }
    },
    "34c3eb26189b4cf7b7b390d537733bd9": {
     "model_module": "@jupyter-widgets/controls",
     "model_module_version": "1.5.0",
     "model_name": "HTMLModel",
     "state": {
      "_dom_classes": [],
      "_model_module": "@jupyter-widgets/controls",
      "_model_module_version": "1.5.0",
      "_model_name": "HTMLModel",
      "_view_count": null,
      "_view_module": "@jupyter-widgets/controls",
      "_view_module_version": "1.5.0",
      "_view_name": "HTMLView",
      "description": "",
      "description_tooltip": null,
      "layout": "IPY_MODEL_8270e38982394fcaa5639cde215b85c6",
      "placeholder": "​",
      "style": "IPY_MODEL_797d766409d847c0954c59397b939389",
      "value": " 589/1184 [00:26&lt;00:31, 18.78it/s]"
     }
    },
    "35ff629138354a7bae1335eb037a78c4": {
     "model_module": "@jupyter-widgets/controls",
     "model_module_version": "1.5.0",
     "model_name": "HTMLModel",
     "state": {
      "_dom_classes": [],
      "_model_module": "@jupyter-widgets/controls",
      "_model_module_version": "1.5.0",
      "_model_name": "HTMLModel",
      "_view_count": null,
      "_view_module": "@jupyter-widgets/controls",
      "_view_module_version": "1.5.0",
      "_view_name": "HTMLView",
      "description": "",
      "description_tooltip": null,
      "layout": "IPY_MODEL_4868c7e6575245abba47ba2c3f504ee8",
      "placeholder": "​",
      "style": "IPY_MODEL_dcb8237f98a5482a9d39ee2f577c4a0f",
      "value": " 587/1184 [00:35&lt;00:32, 18.49it/s]"
     }
    },
    "375921b8764a4038aac2ea1cda33075e": {
     "model_module": "@jupyter-widgets/base",
     "model_module_version": "1.2.0",
     "model_name": "LayoutModel",
     "state": {
      "_model_module": "@jupyter-widgets/base",
      "_model_module_version": "1.2.0",
      "_model_name": "LayoutModel",
      "_view_count": null,
      "_view_module": "@jupyter-widgets/base",
      "_view_module_version": "1.2.0",
      "_view_name": "LayoutView",
      "align_content": null,
      "align_items": null,
      "align_self": null,
      "border": null,
      "bottom": null,
      "display": null,
      "flex": null,
      "flex_flow": null,
      "grid_area": null,
      "grid_auto_columns": null,
      "grid_auto_flow": null,
      "grid_auto_rows": null,
      "grid_column": null,
      "grid_gap": null,
      "grid_row": null,
      "grid_template_areas": null,
      "grid_template_columns": null,
      "grid_template_rows": null,
      "height": null,
      "justify_content": null,
      "justify_items": null,
      "left": null,
      "margin": null,
      "max_height": null,
      "max_width": null,
      "min_height": null,
      "min_width": null,
      "object_fit": null,
      "object_position": null,
      "order": null,
      "overflow": null,
      "overflow_x": null,
      "overflow_y": null,
      "padding": null,
      "right": null,
      "top": null,
      "visibility": null,
      "width": null
     }
    },
    "37c913633e404edc94564af68426d529": {
     "model_module": "@jupyter-widgets/controls",
     "model_module_version": "1.5.0",
     "model_name": "ProgressStyleModel",
     "state": {
      "_model_module": "@jupyter-widgets/controls",
      "_model_module_version": "1.5.0",
      "_model_name": "ProgressStyleModel",
      "_view_count": null,
      "_view_module": "@jupyter-widgets/base",
      "_view_module_version": "1.2.0",
      "_view_name": "StyleView",
      "bar_color": null,
      "description_width": ""
     }
    },
    "3e3c37a11a6a44c79f632bf47e6d336a": {
     "model_module": "@jupyter-widgets/controls",
     "model_module_version": "1.5.0",
     "model_name": "HTMLModel",
     "state": {
      "_dom_classes": [],
      "_model_module": "@jupyter-widgets/controls",
      "_model_module_version": "1.5.0",
      "_model_name": "HTMLModel",
      "_view_count": null,
      "_view_module": "@jupyter-widgets/controls",
      "_view_module_version": "1.5.0",
      "_view_name": "HTMLView",
      "description": "",
      "description_tooltip": null,
      "layout": "IPY_MODEL_0602979627c44c3fb7fda6de26a70b6a",
      "placeholder": "​",
      "style": "IPY_MODEL_fcb52745e4a54d219a3605a8c328d567",
      "value": "100%"
     }
    },
    "44df7287af4c4648ac5a1a21c17333af": {
     "model_module": "@jupyter-widgets/controls",
     "model_module_version": "1.5.0",
     "model_name": "HTMLModel",
     "state": {
      "_dom_classes": [],
      "_model_module": "@jupyter-widgets/controls",
      "_model_module_version": "1.5.0",
      "_model_name": "HTMLModel",
      "_view_count": null,
      "_view_module": "@jupyter-widgets/controls",
      "_view_module_version": "1.5.0",
      "_view_name": "HTMLView",
      "description": "",
      "description_tooltip": null,
      "layout": "IPY_MODEL_25ab3656d6a542dbb403811f47bfeea6",
      "placeholder": "​",
      "style": "IPY_MODEL_729eb588f20d46c9a2c19c548074c1e5",
      "value": "100%"
     }
    },
    "4868c7e6575245abba47ba2c3f504ee8": {
     "model_module": "@jupyter-widgets/base",
     "model_module_version": "1.2.0",
     "model_name": "LayoutModel",
     "state": {
      "_model_module": "@jupyter-widgets/base",
      "_model_module_version": "1.2.0",
      "_model_name": "LayoutModel",
      "_view_count": null,
      "_view_module": "@jupyter-widgets/base",
      "_view_module_version": "1.2.0",
      "_view_name": "LayoutView",
      "align_content": null,
      "align_items": null,
      "align_self": null,
      "border": null,
      "bottom": null,
      "display": null,
      "flex": null,
      "flex_flow": null,
      "grid_area": null,
      "grid_auto_columns": null,
      "grid_auto_flow": null,
      "grid_auto_rows": null,
      "grid_column": null,
      "grid_gap": null,
      "grid_row": null,
      "grid_template_areas": null,
      "grid_template_columns": null,
      "grid_template_rows": null,
      "height": null,
      "justify_content": null,
      "justify_items": null,
      "left": null,
      "margin": null,
      "max_height": null,
      "max_width": null,
      "min_height": null,
      "min_width": null,
      "object_fit": null,
      "object_position": null,
      "order": null,
      "overflow": null,
      "overflow_x": null,
      "overflow_y": null,
      "padding": null,
      "right": null,
      "top": null,
      "visibility": null,
      "width": null
     }
    },
    "49f0dcdce95a4ce3885137dfe758e200": {
     "model_module": "@jupyter-widgets/controls",
     "model_module_version": "1.5.0",
     "model_name": "DescriptionStyleModel",
     "state": {
      "_model_module": "@jupyter-widgets/controls",
      "_model_module_version": "1.5.0",
      "_model_name": "DescriptionStyleModel",
      "_view_count": null,
      "_view_module": "@jupyter-widgets/base",
      "_view_module_version": "1.2.0",
      "_view_name": "StyleView",
      "description_width": ""
     }
    },
    "49f41b21b0544c2a8003bcdde9b162f5": {
     "model_module": "@jupyter-widgets/controls",
     "model_module_version": "1.5.0",
     "model_name": "ProgressStyleModel",
     "state": {
      "_model_module": "@jupyter-widgets/controls",
      "_model_module_version": "1.5.0",
      "_model_name": "ProgressStyleModel",
      "_view_count": null,
      "_view_module": "@jupyter-widgets/base",
      "_view_module_version": "1.2.0",
      "_view_name": "StyleView",
      "bar_color": null,
      "description_width": ""
     }
    },
    "4c3c78ee6e0a433f9c95c8ab06099a73": {
     "model_module": "@jupyter-widgets/base",
     "model_module_version": "1.2.0",
     "model_name": "LayoutModel",
     "state": {
      "_model_module": "@jupyter-widgets/base",
      "_model_module_version": "1.2.0",
      "_model_name": "LayoutModel",
      "_view_count": null,
      "_view_module": "@jupyter-widgets/base",
      "_view_module_version": "1.2.0",
      "_view_name": "LayoutView",
      "align_content": null,
      "align_items": null,
      "align_self": null,
      "border": null,
      "bottom": null,
      "display": null,
      "flex": null,
      "flex_flow": null,
      "grid_area": null,
      "grid_auto_columns": null,
      "grid_auto_flow": null,
      "grid_auto_rows": null,
      "grid_column": null,
      "grid_gap": null,
      "grid_row": null,
      "grid_template_areas": null,
      "grid_template_columns": null,
      "grid_template_rows": null,
      "height": null,
      "justify_content": null,
      "justify_items": null,
      "left": null,
      "margin": null,
      "max_height": null,
      "max_width": null,
      "min_height": null,
      "min_width": null,
      "object_fit": null,
      "object_position": null,
      "order": null,
      "overflow": null,
      "overflow_x": null,
      "overflow_y": null,
      "padding": null,
      "right": null,
      "top": null,
      "visibility": null,
      "width": null
     }
    },
    "51e59983a78542a58afc8a1d4c81fc33": {
     "model_module": "@jupyter-widgets/controls",
     "model_module_version": "1.5.0",
     "model_name": "HTMLModel",
     "state": {
      "_dom_classes": [],
      "_model_module": "@jupyter-widgets/controls",
      "_model_module_version": "1.5.0",
      "_model_name": "HTMLModel",
      "_view_count": null,
      "_view_module": "@jupyter-widgets/controls",
      "_view_module_version": "1.5.0",
      "_view_name": "HTMLView",
      "description": "",
      "description_tooltip": null,
      "layout": "IPY_MODEL_db5b5fc8c0564476a7c17dfb3658a25d",
      "placeholder": "​",
      "style": "IPY_MODEL_afec0ca684724f41b4ea1ddbf11853b6",
      "value": " 42%"
     }
    },
    "53a4c1d635074f44a0c6992714e915c8": {
     "model_module": "@jupyter-widgets/base",
     "model_module_version": "1.2.0",
     "model_name": "LayoutModel",
     "state": {
      "_model_module": "@jupyter-widgets/base",
      "_model_module_version": "1.2.0",
      "_model_name": "LayoutModel",
      "_view_count": null,
      "_view_module": "@jupyter-widgets/base",
      "_view_module_version": "1.2.0",
      "_view_name": "LayoutView",
      "align_content": null,
      "align_items": null,
      "align_self": null,
      "border": null,
      "bottom": null,
      "display": null,
      "flex": null,
      "flex_flow": null,
      "grid_area": null,
      "grid_auto_columns": null,
      "grid_auto_flow": null,
      "grid_auto_rows": null,
      "grid_column": null,
      "grid_gap": null,
      "grid_row": null,
      "grid_template_areas": null,
      "grid_template_columns": null,
      "grid_template_rows": null,
      "height": null,
      "justify_content": null,
      "justify_items": null,
      "left": null,
      "margin": null,
      "max_height": null,
      "max_width": null,
      "min_height": null,
      "min_width": null,
      "object_fit": null,
      "object_position": null,
      "order": null,
      "overflow": null,
      "overflow_x": null,
      "overflow_y": null,
      "padding": null,
      "right": null,
      "top": null,
      "visibility": null,
      "width": null
     }
    },
    "56d95afff38d4e1491d03ae210f3a2f6": {
     "model_module": "@jupyter-widgets/base",
     "model_module_version": "1.2.0",
     "model_name": "LayoutModel",
     "state": {
      "_model_module": "@jupyter-widgets/base",
      "_model_module_version": "1.2.0",
      "_model_name": "LayoutModel",
      "_view_count": null,
      "_view_module": "@jupyter-widgets/base",
      "_view_module_version": "1.2.0",
      "_view_name": "LayoutView",
      "align_content": null,
      "align_items": null,
      "align_self": null,
      "border": null,
      "bottom": null,
      "display": null,
      "flex": null,
      "flex_flow": null,
      "grid_area": null,
      "grid_auto_columns": null,
      "grid_auto_flow": null,
      "grid_auto_rows": null,
      "grid_column": null,
      "grid_gap": null,
      "grid_row": null,
      "grid_template_areas": null,
      "grid_template_columns": null,
      "grid_template_rows": null,
      "height": null,
      "justify_content": null,
      "justify_items": null,
      "left": null,
      "margin": null,
      "max_height": null,
      "max_width": null,
      "min_height": null,
      "min_width": null,
      "object_fit": null,
      "object_position": null,
      "order": null,
      "overflow": null,
      "overflow_x": null,
      "overflow_y": null,
      "padding": null,
      "right": null,
      "top": null,
      "visibility": null,
      "width": null
     }
    },
    "59021395427346c7ab718daa2f92be3f": {
     "model_module": "@jupyter-widgets/base",
     "model_module_version": "1.2.0",
     "model_name": "LayoutModel",
     "state": {
      "_model_module": "@jupyter-widgets/base",
      "_model_module_version": "1.2.0",
      "_model_name": "LayoutModel",
      "_view_count": null,
      "_view_module": "@jupyter-widgets/base",
      "_view_module_version": "1.2.0",
      "_view_name": "LayoutView",
      "align_content": null,
      "align_items": null,
      "align_self": null,
      "border": null,
      "bottom": null,
      "display": null,
      "flex": null,
      "flex_flow": null,
      "grid_area": null,
      "grid_auto_columns": null,
      "grid_auto_flow": null,
      "grid_auto_rows": null,
      "grid_column": null,
      "grid_gap": null,
      "grid_row": null,
      "grid_template_areas": null,
      "grid_template_columns": null,
      "grid_template_rows": null,
      "height": null,
      "justify_content": null,
      "justify_items": null,
      "left": null,
      "margin": null,
      "max_height": null,
      "max_width": null,
      "min_height": null,
      "min_width": null,
      "object_fit": null,
      "object_position": null,
      "order": null,
      "overflow": null,
      "overflow_x": null,
      "overflow_y": null,
      "padding": null,
      "right": null,
      "top": null,
      "visibility": null,
      "width": null
     }
    },
    "5a7175fac25544bbb38c01f2f4fb7009": {
     "model_module": "@jupyter-widgets/controls",
     "model_module_version": "1.5.0",
     "model_name": "DescriptionStyleModel",
     "state": {
      "_model_module": "@jupyter-widgets/controls",
      "_model_module_version": "1.5.0",
      "_model_name": "DescriptionStyleModel",
      "_view_count": null,
      "_view_module": "@jupyter-widgets/base",
      "_view_module_version": "1.2.0",
      "_view_name": "StyleView",
      "description_width": ""
     }
    },
    "605e908d531a4258890d7db3faa04cbd": {
     "model_module": "@jupyter-widgets/controls",
     "model_module_version": "1.5.0",
     "model_name": "HBoxModel",
     "state": {
      "_dom_classes": [],
      "_model_module": "@jupyter-widgets/controls",
      "_model_module_version": "1.5.0",
      "_model_name": "HBoxModel",
      "_view_count": null,
      "_view_module": "@jupyter-widgets/controls",
      "_view_module_version": "1.5.0",
      "_view_name": "HBoxView",
      "box_style": "",
      "children": [
       "IPY_MODEL_de462f0960e6408ea80eed5580d23663",
       "IPY_MODEL_0fdf7978a6fe4fe8b0665c976f3976b6",
       "IPY_MODEL_b13d22755e7a4cee86f31d1fa1cf3c3b"
      ],
      "layout": "IPY_MODEL_e0ae243d5e654f30a727068c4403462e"
     }
    },
    "65fbc59856eb474390ba030a3ee48ace": {
     "model_module": "@jupyter-widgets/controls",
     "model_module_version": "1.5.0",
     "model_name": "HTMLModel",
     "state": {
      "_dom_classes": [],
      "_model_module": "@jupyter-widgets/controls",
      "_model_module_version": "1.5.0",
      "_model_name": "HTMLModel",
      "_view_count": null,
      "_view_module": "@jupyter-widgets/controls",
      "_view_module_version": "1.5.0",
      "_view_name": "HTMLView",
      "description": "",
      "description_tooltip": null,
      "layout": "IPY_MODEL_375921b8764a4038aac2ea1cda33075e",
      "placeholder": "​",
      "style": "IPY_MODEL_49f0dcdce95a4ce3885137dfe758e200",
      "value": " 498/1184 [00:26&lt;00:41, 16.70it/s]"
     }
    },
    "729eb588f20d46c9a2c19c548074c1e5": {
     "model_module": "@jupyter-widgets/controls",
     "model_module_version": "1.5.0",
     "model_name": "DescriptionStyleModel",
     "state": {
      "_model_module": "@jupyter-widgets/controls",
      "_model_module_version": "1.5.0",
      "_model_name": "DescriptionStyleModel",
      "_view_count": null,
      "_view_module": "@jupyter-widgets/base",
      "_view_module_version": "1.2.0",
      "_view_name": "StyleView",
      "description_width": ""
     }
    },
    "72f848ee91344ec789623ed2c8d756ae": {
     "model_module": "@jupyter-widgets/controls",
     "model_module_version": "1.5.0",
     "model_name": "DescriptionStyleModel",
     "state": {
      "_model_module": "@jupyter-widgets/controls",
      "_model_module_version": "1.5.0",
      "_model_name": "DescriptionStyleModel",
      "_view_count": null,
      "_view_module": "@jupyter-widgets/base",
      "_view_module_version": "1.2.0",
      "_view_name": "StyleView",
      "description_width": ""
     }
    },
    "730dbf54437b40008c3ed2bd89c16802": {
     "model_module": "@jupyter-widgets/base",
     "model_module_version": "1.2.0",
     "model_name": "LayoutModel",
     "state": {
      "_model_module": "@jupyter-widgets/base",
      "_model_module_version": "1.2.0",
      "_model_name": "LayoutModel",
      "_view_count": null,
      "_view_module": "@jupyter-widgets/base",
      "_view_module_version": "1.2.0",
      "_view_name": "LayoutView",
      "align_content": null,
      "align_items": null,
      "align_self": null,
      "border": null,
      "bottom": null,
      "display": null,
      "flex": null,
      "flex_flow": null,
      "grid_area": null,
      "grid_auto_columns": null,
      "grid_auto_flow": null,
      "grid_auto_rows": null,
      "grid_column": null,
      "grid_gap": null,
      "grid_row": null,
      "grid_template_areas": null,
      "grid_template_columns": null,
      "grid_template_rows": null,
      "height": null,
      "justify_content": null,
      "justify_items": null,
      "left": null,
      "margin": null,
      "max_height": null,
      "max_width": null,
      "min_height": null,
      "min_width": null,
      "object_fit": null,
      "object_position": null,
      "order": null,
      "overflow": null,
      "overflow_x": null,
      "overflow_y": null,
      "padding": null,
      "right": null,
      "top": null,
      "visibility": null,
      "width": null
     }
    },
    "797d766409d847c0954c59397b939389": {
     "model_module": "@jupyter-widgets/controls",
     "model_module_version": "1.5.0",
     "model_name": "DescriptionStyleModel",
     "state": {
      "_model_module": "@jupyter-widgets/controls",
      "_model_module_version": "1.5.0",
      "_model_name": "DescriptionStyleModel",
      "_view_count": null,
      "_view_module": "@jupyter-widgets/base",
      "_view_module_version": "1.2.0",
      "_view_name": "StyleView",
      "description_width": ""
     }
    },
    "79ac0c5eed92465fab179d7ecb1bb11d": {
     "model_module": "@jupyter-widgets/controls",
     "model_module_version": "1.5.0",
     "model_name": "HTMLModel",
     "state": {
      "_dom_classes": [],
      "_model_module": "@jupyter-widgets/controls",
      "_model_module_version": "1.5.0",
      "_model_name": "HTMLModel",
      "_view_count": null,
      "_view_module": "@jupyter-widgets/controls",
      "_view_module_version": "1.5.0",
      "_view_name": "HTMLView",
      "description": "",
      "description_tooltip": null,
      "layout": "IPY_MODEL_bfa068786d3d4a8983f5fc0237350296",
      "placeholder": "​",
      "style": "IPY_MODEL_f18af857fe604a0aaad063982bd20d61",
      "value": " 50%"
     }
    },
    "8270e38982394fcaa5639cde215b85c6": {
     "model_module": "@jupyter-widgets/base",
     "model_module_version": "1.2.0",
     "model_name": "LayoutModel",
     "state": {
      "_model_module": "@jupyter-widgets/base",
      "_model_module_version": "1.2.0",
      "_model_name": "LayoutModel",
      "_view_count": null,
      "_view_module": "@jupyter-widgets/base",
      "_view_module_version": "1.2.0",
      "_view_name": "LayoutView",
      "align_content": null,
      "align_items": null,
      "align_self": null,
      "border": null,
      "bottom": null,
      "display": null,
      "flex": null,
      "flex_flow": null,
      "grid_area": null,
      "grid_auto_columns": null,
      "grid_auto_flow": null,
      "grid_auto_rows": null,
      "grid_column": null,
      "grid_gap": null,
      "grid_row": null,
      "grid_template_areas": null,
      "grid_template_columns": null,
      "grid_template_rows": null,
      "height": null,
      "justify_content": null,
      "justify_items": null,
      "left": null,
      "margin": null,
      "max_height": null,
      "max_width": null,
      "min_height": null,
      "min_width": null,
      "object_fit": null,
      "object_position": null,
      "order": null,
      "overflow": null,
      "overflow_x": null,
      "overflow_y": null,
      "padding": null,
      "right": null,
      "top": null,
      "visibility": null,
      "width": null
     }
    },
    "83012d9e48914d189019e5a04d4bc5d8": {
     "model_module": "@jupyter-widgets/controls",
     "model_module_version": "1.5.0",
     "model_name": "HBoxModel",
     "state": {
      "_dom_classes": [],
      "_model_module": "@jupyter-widgets/controls",
      "_model_module_version": "1.5.0",
      "_model_name": "HBoxModel",
      "_view_count": null,
      "_view_module": "@jupyter-widgets/controls",
      "_view_module_version": "1.5.0",
      "_view_name": "HBoxView",
      "box_style": "",
      "children": [
       "IPY_MODEL_44df7287af4c4648ac5a1a21c17333af",
       "IPY_MODEL_2c8180ba97084f198077c6e7f308700f",
       "IPY_MODEL_9cabdbe2a6d444a5af4f66b59b236cc6"
      ],
      "layout": "IPY_MODEL_d69128d59b804408b6d7fb9a9a1bcdc4"
     }
    },
    "873935bfc0374b109a765cb285e46380": {
     "model_module": "@jupyter-widgets/controls",
     "model_module_version": "1.5.0",
     "model_name": "HBoxModel",
     "state": {
      "_dom_classes": [],
      "_model_module": "@jupyter-widgets/controls",
      "_model_module_version": "1.5.0",
      "_model_name": "HBoxModel",
      "_view_count": null,
      "_view_module": "@jupyter-widgets/controls",
      "_view_module_version": "1.5.0",
      "_view_name": "HBoxView",
      "box_style": "",
      "children": [
       "IPY_MODEL_3e3c37a11a6a44c79f632bf47e6d336a",
       "IPY_MODEL_104f3369fb6d4e93a862b4e3a2a01483",
       "IPY_MODEL_b5a13c086b364a63ad276fbd2ecd0b9f"
      ],
      "layout": "IPY_MODEL_e6732d7b2f32438382d105394cb0c152"
     }
    },
    "8b2895401a714308b9afd995e407d672": {
     "model_module": "@jupyter-widgets/controls",
     "model_module_version": "1.5.0",
     "model_name": "HBoxModel",
     "state": {
      "_dom_classes": [],
      "_model_module": "@jupyter-widgets/controls",
      "_model_module_version": "1.5.0",
      "_model_name": "HBoxModel",
      "_view_count": null,
      "_view_module": "@jupyter-widgets/controls",
      "_view_module_version": "1.5.0",
      "_view_name": "HBoxView",
      "box_style": "",
      "children": [
       "IPY_MODEL_af6f6ffcb5fd49c3a9dd881a9f3fb220",
       "IPY_MODEL_260337fb545f49559a7de1e802cd3ac3",
       "IPY_MODEL_34c3eb26189b4cf7b7b390d537733bd9"
      ],
      "layout": "IPY_MODEL_8d318737f3904d5c9f88106882a8a4a2"
     }
    },
    "8cdbe04c38494002b5d25da9786a38cb": {
     "model_module": "@jupyter-widgets/controls",
     "model_module_version": "1.5.0",
     "model_name": "DescriptionStyleModel",
     "state": {
      "_model_module": "@jupyter-widgets/controls",
      "_model_module_version": "1.5.0",
      "_model_name": "DescriptionStyleModel",
      "_view_count": null,
      "_view_module": "@jupyter-widgets/base",
      "_view_module_version": "1.2.0",
      "_view_name": "StyleView",
      "description_width": ""
     }
    },
    "8d318737f3904d5c9f88106882a8a4a2": {
     "model_module": "@jupyter-widgets/base",
     "model_module_version": "1.2.0",
     "model_name": "LayoutModel",
     "state": {
      "_model_module": "@jupyter-widgets/base",
      "_model_module_version": "1.2.0",
      "_model_name": "LayoutModel",
      "_view_count": null,
      "_view_module": "@jupyter-widgets/base",
      "_view_module_version": "1.2.0",
      "_view_name": "LayoutView",
      "align_content": null,
      "align_items": null,
      "align_self": null,
      "border": null,
      "bottom": null,
      "display": null,
      "flex": null,
      "flex_flow": null,
      "grid_area": null,
      "grid_auto_columns": null,
      "grid_auto_flow": null,
      "grid_auto_rows": null,
      "grid_column": null,
      "grid_gap": null,
      "grid_row": null,
      "grid_template_areas": null,
      "grid_template_columns": null,
      "grid_template_rows": null,
      "height": null,
      "justify_content": null,
      "justify_items": null,
      "left": null,
      "margin": null,
      "max_height": null,
      "max_width": null,
      "min_height": null,
      "min_width": null,
      "object_fit": null,
      "object_position": null,
      "order": null,
      "overflow": null,
      "overflow_x": null,
      "overflow_y": null,
      "padding": null,
      "right": null,
      "top": null,
      "visibility": null,
      "width": null
     }
    },
    "93177ebbe67e4cb6af1606ba8b8668f4": {
     "model_module": "@jupyter-widgets/base",
     "model_module_version": "1.2.0",
     "model_name": "LayoutModel",
     "state": {
      "_model_module": "@jupyter-widgets/base",
      "_model_module_version": "1.2.0",
      "_model_name": "LayoutModel",
      "_view_count": null,
      "_view_module": "@jupyter-widgets/base",
      "_view_module_version": "1.2.0",
      "_view_name": "LayoutView",
      "align_content": null,
      "align_items": null,
      "align_self": null,
      "border": null,
      "bottom": null,
      "display": null,
      "flex": null,
      "flex_flow": null,
      "grid_area": null,
      "grid_auto_columns": null,
      "grid_auto_flow": null,
      "grid_auto_rows": null,
      "grid_column": null,
      "grid_gap": null,
      "grid_row": null,
      "grid_template_areas": null,
      "grid_template_columns": null,
      "grid_template_rows": null,
      "height": null,
      "justify_content": null,
      "justify_items": null,
      "left": null,
      "margin": null,
      "max_height": null,
      "max_width": null,
      "min_height": null,
      "min_width": null,
      "object_fit": null,
      "object_position": null,
      "order": null,
      "overflow": null,
      "overflow_x": null,
      "overflow_y": null,
      "padding": null,
      "right": null,
      "top": null,
      "visibility": null,
      "width": null
     }
    },
    "9cabdbe2a6d444a5af4f66b59b236cc6": {
     "model_module": "@jupyter-widgets/controls",
     "model_module_version": "1.5.0",
     "model_name": "HTMLModel",
     "state": {
      "_dom_classes": [],
      "_model_module": "@jupyter-widgets/controls",
      "_model_module_version": "1.5.0",
      "_model_name": "HTMLModel",
      "_view_count": null,
      "_view_module": "@jupyter-widgets/controls",
      "_view_module_version": "1.5.0",
      "_view_name": "HTMLView",
      "description": "",
      "description_tooltip": null,
      "layout": "IPY_MODEL_56d95afff38d4e1491d03ae210f3a2f6",
      "placeholder": "​",
      "style": "IPY_MODEL_c6f67307518c477ba65186ebc2db53b1",
      "value": " 491/491 [00:17&lt;00:00, 24.82it/s]"
     }
    },
    "9d2767e42f734b3aab2df1c2c3da7101": {
     "model_module": "@jupyter-widgets/controls",
     "model_module_version": "1.5.0",
     "model_name": "ProgressStyleModel",
     "state": {
      "_model_module": "@jupyter-widgets/controls",
      "_model_module_version": "1.5.0",
      "_model_name": "ProgressStyleModel",
      "_view_count": null,
      "_view_module": "@jupyter-widgets/base",
      "_view_module_version": "1.2.0",
      "_view_name": "StyleView",
      "bar_color": null,
      "description_width": ""
     }
    },
    "9e15e70a8fce416f87fb40191bff1245": {
     "model_module": "@jupyter-widgets/base",
     "model_module_version": "1.2.0",
     "model_name": "LayoutModel",
     "state": {
      "_model_module": "@jupyter-widgets/base",
      "_model_module_version": "1.2.0",
      "_model_name": "LayoutModel",
      "_view_count": null,
      "_view_module": "@jupyter-widgets/base",
      "_view_module_version": "1.2.0",
      "_view_name": "LayoutView",
      "align_content": null,
      "align_items": null,
      "align_self": null,
      "border": null,
      "bottom": null,
      "display": null,
      "flex": null,
      "flex_flow": null,
      "grid_area": null,
      "grid_auto_columns": null,
      "grid_auto_flow": null,
      "grid_auto_rows": null,
      "grid_column": null,
      "grid_gap": null,
      "grid_row": null,
      "grid_template_areas": null,
      "grid_template_columns": null,
      "grid_template_rows": null,
      "height": null,
      "justify_content": null,
      "justify_items": null,
      "left": null,
      "margin": null,
      "max_height": null,
      "max_width": null,
      "min_height": null,
      "min_width": null,
      "object_fit": null,
      "object_position": null,
      "order": null,
      "overflow": null,
      "overflow_x": null,
      "overflow_y": null,
      "padding": null,
      "right": null,
      "top": null,
      "visibility": null,
      "width": null
     }
    },
    "a15399f3be9f4779a50680b67d27e01e": {
     "model_module": "@jupyter-widgets/controls",
     "model_module_version": "1.5.0",
     "model_name": "DescriptionStyleModel",
     "state": {
      "_model_module": "@jupyter-widgets/controls",
      "_model_module_version": "1.5.0",
      "_model_name": "DescriptionStyleModel",
      "_view_count": null,
      "_view_module": "@jupyter-widgets/base",
      "_view_module_version": "1.2.0",
      "_view_name": "StyleView",
      "description_width": ""
     }
    },
    "ab9bc59e5091465d9ef9e3e181e78fb4": {
     "model_module": "@jupyter-widgets/controls",
     "model_module_version": "1.5.0",
     "model_name": "HBoxModel",
     "state": {
      "_dom_classes": [],
      "_model_module": "@jupyter-widgets/controls",
      "_model_module_version": "1.5.0",
      "_model_name": "HBoxModel",
      "_view_count": null,
      "_view_module": "@jupyter-widgets/controls",
      "_view_module_version": "1.5.0",
      "_view_name": "HBoxView",
      "box_style": "",
      "children": [
       "IPY_MODEL_faa2f424acb846f09f2c8e43e3858ca1",
       "IPY_MODEL_0589fa97d84e40b3b003aecf2cc29fba",
       "IPY_MODEL_fad62a120a2d4bc78ddbe7b2bd62f09d"
      ],
      "layout": "IPY_MODEL_f2b70909cd604c668c88ede3aa552925"
     }
    },
    "af6f6ffcb5fd49c3a9dd881a9f3fb220": {
     "model_module": "@jupyter-widgets/controls",
     "model_module_version": "1.5.0",
     "model_name": "HTMLModel",
     "state": {
      "_dom_classes": [],
      "_model_module": "@jupyter-widgets/controls",
      "_model_module_version": "1.5.0",
      "_model_name": "HTMLModel",
      "_view_count": null,
      "_view_module": "@jupyter-widgets/controls",
      "_view_module_version": "1.5.0",
      "_view_name": "HTMLView",
      "description": "",
      "description_tooltip": null,
      "layout": "IPY_MODEL_4c3c78ee6e0a433f9c95c8ab06099a73",
      "placeholder": "​",
      "style": "IPY_MODEL_e4510f4852c44546ab9c71816c4c7f5f",
      "value": " 50%"
     }
    },
    "afec0ca684724f41b4ea1ddbf11853b6": {
     "model_module": "@jupyter-widgets/controls",
     "model_module_version": "1.5.0",
     "model_name": "DescriptionStyleModel",
     "state": {
      "_model_module": "@jupyter-widgets/controls",
      "_model_module_version": "1.5.0",
      "_model_name": "DescriptionStyleModel",
      "_view_count": null,
      "_view_module": "@jupyter-widgets/base",
      "_view_module_version": "1.2.0",
      "_view_name": "StyleView",
      "description_width": ""
     }
    },
    "b13d22755e7a4cee86f31d1fa1cf3c3b": {
     "model_module": "@jupyter-widgets/controls",
     "model_module_version": "1.5.0",
     "model_name": "HTMLModel",
     "state": {
      "_dom_classes": [],
      "_model_module": "@jupyter-widgets/controls",
      "_model_module_version": "1.5.0",
      "_model_name": "HTMLModel",
      "_view_count": null,
      "_view_module": "@jupyter-widgets/controls",
      "_view_module_version": "1.5.0",
      "_view_name": "HTMLView",
      "description": "",
      "description_tooltip": null,
      "layout": "IPY_MODEL_db288e8fcadc4e90979eed8093699581",
      "placeholder": "​",
      "style": "IPY_MODEL_07725c573b9848449722a613daa11925",
      "value": " 1184/1184 [00:54&lt;00:00, 18.69it/s]"
     }
    },
    "b5a13c086b364a63ad276fbd2ecd0b9f": {
     "model_module": "@jupyter-widgets/controls",
     "model_module_version": "1.5.0",
     "model_name": "HTMLModel",
     "state": {
      "_dom_classes": [],
      "_model_module": "@jupyter-widgets/controls",
      "_model_module_version": "1.5.0",
      "_model_name": "HTMLModel",
      "_view_count": null,
      "_view_module": "@jupyter-widgets/controls",
      "_view_module_version": "1.5.0",
      "_view_name": "HTMLView",
      "description": "",
      "description_tooltip": null,
      "layout": "IPY_MODEL_9e15e70a8fce416f87fb40191bff1245",
      "placeholder": "​",
      "style": "IPY_MODEL_72f848ee91344ec789623ed2c8d756ae",
      "value": " 491/491 [00:16&lt;00:00, 31.65it/s]"
     }
    },
    "ba8cf3fce49743a4a9b3d2c518dcd448": {
     "model_module": "@jupyter-widgets/controls",
     "model_module_version": "1.5.0",
     "model_name": "ProgressStyleModel",
     "state": {
      "_model_module": "@jupyter-widgets/controls",
      "_model_module_version": "1.5.0",
      "_model_name": "ProgressStyleModel",
      "_view_count": null,
      "_view_module": "@jupyter-widgets/base",
      "_view_module_version": "1.2.0",
      "_view_name": "StyleView",
      "bar_color": null,
      "description_width": ""
     }
    },
    "bcd2aa52303547adb76b814c4956b6b5": {
     "model_module": "@jupyter-widgets/base",
     "model_module_version": "1.2.0",
     "model_name": "LayoutModel",
     "state": {
      "_model_module": "@jupyter-widgets/base",
      "_model_module_version": "1.2.0",
      "_model_name": "LayoutModel",
      "_view_count": null,
      "_view_module": "@jupyter-widgets/base",
      "_view_module_version": "1.2.0",
      "_view_name": "LayoutView",
      "align_content": null,
      "align_items": null,
      "align_self": null,
      "border": null,
      "bottom": null,
      "display": null,
      "flex": null,
      "flex_flow": null,
      "grid_area": null,
      "grid_auto_columns": null,
      "grid_auto_flow": null,
      "grid_auto_rows": null,
      "grid_column": null,
      "grid_gap": null,
      "grid_row": null,
      "grid_template_areas": null,
      "grid_template_columns": null,
      "grid_template_rows": null,
      "height": null,
      "justify_content": null,
      "justify_items": null,
      "left": null,
      "margin": null,
      "max_height": null,
      "max_width": null,
      "min_height": null,
      "min_width": null,
      "object_fit": null,
      "object_position": null,
      "order": null,
      "overflow": null,
      "overflow_x": null,
      "overflow_y": null,
      "padding": null,
      "right": null,
      "top": null,
      "visibility": null,
      "width": null
     }
    },
    "bd02b21ed2dc42d997afa6187d52b699": {
     "model_module": "@jupyter-widgets/base",
     "model_module_version": "1.2.0",
     "model_name": "LayoutModel",
     "state": {
      "_model_module": "@jupyter-widgets/base",
      "_model_module_version": "1.2.0",
      "_model_name": "LayoutModel",
      "_view_count": null,
      "_view_module": "@jupyter-widgets/base",
      "_view_module_version": "1.2.0",
      "_view_name": "LayoutView",
      "align_content": null,
      "align_items": null,
      "align_self": null,
      "border": null,
      "bottom": null,
      "display": null,
      "flex": null,
      "flex_flow": null,
      "grid_area": null,
      "grid_auto_columns": null,
      "grid_auto_flow": null,
      "grid_auto_rows": null,
      "grid_column": null,
      "grid_gap": null,
      "grid_row": null,
      "grid_template_areas": null,
      "grid_template_columns": null,
      "grid_template_rows": null,
      "height": null,
      "justify_content": null,
      "justify_items": null,
      "left": null,
      "margin": null,
      "max_height": null,
      "max_width": null,
      "min_height": null,
      "min_width": null,
      "object_fit": null,
      "object_position": null,
      "order": null,
      "overflow": null,
      "overflow_x": null,
      "overflow_y": null,
      "padding": null,
      "right": null,
      "top": null,
      "visibility": null,
      "width": null
     }
    },
    "bfa068786d3d4a8983f5fc0237350296": {
     "model_module": "@jupyter-widgets/base",
     "model_module_version": "1.2.0",
     "model_name": "LayoutModel",
     "state": {
      "_model_module": "@jupyter-widgets/base",
      "_model_module_version": "1.2.0",
      "_model_name": "LayoutModel",
      "_view_count": null,
      "_view_module": "@jupyter-widgets/base",
      "_view_module_version": "1.2.0",
      "_view_name": "LayoutView",
      "align_content": null,
      "align_items": null,
      "align_self": null,
      "border": null,
      "bottom": null,
      "display": null,
      "flex": null,
      "flex_flow": null,
      "grid_area": null,
      "grid_auto_columns": null,
      "grid_auto_flow": null,
      "grid_auto_rows": null,
      "grid_column": null,
      "grid_gap": null,
      "grid_row": null,
      "grid_template_areas": null,
      "grid_template_columns": null,
      "grid_template_rows": null,
      "height": null,
      "justify_content": null,
      "justify_items": null,
      "left": null,
      "margin": null,
      "max_height": null,
      "max_width": null,
      "min_height": null,
      "min_width": null,
      "object_fit": null,
      "object_position": null,
      "order": null,
      "overflow": null,
      "overflow_x": null,
      "overflow_y": null,
      "padding": null,
      "right": null,
      "top": null,
      "visibility": null,
      "width": null
     }
    },
    "c1549b94d91d40d091b9f29ecba0dd21": {
     "model_module": "@jupyter-widgets/controls",
     "model_module_version": "1.5.0",
     "model_name": "HBoxModel",
     "state": {
      "_dom_classes": [],
      "_model_module": "@jupyter-widgets/controls",
      "_model_module_version": "1.5.0",
      "_model_name": "HBoxModel",
      "_view_count": null,
      "_view_module": "@jupyter-widgets/controls",
      "_view_module_version": "1.5.0",
      "_view_name": "HBoxView",
      "box_style": "",
      "children": [
       "IPY_MODEL_79ac0c5eed92465fab179d7ecb1bb11d",
       "IPY_MODEL_e25d3f33096742bfb00ad651f42d0214",
       "IPY_MODEL_35ff629138354a7bae1335eb037a78c4"
      ],
      "layout": "IPY_MODEL_bcd2aa52303547adb76b814c4956b6b5"
     }
    },
    "c6f67307518c477ba65186ebc2db53b1": {
     "model_module": "@jupyter-widgets/controls",
     "model_module_version": "1.5.0",
     "model_name": "DescriptionStyleModel",
     "state": {
      "_model_module": "@jupyter-widgets/controls",
      "_model_module_version": "1.5.0",
      "_model_name": "DescriptionStyleModel",
      "_view_count": null,
      "_view_module": "@jupyter-widgets/base",
      "_view_module_version": "1.2.0",
      "_view_name": "StyleView",
      "description_width": ""
     }
    },
    "d0c89baf565b46eca8762034c9edbcf6": {
     "model_module": "@jupyter-widgets/controls",
     "model_module_version": "1.5.0",
     "model_name": "HBoxModel",
     "state": {
      "_dom_classes": [],
      "_model_module": "@jupyter-widgets/controls",
      "_model_module_version": "1.5.0",
      "_model_name": "HBoxModel",
      "_view_count": null,
      "_view_module": "@jupyter-widgets/controls",
      "_view_module_version": "1.5.0",
      "_view_name": "HBoxView",
      "box_style": "",
      "children": [
       "IPY_MODEL_51e59983a78542a58afc8a1d4c81fc33",
       "IPY_MODEL_f52c1fe96b7448959a8d94eba4e63cc5",
       "IPY_MODEL_65fbc59856eb474390ba030a3ee48ace"
      ],
      "layout": "IPY_MODEL_d5129711586048b79ebea8f58af00706"
     }
    },
    "d36e4b5bd1eb4fe9b5f5965cdac14e2e": {
     "model_module": "@jupyter-widgets/base",
     "model_module_version": "1.2.0",
     "model_name": "LayoutModel",
     "state": {
      "_model_module": "@jupyter-widgets/base",
      "_model_module_version": "1.2.0",
      "_model_name": "LayoutModel",
      "_view_count": null,
      "_view_module": "@jupyter-widgets/base",
      "_view_module_version": "1.2.0",
      "_view_name": "LayoutView",
      "align_content": null,
      "align_items": null,
      "align_self": null,
      "border": null,
      "bottom": null,
      "display": null,
      "flex": null,
      "flex_flow": null,
      "grid_area": null,
      "grid_auto_columns": null,
      "grid_auto_flow": null,
      "grid_auto_rows": null,
      "grid_column": null,
      "grid_gap": null,
      "grid_row": null,
      "grid_template_areas": null,
      "grid_template_columns": null,
      "grid_template_rows": null,
      "height": null,
      "justify_content": null,
      "justify_items": null,
      "left": null,
      "margin": null,
      "max_height": null,
      "max_width": null,
      "min_height": null,
      "min_width": null,
      "object_fit": null,
      "object_position": null,
      "order": null,
      "overflow": null,
      "overflow_x": null,
      "overflow_y": null,
      "padding": null,
      "right": null,
      "top": null,
      "visibility": null,
      "width": null
     }
    },
    "d47fd7e784c94de6b608f6a851bf3d56": {
     "model_module": "@jupyter-widgets/base",
     "model_module_version": "1.2.0",
     "model_name": "LayoutModel",
     "state": {
      "_model_module": "@jupyter-widgets/base",
      "_model_module_version": "1.2.0",
      "_model_name": "LayoutModel",
      "_view_count": null,
      "_view_module": "@jupyter-widgets/base",
      "_view_module_version": "1.2.0",
      "_view_name": "LayoutView",
      "align_content": null,
      "align_items": null,
      "align_self": null,
      "border": null,
      "bottom": null,
      "display": null,
      "flex": null,
      "flex_flow": null,
      "grid_area": null,
      "grid_auto_columns": null,
      "grid_auto_flow": null,
      "grid_auto_rows": null,
      "grid_column": null,
      "grid_gap": null,
      "grid_row": null,
      "grid_template_areas": null,
      "grid_template_columns": null,
      "grid_template_rows": null,
      "height": null,
      "justify_content": null,
      "justify_items": null,
      "left": null,
      "margin": null,
      "max_height": null,
      "max_width": null,
      "min_height": null,
      "min_width": null,
      "object_fit": null,
      "object_position": null,
      "order": null,
      "overflow": null,
      "overflow_x": null,
      "overflow_y": null,
      "padding": null,
      "right": null,
      "top": null,
      "visibility": null,
      "width": null
     }
    },
    "d5129711586048b79ebea8f58af00706": {
     "model_module": "@jupyter-widgets/base",
     "model_module_version": "1.2.0",
     "model_name": "LayoutModel",
     "state": {
      "_model_module": "@jupyter-widgets/base",
      "_model_module_version": "1.2.0",
      "_model_name": "LayoutModel",
      "_view_count": null,
      "_view_module": "@jupyter-widgets/base",
      "_view_module_version": "1.2.0",
      "_view_name": "LayoutView",
      "align_content": null,
      "align_items": null,
      "align_self": null,
      "border": null,
      "bottom": null,
      "display": null,
      "flex": null,
      "flex_flow": null,
      "grid_area": null,
      "grid_auto_columns": null,
      "grid_auto_flow": null,
      "grid_auto_rows": null,
      "grid_column": null,
      "grid_gap": null,
      "grid_row": null,
      "grid_template_areas": null,
      "grid_template_columns": null,
      "grid_template_rows": null,
      "height": null,
      "justify_content": null,
      "justify_items": null,
      "left": null,
      "margin": null,
      "max_height": null,
      "max_width": null,
      "min_height": null,
      "min_width": null,
      "object_fit": null,
      "object_position": null,
      "order": null,
      "overflow": null,
      "overflow_x": null,
      "overflow_y": null,
      "padding": null,
      "right": null,
      "top": null,
      "visibility": null,
      "width": null
     }
    },
    "d69128d59b804408b6d7fb9a9a1bcdc4": {
     "model_module": "@jupyter-widgets/base",
     "model_module_version": "1.2.0",
     "model_name": "LayoutModel",
     "state": {
      "_model_module": "@jupyter-widgets/base",
      "_model_module_version": "1.2.0",
      "_model_name": "LayoutModel",
      "_view_count": null,
      "_view_module": "@jupyter-widgets/base",
      "_view_module_version": "1.2.0",
      "_view_name": "LayoutView",
      "align_content": null,
      "align_items": null,
      "align_self": null,
      "border": null,
      "bottom": null,
      "display": null,
      "flex": null,
      "flex_flow": null,
      "grid_area": null,
      "grid_auto_columns": null,
      "grid_auto_flow": null,
      "grid_auto_rows": null,
      "grid_column": null,
      "grid_gap": null,
      "grid_row": null,
      "grid_template_areas": null,
      "grid_template_columns": null,
      "grid_template_rows": null,
      "height": null,
      "justify_content": null,
      "justify_items": null,
      "left": null,
      "margin": null,
      "max_height": null,
      "max_width": null,
      "min_height": null,
      "min_width": null,
      "object_fit": null,
      "object_position": null,
      "order": null,
      "overflow": null,
      "overflow_x": null,
      "overflow_y": null,
      "padding": null,
      "right": null,
      "top": null,
      "visibility": null,
      "width": null
     }
    },
    "db288e8fcadc4e90979eed8093699581": {
     "model_module": "@jupyter-widgets/base",
     "model_module_version": "1.2.0",
     "model_name": "LayoutModel",
     "state": {
      "_model_module": "@jupyter-widgets/base",
      "_model_module_version": "1.2.0",
      "_model_name": "LayoutModel",
      "_view_count": null,
      "_view_module": "@jupyter-widgets/base",
      "_view_module_version": "1.2.0",
      "_view_name": "LayoutView",
      "align_content": null,
      "align_items": null,
      "align_self": null,
      "border": null,
      "bottom": null,
      "display": null,
      "flex": null,
      "flex_flow": null,
      "grid_area": null,
      "grid_auto_columns": null,
      "grid_auto_flow": null,
      "grid_auto_rows": null,
      "grid_column": null,
      "grid_gap": null,
      "grid_row": null,
      "grid_template_areas": null,
      "grid_template_columns": null,
      "grid_template_rows": null,
      "height": null,
      "justify_content": null,
      "justify_items": null,
      "left": null,
      "margin": null,
      "max_height": null,
      "max_width": null,
      "min_height": null,
      "min_width": null,
      "object_fit": null,
      "object_position": null,
      "order": null,
      "overflow": null,
      "overflow_x": null,
      "overflow_y": null,
      "padding": null,
      "right": null,
      "top": null,
      "visibility": null,
      "width": null
     }
    },
    "db5b5fc8c0564476a7c17dfb3658a25d": {
     "model_module": "@jupyter-widgets/base",
     "model_module_version": "1.2.0",
     "model_name": "LayoutModel",
     "state": {
      "_model_module": "@jupyter-widgets/base",
      "_model_module_version": "1.2.0",
      "_model_name": "LayoutModel",
      "_view_count": null,
      "_view_module": "@jupyter-widgets/base",
      "_view_module_version": "1.2.0",
      "_view_name": "LayoutView",
      "align_content": null,
      "align_items": null,
      "align_self": null,
      "border": null,
      "bottom": null,
      "display": null,
      "flex": null,
      "flex_flow": null,
      "grid_area": null,
      "grid_auto_columns": null,
      "grid_auto_flow": null,
      "grid_auto_rows": null,
      "grid_column": null,
      "grid_gap": null,
      "grid_row": null,
      "grid_template_areas": null,
      "grid_template_columns": null,
      "grid_template_rows": null,
      "height": null,
      "justify_content": null,
      "justify_items": null,
      "left": null,
      "margin": null,
      "max_height": null,
      "max_width": null,
      "min_height": null,
      "min_width": null,
      "object_fit": null,
      "object_position": null,
      "order": null,
      "overflow": null,
      "overflow_x": null,
      "overflow_y": null,
      "padding": null,
      "right": null,
      "top": null,
      "visibility": null,
      "width": null
     }
    },
    "dcb8237f98a5482a9d39ee2f577c4a0f": {
     "model_module": "@jupyter-widgets/controls",
     "model_module_version": "1.5.0",
     "model_name": "DescriptionStyleModel",
     "state": {
      "_model_module": "@jupyter-widgets/controls",
      "_model_module_version": "1.5.0",
      "_model_name": "DescriptionStyleModel",
      "_view_count": null,
      "_view_module": "@jupyter-widgets/base",
      "_view_module_version": "1.2.0",
      "_view_name": "StyleView",
      "description_width": ""
     }
    },
    "de462f0960e6408ea80eed5580d23663": {
     "model_module": "@jupyter-widgets/controls",
     "model_module_version": "1.5.0",
     "model_name": "HTMLModel",
     "state": {
      "_dom_classes": [],
      "_model_module": "@jupyter-widgets/controls",
      "_model_module_version": "1.5.0",
      "_model_name": "HTMLModel",
      "_view_count": null,
      "_view_module": "@jupyter-widgets/controls",
      "_view_module_version": "1.5.0",
      "_view_name": "HTMLView",
      "description": "",
      "description_tooltip": null,
      "layout": "IPY_MODEL_93177ebbe67e4cb6af1606ba8b8668f4",
      "placeholder": "​",
      "style": "IPY_MODEL_5a7175fac25544bbb38c01f2f4fb7009",
      "value": "100%"
     }
    },
    "e0ae243d5e654f30a727068c4403462e": {
     "model_module": "@jupyter-widgets/base",
     "model_module_version": "1.2.0",
     "model_name": "LayoutModel",
     "state": {
      "_model_module": "@jupyter-widgets/base",
      "_model_module_version": "1.2.0",
      "_model_name": "LayoutModel",
      "_view_count": null,
      "_view_module": "@jupyter-widgets/base",
      "_view_module_version": "1.2.0",
      "_view_name": "LayoutView",
      "align_content": null,
      "align_items": null,
      "align_self": null,
      "border": null,
      "bottom": null,
      "display": null,
      "flex": null,
      "flex_flow": null,
      "grid_area": null,
      "grid_auto_columns": null,
      "grid_auto_flow": null,
      "grid_auto_rows": null,
      "grid_column": null,
      "grid_gap": null,
      "grid_row": null,
      "grid_template_areas": null,
      "grid_template_columns": null,
      "grid_template_rows": null,
      "height": null,
      "justify_content": null,
      "justify_items": null,
      "left": null,
      "margin": null,
      "max_height": null,
      "max_width": null,
      "min_height": null,
      "min_width": null,
      "object_fit": null,
      "object_position": null,
      "order": null,
      "overflow": null,
      "overflow_x": null,
      "overflow_y": null,
      "padding": null,
      "right": null,
      "top": null,
      "visibility": null,
      "width": null
     }
    },
    "e25d3f33096742bfb00ad651f42d0214": {
     "model_module": "@jupyter-widgets/controls",
     "model_module_version": "1.5.0",
     "model_name": "FloatProgressModel",
     "state": {
      "_dom_classes": [],
      "_model_module": "@jupyter-widgets/controls",
      "_model_module_version": "1.5.0",
      "_model_name": "FloatProgressModel",
      "_view_count": null,
      "_view_module": "@jupyter-widgets/controls",
      "_view_module_version": "1.5.0",
      "_view_name": "ProgressView",
      "bar_style": "danger",
      "description": "",
      "description_tooltip": null,
      "layout": "IPY_MODEL_d36e4b5bd1eb4fe9b5f5965cdac14e2e",
      "max": 1184,
      "min": 0,
      "orientation": "horizontal",
      "style": "IPY_MODEL_9d2767e42f734b3aab2df1c2c3da7101",
      "value": 587
     }
    },
    "e4510f4852c44546ab9c71816c4c7f5f": {
     "model_module": "@jupyter-widgets/controls",
     "model_module_version": "1.5.0",
     "model_name": "DescriptionStyleModel",
     "state": {
      "_model_module": "@jupyter-widgets/controls",
      "_model_module_version": "1.5.0",
      "_model_name": "DescriptionStyleModel",
      "_view_count": null,
      "_view_module": "@jupyter-widgets/base",
      "_view_module_version": "1.2.0",
      "_view_name": "StyleView",
      "description_width": ""
     }
    },
    "e6732d7b2f32438382d105394cb0c152": {
     "model_module": "@jupyter-widgets/base",
     "model_module_version": "1.2.0",
     "model_name": "LayoutModel",
     "state": {
      "_model_module": "@jupyter-widgets/base",
      "_model_module_version": "1.2.0",
      "_model_name": "LayoutModel",
      "_view_count": null,
      "_view_module": "@jupyter-widgets/base",
      "_view_module_version": "1.2.0",
      "_view_name": "LayoutView",
      "align_content": null,
      "align_items": null,
      "align_self": null,
      "border": null,
      "bottom": null,
      "display": null,
      "flex": null,
      "flex_flow": null,
      "grid_area": null,
      "grid_auto_columns": null,
      "grid_auto_flow": null,
      "grid_auto_rows": null,
      "grid_column": null,
      "grid_gap": null,
      "grid_row": null,
      "grid_template_areas": null,
      "grid_template_columns": null,
      "grid_template_rows": null,
      "height": null,
      "justify_content": null,
      "justify_items": null,
      "left": null,
      "margin": null,
      "max_height": null,
      "max_width": null,
      "min_height": null,
      "min_width": null,
      "object_fit": null,
      "object_position": null,
      "order": null,
      "overflow": null,
      "overflow_x": null,
      "overflow_y": null,
      "padding": null,
      "right": null,
      "top": null,
      "visibility": null,
      "width": null
     }
    },
    "f18af857fe604a0aaad063982bd20d61": {
     "model_module": "@jupyter-widgets/controls",
     "model_module_version": "1.5.0",
     "model_name": "DescriptionStyleModel",
     "state": {
      "_model_module": "@jupyter-widgets/controls",
      "_model_module_version": "1.5.0",
      "_model_name": "DescriptionStyleModel",
      "_view_count": null,
      "_view_module": "@jupyter-widgets/base",
      "_view_module_version": "1.2.0",
      "_view_name": "StyleView",
      "description_width": ""
     }
    },
    "f2b70909cd604c668c88ede3aa552925": {
     "model_module": "@jupyter-widgets/base",
     "model_module_version": "1.2.0",
     "model_name": "LayoutModel",
     "state": {
      "_model_module": "@jupyter-widgets/base",
      "_model_module_version": "1.2.0",
      "_model_name": "LayoutModel",
      "_view_count": null,
      "_view_module": "@jupyter-widgets/base",
      "_view_module_version": "1.2.0",
      "_view_name": "LayoutView",
      "align_content": null,
      "align_items": null,
      "align_self": null,
      "border": null,
      "bottom": null,
      "display": null,
      "flex": null,
      "flex_flow": null,
      "grid_area": null,
      "grid_auto_columns": null,
      "grid_auto_flow": null,
      "grid_auto_rows": null,
      "grid_column": null,
      "grid_gap": null,
      "grid_row": null,
      "grid_template_areas": null,
      "grid_template_columns": null,
      "grid_template_rows": null,
      "height": null,
      "justify_content": null,
      "justify_items": null,
      "left": null,
      "margin": null,
      "max_height": null,
      "max_width": null,
      "min_height": null,
      "min_width": null,
      "object_fit": null,
      "object_position": null,
      "order": null,
      "overflow": null,
      "overflow_x": null,
      "overflow_y": null,
      "padding": null,
      "right": null,
      "top": null,
      "visibility": null,
      "width": null
     }
    },
    "f52c1fe96b7448959a8d94eba4e63cc5": {
     "model_module": "@jupyter-widgets/controls",
     "model_module_version": "1.5.0",
     "model_name": "FloatProgressModel",
     "state": {
      "_dom_classes": [],
      "_model_module": "@jupyter-widgets/controls",
      "_model_module_version": "1.5.0",
      "_model_name": "FloatProgressModel",
      "_view_count": null,
      "_view_module": "@jupyter-widgets/controls",
      "_view_module_version": "1.5.0",
      "_view_name": "ProgressView",
      "bar_style": "",
      "description": "",
      "description_tooltip": null,
      "layout": "IPY_MODEL_59021395427346c7ab718daa2f92be3f",
      "max": 1184,
      "min": 0,
      "orientation": "horizontal",
      "style": "IPY_MODEL_37c913633e404edc94564af68426d529",
      "value": 498
     }
    },
    "faa2f424acb846f09f2c8e43e3858ca1": {
     "model_module": "@jupyter-widgets/controls",
     "model_module_version": "1.5.0",
     "model_name": "HTMLModel",
     "state": {
      "_dom_classes": [],
      "_model_module": "@jupyter-widgets/controls",
      "_model_module_version": "1.5.0",
      "_model_name": "HTMLModel",
      "_view_count": null,
      "_view_module": "@jupyter-widgets/controls",
      "_view_module_version": "1.5.0",
      "_view_name": "HTMLView",
      "description": "",
      "description_tooltip": null,
      "layout": "IPY_MODEL_23ed941ec4b244eaa22a3b012dc933c2",
      "placeholder": "​",
      "style": "IPY_MODEL_a15399f3be9f4779a50680b67d27e01e",
      "value": "100%"
     }
    },
    "fad62a120a2d4bc78ddbe7b2bd62f09d": {
     "model_module": "@jupyter-widgets/controls",
     "model_module_version": "1.5.0",
     "model_name": "HTMLModel",
     "state": {
      "_dom_classes": [],
      "_model_module": "@jupyter-widgets/controls",
      "_model_module_version": "1.5.0",
      "_model_name": "HTMLModel",
      "_view_count": null,
      "_view_module": "@jupyter-widgets/controls",
      "_view_module_version": "1.5.0",
      "_view_name": "HTMLView",
      "description": "",
      "description_tooltip": null,
      "layout": "IPY_MODEL_bd02b21ed2dc42d997afa6187d52b699",
      "placeholder": "​",
      "style": "IPY_MODEL_8cdbe04c38494002b5d25da9786a38cb",
      "value": " 1184/1184 [00:51&lt;00:00, 18.27it/s]"
     }
    },
    "fcb52745e4a54d219a3605a8c328d567": {
     "model_module": "@jupyter-widgets/controls",
     "model_module_version": "1.5.0",
     "model_name": "DescriptionStyleModel",
     "state": {
      "_model_module": "@jupyter-widgets/controls",
      "_model_module_version": "1.5.0",
      "_model_name": "DescriptionStyleModel",
      "_view_count": null,
      "_view_module": "@jupyter-widgets/base",
      "_view_module_version": "1.2.0",
      "_view_name": "StyleView",
      "description_width": ""
     }
    }
   }
  }
 },
 "nbformat": 4,
 "nbformat_minor": 5
}
