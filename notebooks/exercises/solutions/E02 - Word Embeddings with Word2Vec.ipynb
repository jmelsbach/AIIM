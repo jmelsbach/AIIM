{
 "cells": [
  {
   "cell_type": "markdown",
   "metadata": {
    "id": "8OSoLnKRMZQS"
   },
   "source": [
    "![Logo Uni Köln](https://raw.githubusercontent.com/jmelsbach/ai-im/main/img/uni-logo.png)"
   ]
  },
  {
   "cell_type": "markdown",
   "metadata": {
    "id": "8L0w5U9pMdcx"
   },
   "source": [
    "# Exercise 03 Notebook - Preprocessing, TF-IDF and Word2Vec\n"
   ]
  },
  {
   "cell_type": "markdown",
   "metadata": {
    "id": "0rW011jzMqlp"
   },
   "source": [
    "In this exercise you will create vector representations of words and documents.\n",
    "In the python eco system there are several libraries that make it very easy to implement to achieve this.\n",
    "\n",
    "In this notebook we will use the  `gensim` library for text preprocessing and the training of a `word2Vec` model."
   ]
  },
  {
   "cell_type": "code",
   "execution_count": null,
   "metadata": {
    "colab": {
     "base_uri": "https://localhost:8080/"
    },
    "id": "ac_R3U6Wx1lc",
    "outputId": "97a0f91c-cd54-4354-9496-a7d7a4ce55b4"
   },
   "outputs": [],
   "source": [
    "pip uninstall gensim -y"
   ]
  },
  {
   "cell_type": "code",
   "execution_count": null,
   "metadata": {
    "colab": {
     "base_uri": "https://localhost:8080/"
    },
    "id": "yOsJ5qC2x9R9",
    "outputId": "0fb32a0d-7b0e-47e6-f165-333c7f740928"
   },
   "outputs": [],
   "source": [
    "pip install gensim"
   ]
  },
  {
   "cell_type": "markdown",
   "metadata": {
    "id": "IlKXi8Q4_47v"
   },
   "source": [
    "## 1. Using a pretrained Word2Vec Model\n",
    "In this part we will download a pretrained word2vec model that was trained on a huge news corpus by google. The model was trained in 2013 so the data includes news articles from before that year. The model is quite large so downloading it will take about 10 minutes."
   ]
  },
  {
   "cell_type": "code",
   "execution_count": null,
   "metadata": {
    "colab": {
     "base_uri": "https://localhost:8080/"
    },
    "id": "FzA0UiJ3eh_9",
    "outputId": "9ccdc272-7113-4bb3-b227-b01b7cadaa90"
   },
   "outputs": [],
   "source": [
    "%%time\n",
    "import gensim.downloader as api\n",
    "# download takes about 10-15 minutes\n",
    "wv = api.load('word2vec-google-news-300')"
   ]
  },
  {
   "cell_type": "markdown",
   "metadata": {
    "id": "9C7Uqtn4Bj0A"
   },
   "source": [
    "Download has finished and we can now start to explore the model. As a first step find out how to get a vector for the word `king`. How many dimensions has the vector? You can learn how to extract the word vectors in [this word2vec tutorial](https://radimrehurek.com/gensim/auto_examples/tutorials/run_word2vec.html#sphx-glr-auto-examples-tutorials-run-word2vec-py)."
   ]
  },
  {
   "cell_type": "code",
   "execution_count": null,
   "metadata": {
    "colab": {
     "base_uri": "https://localhost:8080/"
    },
    "id": "Xp7SFB6jIQ_Q",
    "outputId": "22e18988-afe3-4e59-c266-3347e601d61b"
   },
   "outputs": [],
   "source": [
    "wv['king']"
   ]
  },
  {
   "cell_type": "code",
   "execution_count": null,
   "metadata": {
    "colab": {
     "base_uri": "https://localhost:8080/"
    },
    "id": "mE4ce5LSThN5",
    "outputId": "9f7fc3ae-0ea1-4e78-bcab-3d7ff72bfef1"
   },
   "outputs": [],
   "source": [
    "wv['king'].shape"
   ]
  },
  {
   "cell_type": "code",
   "execution_count": null,
   "metadata": {
    "colab": {
     "base_uri": "https://localhost:8080/"
    },
    "id": "yPM-C0A_1Y7a",
    "outputId": "0fc29a24-b031-451e-bcef-c8ea7f35973f"
   },
   "outputs": [],
   "source": [
    "wv.most_similar(\"king\")"
   ]
  },
  {
   "cell_type": "markdown",
   "metadata": {
    "id": "zsxYE0mbNA9M"
   },
   "source": [
    "### 1.1 Exploring the model"
   ]
  },
  {
   "cell_type": "markdown",
   "metadata": {
    "id": "Sfjj8oagIRGi"
   },
   "source": [
    "We saw in the lecture that it can useful to preprocess the text data before training a vectorization technique. Try to find out by finding examples how the data in the google corpus has been preprocessed. Things you should check:\n",
    "* lowercasing\n",
    "* stopword removal\n",
    "* stemming\n",
    "* n-grams"
   ]
  },
  {
   "cell_type": "code",
   "execution_count": null,
   "metadata": {
    "colab": {
     "base_uri": "https://localhost:8080/"
    },
    "id": "qEkDDvu3IreI",
    "outputId": "73b27c23-b096-4f1e-8661-ef214c4ced9b"
   },
   "outputs": [],
   "source": [
    "wv[\"New_York\"]"
   ]
  },
  {
   "cell_type": "code",
   "execution_count": null,
   "metadata": {
    "colab": {
     "base_uri": "https://localhost:8080/"
    },
    "id": "6obqSlpWZCSP",
    "outputId": "0a269989-e57e-4d8d-bfc2-2dcc6ccb4c99"
   },
   "outputs": [],
   "source": [
    "wv.most_similar(\"Angela_Merkel\")"
   ]
  },
  {
   "cell_type": "markdown",
   "metadata": {
    "id": "BMIWsgXFDR49"
   },
   "source": [
    "As you are now more familar with the model complete the following tasks:\n",
    "* v(king) - v(man) + v(woman) = ?\n",
    "* use analogies to find out the capital 'Cameroon'\n",
    "* use analogies to find out who was the prime minister of spain\n",
    "* find other examples where this works out and makes sense\n",
    "* find examples where this doesn't work well\n",
    "* use the word2vec model to find out which of the following words does not fit in the group: `[\"breakfast\", \"cereal\", \"dinner\", \"lunch\"]`"
   ]
  },
  {
   "cell_type": "code",
   "execution_count": null,
   "metadata": {
    "colab": {
     "base_uri": "https://localhost:8080/"
    },
    "id": "gMF37TEnUBHl",
    "outputId": "d52d0c7a-5492-4ac5-ee84-811f6e7de991"
   },
   "outputs": [],
   "source": [
    "# v(king) - v(man) + v(woman) = ?\n",
    "wv.most_similar(positive=[\"King\", \"Woman\"], negative=[\"Man\"])"
   ]
  },
  {
   "cell_type": "code",
   "execution_count": null,
   "metadata": {
    "colab": {
     "base_uri": "https://localhost:8080/"
    },
    "id": "CeVyNZDkXInd",
    "outputId": "d4c98096-5e2f-4c71-ee02-fcbea2d2b3de"
   },
   "outputs": [],
   "source": [
    "wv.most_similar(positive=\"king\")"
   ]
  },
  {
   "cell_type": "code",
   "execution_count": null,
   "metadata": {
    "colab": {
     "base_uri": "https://localhost:8080/"
    },
    "id": "PgpcAh_5Trhc",
    "outputId": "5cf4784f-0cde-408b-fda7-f81aedb8d0eb"
   },
   "outputs": [],
   "source": [
    "# v(king) - v(man) + v(woman) = ?\n",
    "wv.most_similar(positive=[\"king\", \"woman\"], negative=[\"man\"])"
   ]
  },
  {
   "cell_type": "code",
   "execution_count": null,
   "metadata": {
    "colab": {
     "base_uri": "https://localhost:8080/"
    },
    "id": "wVrQqceehSwK",
    "outputId": "4200f730-7dcf-4744-9c45-457f12a99bca"
   },
   "outputs": [],
   "source": [
    "# use analogies to find out the capital 'Cameroon'\n",
    "wv.most_similar(positive=['Berlin', 'Cameroon'], negative=['Germany'], topn=10)"
   ]
  },
  {
   "cell_type": "code",
   "execution_count": null,
   "metadata": {
    "colab": {
     "base_uri": "https://localhost:8080/"
    },
    "id": "htUYaobuPGMv",
    "outputId": "f013ebcc-c22e-40fd-cfd7-ffe3cf47d281"
   },
   "outputs": [],
   "source": [
    "# use analogies to find out who was the prime minister of spain\n",
    "wv.most_similar(positive=['Angela_Merkel', 'Spain'], negative=['Germany'], topn=10)"
   ]
  },
  {
   "cell_type": "code",
   "execution_count": null,
   "metadata": {
    "colab": {
     "base_uri": "https://localhost:8080/"
    },
    "id": "IcA_p8zkUkkN",
    "outputId": "4314125d-cc2e-4c2b-82aa-8e313584166c"
   },
   "outputs": [],
   "source": [
    "# find other examples\n",
    "wv.most_similar(positive=['baguette', 'Germany'], negative=['France'], topn=10)"
   ]
  },
  {
   "cell_type": "code",
   "execution_count": null,
   "metadata": {
    "colab": {
     "base_uri": "https://localhost:8080/"
    },
    "id": "EbrSVUHmV1vf",
    "outputId": "52372410-3376-41ac-a6a4-13ef9ea0065d"
   },
   "outputs": [],
   "source": [
    "# find other examples\n",
    "wv.most_similar(positive=['Berlin', 'Mexico'], negative=['Germany'], topn=10)"
   ]
  },
  {
   "cell_type": "code",
   "execution_count": null,
   "metadata": {
    "colab": {
     "base_uri": "https://localhost:8080/",
     "height": 35
    },
    "id": "AtKyk9iSWIIr",
    "outputId": "4f453d49-7f0c-49c3-d273-0cc50f6c9ee4"
   },
   "outputs": [],
   "source": [
    "wv.doesnt_match(['breakfast', 'cereal', 'dinner', 'lunch'])"
   ]
  },
  {
   "cell_type": "code",
   "execution_count": null,
   "metadata": {
    "colab": {
     "base_uri": "https://localhost:8080/"
    },
    "id": "cfKckNWVW0p6",
    "outputId": "294556b0-fb00-4e6d-d2d4-7c7e8c9aa748"
   },
   "outputs": [],
   "source": [
    "wv.similarity(\"France\", \"Germany\")"
   ]
  },
  {
   "cell_type": "code",
   "execution_count": null,
   "metadata": {
    "colab": {
     "base_uri": "https://localhost:8080/"
    },
    "id": "XUpeRYU8W3QY",
    "outputId": "bf08f966-cb83-432a-8e40-1e33e6111f8f"
   },
   "outputs": [],
   "source": [
    "wv.similarity(\"Berlin\", \"Germany\")"
   ]
  },
  {
   "cell_type": "markdown",
   "metadata": {
    "id": "tBrjR842JMBg"
   },
   "source": [
    "### 1.2 Bias in word embeddings\n",
    "Word2Vec learns word relationships on a training corpus. If there is a bias in the training corpus, there is a great chance that those are also reflected in the resulting word embeddings. [This Paper](https://arxiv.org/pdf/1607.06520.pdf) has studied bias in word2vec word embeddings. Look at the examples given in the paper and try if you can reproduce any of them."
   ]
  },
  {
   "cell_type": "code",
   "execution_count": null,
   "metadata": {
    "colab": {
     "base_uri": "https://localhost:8080/"
    },
    "id": "jBQCY1iSDte6",
    "outputId": "1c0ec906-b720-456b-8d1c-a4c6350d3e4e"
   },
   "outputs": [],
   "source": [
    "wv.most_similar(positive=['computer_programmer', 'woman'], negative=['man'], topn=10)"
   ]
  },
  {
   "cell_type": "code",
   "execution_count": null,
   "metadata": {
    "colab": {
     "base_uri": "https://localhost:8080/"
    },
    "id": "xPvajZnBAC-Z",
    "outputId": "a25c00f2-e1a4-4be8-a4f8-f557da7ab2fb"
   },
   "outputs": [],
   "source": [
    "wv.most_similar(positive=['doctor', 'woman'], negative=['man'], topn=10)"
   ]
  },
  {
   "cell_type": "markdown",
   "metadata": {
    "id": "a2ipgquWNTm0"
   },
   "source": [
    "### 1.3 Visualizing Word Embeddings\n",
    "Word Embeddings usually live in a very high dimensional space. Visualizing data with more than three dimensions is very difficult and becomes impossible very quickly.\n",
    "\n",
    "If we want to visualize a high dimensional vector we have to use so called dimensionality reduction techniques that are able to reduce the dimensions of a group of vectors and preserve relative properties. It is needless to say that you lose a lot of information if you reduce the dimensionality but is is a good way to visualize the relation between word embeddings. The following code uses the so called `principal component analysis (PCA)`  to make 2-dimensional vectors. Click [here](https://scikit-learn.org/stable/modules/generated/sklearn.decomposition.PCA.html) for details about the implementation."
   ]
  },
  {
   "cell_type": "code",
   "execution_count": null,
   "metadata": {
    "id": "o0YP2TyRPVeO"
   },
   "outputs": [],
   "source": [
    "from sklearn.decomposition import PCA\n",
    "import matplotlib.pyplot as plt\n",
    "import numpy as np\n",
    "\n",
    "np.random.seed(0)\n",
    "def display_pca_scatterplot(model, words):\n",
    "\n",
    "\n",
    "    word_vectors = np.array([model[w] for w in words])\n",
    "\n",
    "    twodim = PCA().fit_transform(word_vectors)[:,:2]\n",
    "\n",
    "    plt.figure(figsize=(20,12))\n",
    "    plt.rcParams.update({'font.size': 18})\n",
    "    plt.scatter(twodim[:,0], twodim[:,1], edgecolors='k', c='r')\n",
    "    for word, (x,y) in zip(words, twodim):\n",
    "        plt.text(x+0.05, y+0.05, word)"
   ]
  },
  {
   "cell_type": "markdown",
   "metadata": {
    "id": "3HMPC7iCPGDW"
   },
   "source": [
    "Create a list of about 20 words you would like to plot in the diagramm."
   ]
  },
  {
   "cell_type": "code",
   "execution_count": null,
   "metadata": {
    "id": "EhA7lt4EPfeq"
   },
   "outputs": [],
   "source": [
    "word_list = ['Germany', 'France', 'Italy', 'Belgium', 'Brazil',\n",
    "             'Argentina', 'Canada', 'United_States', 'China', 'Vietnam',\n",
    "             'Australia', 'New_Zealand', 'Russia', 'Mexico', 'Indonesia',\n",
    "             'Malaysia', 'Poland', 'Peru', 'Spain', 'India', 'Pakistan', 'Egypt',\n",
    "             'Marocco', 'Israel',]"
   ]
  },
  {
   "cell_type": "markdown",
   "metadata": {
    "id": "1OXnJo9cPPUS"
   },
   "source": [
    "Run the `display_pca_scatterplot` function and interpret the results."
   ]
  },
  {
   "cell_type": "code",
   "execution_count": null,
   "metadata": {
    "colab": {
     "base_uri": "https://localhost:8080/",
     "height": 827
    },
    "id": "VthHKW5lPYRO",
    "outputId": "ede21086-1a60-4b49-f51c-b5567d02a5e4"
   },
   "outputs": [],
   "source": [
    "display_pca_scatterplot(wv, word_list)"
   ]
  },
  {
   "cell_type": "markdown",
   "metadata": {
    "id": "OP2N9osVmBMY"
   },
   "source": [
    "## 2. Training a Word2Vec Model\n",
    "In this part we will train our first word2vec model by our self using the gensim library. We will train our model on the text8 dataset which we can download directly with the gensim library. The dataset is already in the right format to train a model on it."
   ]
  },
  {
   "cell_type": "code",
   "execution_count": null,
   "metadata": {
    "id": "efvi52UNJwP3"
   },
   "outputs": [],
   "source": [
    "import gensim\n",
    "import gensim.downloader as api\n",
    "from gensim.models import Word2Vec"
   ]
  },
  {
   "cell_type": "code",
   "execution_count": null,
   "metadata": {
    "colab": {
     "base_uri": "https://localhost:8080/"
    },
    "id": "90Qf3VExKot_",
    "outputId": "b2a58b83-2997-44f9-9083-23c3863abe22"
   },
   "outputs": [],
   "source": [
    "# text8 corpus consists of wikipedia data from the year 2006\n",
    "# http://mattmahoney.net/dc/textdata.html\n",
    "corpus = api.load('text8')"
   ]
  },
  {
   "cell_type": "markdown",
   "metadata": {
    "id": "nCoYK6fQLEuv"
   },
   "source": [
    "Look into the word2vec [documentation](https://radimrehurek.com/gensim_3.8.3/models/word2vec.html) of the gensim library and to the following tasks:\n",
    "\n",
    "Train a Word2Vec Model with the following hyperparameters:\n",
    "  * vector size of 100\n",
    "  * window size of 5\n",
    "  * negative_sampling of 3\n",
    "\n",
    "  The training of the model on the text8 dataset should take about 2 minutes."
   ]
  },
  {
   "cell_type": "code",
   "execution_count": null,
   "metadata": {
    "colab": {
     "base_uri": "https://localhost:8080/"
    },
    "id": "NVIKEiyiOcDi",
    "outputId": "db936b5b-cfec-43c2-a6b9-4764079c4558"
   },
   "outputs": [],
   "source": [
    "%%time\n",
    "model = Word2Vec(sentences=corpus, vector_size=100, window=5, negative=3)"
   ]
  },
  {
   "cell_type": "markdown",
   "metadata": {
    "id": "ivfJ5mE_SaJg"
   },
   "source": [
    "### 2.1 Exploring the model"
   ]
  },
  {
   "cell_type": "markdown",
   "metadata": {
    "id": "BhKqulIpPoAz"
   },
   "source": [
    "The resulting model is much smaller than the pretrained model we used previously. Solve the same tasks as in Section 1. Does it work as well?\n",
    "\n"
   ]
  },
  {
   "cell_type": "code",
   "execution_count": null,
   "metadata": {
    "colab": {
     "base_uri": "https://localhost:8080/"
    },
    "id": "smpuTnS1Zill",
    "outputId": "5f394e9d-2c63-4dbd-afb0-e98b743cea86"
   },
   "outputs": [],
   "source": [
    "# get the 10 most similar word vectors to the word king\n",
    "model.wv.most_similar(\"king\", topn=10)"
   ]
  },
  {
   "cell_type": "code",
   "execution_count": null,
   "metadata": {
    "colab": {
     "base_uri": "https://localhost:8080/"
    },
    "id": "Y3cy3NUiZv3F",
    "outputId": "67e534b0-c303-4063-d42f-b0d643112be0"
   },
   "outputs": [],
   "source": [
    "# v(king) - v(man) + v(woman) = ?\n",
    "model.wv.most_similar(positive=['king', 'woman'], negative=['man'], topn=10)"
   ]
  },
  {
   "cell_type": "code",
   "execution_count": null,
   "metadata": {
    "colab": {
     "base_uri": "https://localhost:8080/"
    },
    "id": "PQnUGHqcZjPv",
    "outputId": "43611d18-643b-415b-85a5-03e2974338df"
   },
   "outputs": [],
   "source": [
    "# v(berlin) - v(germany) + v(france) = ?\n",
    "model.wv.most_similar(positive=['berlin', 'france'], negative=['germany'], topn=10)"
   ]
  },
  {
   "cell_type": "markdown",
   "metadata": {
    "id": "sr_8UQc3Smgy"
   },
   "source": [
    "### 2.2 Visualizing Word Embeddings\n",
    "Once again visualize a list of words. You can use the list you created in Section 1 but you might have to make some adjustments."
   ]
  },
  {
   "cell_type": "code",
   "execution_count": null,
   "metadata": {
    "id": "PmWV9bN-PHKn"
   },
   "outputs": [],
   "source": [
    "word_list = ['coffee', 'tea', 'beer', 'wine', 'water',                                      # Beverages\n",
    "             'spaghetti', 'hamburger', 'pizza',                                             # Food\n",
    "             'dog', 'horse', 'cat', 'mouse',                                                # Animals\n",
    "             'france', 'germany', 'hungary', 'china',                                       # countries\n",
    "             'school', 'college', 'university', 'institute',                                # Education\n",
    "             'soccer', 'basketball', 'baseball', 'football']                                # Sports"
   ]
  },
  {
   "cell_type": "code",
   "execution_count": null,
   "metadata": {
    "colab": {
     "base_uri": "https://localhost:8080/",
     "height": 829
    },
    "id": "Slhou_DmQUuM",
    "outputId": "679cb193-50e3-43d2-9636-82da5a0d9688"
   },
   "outputs": [],
   "source": [
    "display_pca_scatterplot(model.wv, word_list)"
   ]
  },
  {
   "cell_type": "markdown",
   "metadata": {
    "id": "az_3IBqnSHrk"
   },
   "source": [
    "## 3. Training a word2vec model with a custom dataset"
   ]
  },
  {
   "cell_type": "markdown",
   "metadata": {
    "id": "h5in3NJDBF1a"
   },
   "source": [
    "In this section we will train word embeddings on our own dataset. We will preprocess the data by our selfes and will therefore have full control of the process."
   ]
  },
  {
   "cell_type": "markdown",
   "metadata": {
    "id": "3dmslK1N-kS0"
   },
   "source": [
    "### 3.1 Downloading the dataset\n",
    "First of all we need to download our dataset. You can directly read the data from this link: `https://raw.githubusercontent.com/LawrenceDuan/IMDb-Review-Analysis/master/IMDb_Reviews.csv` into a pandas `DataFrame`."
   ]
  },
  {
   "cell_type": "code",
   "execution_count": null,
   "metadata": {
    "id": "qqL207V_-kt0"
   },
   "outputs": [],
   "source": [
    "import pandas as pd"
   ]
  },
  {
   "cell_type": "code",
   "execution_count": null,
   "metadata": {
    "id": "LON-cg0W-p0y"
   },
   "outputs": [],
   "source": [
    "# create a pandas dataframe and save it in a variable called data\n",
    "data = pd.read_csv(\"https://raw.githubusercontent.com/LawrenceDuan/IMDb-Review-Analysis/master/IMDb_Reviews.csv\")"
   ]
  },
  {
   "cell_type": "markdown",
   "metadata": {
    "id": "rw2nNB84-vee"
   },
   "source": [
    "Explore the data.\n",
    "* What data kind of data is it?\n",
    "* How large is the dataset?\n",
    "* What are the labels?\n",
    "* How are the labels distributed?"
   ]
  },
  {
   "cell_type": "code",
   "execution_count": null,
   "metadata": {
    "colab": {
     "base_uri": "https://localhost:8080/",
     "height": 206
    },
    "id": "v9cXEAoa-wDL",
    "outputId": "7885c5fb-0cb4-4058-9a53-a05903230deb"
   },
   "outputs": [],
   "source": [
    "# get the first 10 rows of the data\n",
    "data.head()"
   ]
  },
  {
   "cell_type": "code",
   "execution_count": null,
   "metadata": {
    "colab": {
     "base_uri": "https://localhost:8080/"
    },
    "id": "YERljPCV-0pF",
    "outputId": "bcc1ec53-b509-46f1-856c-9d9a3c523170"
   },
   "outputs": [],
   "source": [
    "# how many training examples do we have?\n",
    "len(data)"
   ]
  },
  {
   "cell_type": "code",
   "execution_count": null,
   "metadata": {
    "colab": {
     "base_uri": "https://localhost:8080/"
    },
    "id": "IRD4jprO-3S_",
    "outputId": "2521b5a0-9e77-4419-e1a4-fd9ca8defa54"
   },
   "outputs": [],
   "source": [
    "# how many labels differnt do we have?\n",
    "# how many labels do we have for each class?\n",
    "data.sentiment.value_counts()"
   ]
  },
  {
   "cell_type": "markdown",
   "metadata": {
    "id": "j8FcZ4mUt-fY"
   },
   "source": [
    "### 3.2 Preprocessing the corpus\n",
    "\n"
   ]
  },
  {
   "cell_type": "markdown",
   "metadata": {
    "id": "H99h6WetDLId"
   },
   "source": [
    "Implement a function that gets a text as an input and returns the preprocessed version of it. Your preprocessing should include the following steps:\n",
    "* lowercase text\n",
    "* remove punctuation\n",
    "* remove stopwords\n",
    "* remove numbers\n",
    "* stem text\n",
    "\n",
    "you can use the gensim library for the preprocessing. Visit the [documentation](https://radimrehurek.com/gensim_3.8.3/parsing/preprocessing.html) to learn how it works.\n"
   ]
  },
  {
   "cell_type": "code",
   "execution_count": null,
   "metadata": {
    "id": "eg8x5XvUx_rS"
   },
   "outputs": [],
   "source": [
    "# import gensim library\n",
    "import gensim.parsing.preprocessing as pp"
   ]
  },
  {
   "cell_type": "code",
   "execution_count": null,
   "metadata": {
    "id": "5mB00uMwyBTj"
   },
   "outputs": [],
   "source": [
    "# define preprocessing function\n",
    "def preprocess_text(text):\n",
    "  # lowercase\n",
    "  text = text.lower()\n",
    "  # remove punctuation\n",
    "  text = pp.strip_punctuation(text)\n",
    "  # remove stopwords\n",
    "  text = pp.remove_stopwords(text)\n",
    "  # remove numbers\n",
    "  preprocessed_text = pp.strip_numeric(text)\n",
    "\n",
    "  return preprocessed_text"
   ]
  },
  {
   "cell_type": "markdown",
   "metadata": {
    "id": "ADqnGtRfF0AK"
   },
   "source": [
    "Execute the following Cell. Your function should print out something like ```text includes number```."
   ]
  },
  {
   "cell_type": "code",
   "execution_count": null,
   "metadata": {
    "colab": {
     "base_uri": "https://localhost:8080/",
     "height": 35
    },
    "id": "Or8tl9koFltU",
    "outputId": "63e136ff-6085-49a9-f1c3-7b22c0e0c447"
   },
   "outputs": [],
   "source": [
    "test_text = \"This is a text that INCLUDES the number 34.\"\n",
    "preprocess_text(test_text)"
   ]
  },
  {
   "cell_type": "code",
   "execution_count": null,
   "metadata": {
    "id": "4A6ZtJYe_d1l"
   },
   "outputs": [],
   "source": [
    "# apply it to the text in our DataFrame\n",
    "# and save the results in a new column called review_pp\n",
    "data['review_pp'] = data['review'].apply(preprocess_text)"
   ]
  },
  {
   "cell_type": "markdown",
   "metadata": {
    "id": "Gy0TH1JKVJ-Q"
   },
   "source": [
    "Some words happen to appear very frequently next to each other. It can be very useful to combine this word into a single representation before tokenizing the corpus.\n",
    "\n",
    "The combination of two words is called bigram. Have a look at the following examples:\n",
    "* new york -> new_york\n",
    "* star wars -> star_wars\n",
    "\n",
    "The following code blocks show how you can train a phraser with the gensim library. You can learn more about the Phraser [here](https://radimrehurek.com/gensim_3.8.3/models/phrases.html).\n",
    "\n"
   ]
  },
  {
   "cell_type": "code",
   "execution_count": null,
   "metadata": {
    "colab": {
     "base_uri": "https://localhost:8080/"
    },
    "id": "5ImDi2hIVvEP",
    "outputId": "49f09262-6261-48a3-8c01-8282857c8354"
   },
   "outputs": [],
   "source": [
    "%%time\n",
    "from gensim.models.phrases import Phrases\n",
    "phrases = Phrases(data['review_pp'].apply(lambda x: x.split()))"
   ]
  },
  {
   "cell_type": "markdown",
   "metadata": {
    "id": "af4oUpOsfx0A"
   },
   "source": [
    "You can apply the bigram model like this:"
   ]
  },
  {
   "cell_type": "code",
   "execution_count": null,
   "metadata": {
    "colab": {
     "base_uri": "https://localhost:8080/"
    },
    "id": "tMt6qqtOsbBY",
    "outputId": "1dac4b37-532a-44d3-abe9-0519bc7da3fa"
   },
   "outputs": [],
   "source": [
    "phrases[\"the lion king is by far my favorite movie!\".split()]"
   ]
  },
  {
   "cell_type": "markdown",
   "metadata": {
    "id": "n4tUo8DpdZvo"
   },
   "source": [
    "In this section we create a class for our corpus that will be the input for the training algorithm of our word2vec model.\n",
    "\n",
    "Write a class called `MyCorpus`.\n",
    "It should have an `__init__` function that takes a list or array of strings as an input and saves it into a class variable `self.data`.\n",
    "\n",
    "Also implement an `__iter__` function that loops over `self.data` and returns each line as a list of the words. (hint: use `.split()`to split a string into words"
   ]
  },
  {
   "cell_type": "code",
   "execution_count": null,
   "metadata": {
    "id": "zMfsHRb6tgdu"
   },
   "outputs": [],
   "source": [
    "class MyCorpus:\n",
    "    def __init__(self, data):\n",
    "      self.data = data\n",
    "\n",
    "    def __iter__(self):\n",
    "        for line in self.data:\n",
    "            # assume there's one document per line, tokens separated by whitespace\n",
    "            yield phrases[line.split()]"
   ]
  },
  {
   "cell_type": "code",
   "execution_count": null,
   "metadata": {
    "id": "5KfJSpNvthXw"
   },
   "outputs": [],
   "source": [
    "# instantiate the MyCorpus class with a list of the preprocessed texts in our dataframe.\n",
    "# save it in a variable called sentences\n",
    "sentences = MyCorpus(data.review_pp.values)"
   ]
  },
  {
   "cell_type": "code",
   "execution_count": null,
   "metadata": {
    "colab": {
     "base_uri": "https://localhost:8080/"
    },
    "id": "_eqvn9TUWvdl",
    "outputId": "c92f9ae1-46dd-4f70-d513-5e82f6ec5982"
   },
   "outputs": [],
   "source": [
    "%%time\n",
    "model = gensim.models.Word2Vec(sentences=sentences)"
   ]
  },
  {
   "cell_type": "markdown",
   "metadata": {
    "id": "heGORJoSgIMJ"
   },
   "source": [
    "Once again explore the model by using the similarity function. Remember that this is a very specific dataset we trained the model on. It is about movie reviews and the analogies we used before probably won't work here.\n",
    "\n",
    "But maybe there are some interesting relationships between actors and movies encoded in the word embeddings."
   ]
  },
  {
   "cell_type": "code",
   "execution_count": null,
   "metadata": {
    "colab": {
     "base_uri": "https://localhost:8080/"
    },
    "id": "CzR8J-H_W-KM",
    "outputId": "36bcfd07-c38a-43a5-f25d-7fd57b7cf41e"
   },
   "outputs": [],
   "source": [
    "model.wv.most_similar('matrix', topn=10)"
   ]
  },
  {
   "cell_type": "code",
   "execution_count": null,
   "metadata": {
    "colab": {
     "base_uri": "https://localhost:8080/"
    },
    "id": "OPzlJLkKyjsN",
    "outputId": "5f43c731-03d0-46c9-cac1-454dcd8899bb"
   },
   "outputs": [],
   "source": [
    "model.wv.most_similar('clint_eastwood')"
   ]
  },
  {
   "cell_type": "code",
   "execution_count": null,
   "metadata": {
    "colab": {
     "base_uri": "https://localhost:8080/"
    },
    "id": "42EKljcXiWrD",
    "outputId": "f4b22d51-eff9-47cd-8dc1-a35ada9b85e1"
   },
   "outputs": [],
   "source": [
    "model.wv.most_similar('star_wars')"
   ]
  },
  {
   "cell_type": "code",
   "execution_count": null,
   "metadata": {
    "colab": {
     "base_uri": "https://localhost:8080/"
    },
    "id": "ka4sJXubiZJc",
    "outputId": "206eb54f-dd94-4706-c3b1-b96340392bce"
   },
   "outputs": [],
   "source": [
    "model.wv.most_similar('roger_moore')"
   ]
  },
  {
   "cell_type": "code",
   "execution_count": null,
   "metadata": {
    "colab": {
     "base_uri": "https://localhost:8080/"
    },
    "id": "7fock72vH2tU",
    "outputId": "ca14a1b6-a684-40c1-b61f-e3ad1662759e"
   },
   "outputs": [],
   "source": [
    "model.wv.most_similar('angelina_jolie')"
   ]
  },
  {
   "cell_type": "code",
   "execution_count": null,
   "metadata": {
    "id": "_PCHSrLQicfH"
   },
   "outputs": [],
   "source": [
    "word_list = ['stallone' ,'clint_eastwood', 'schwarzenegger', 'pulp_fiction',\n",
    "             'aladdin', 'brad_pitt', 'angelina_jolie', 'cameron_diaz',  'orlando_bloom', 'incredibles',\n",
    "             'mulan', 'godfather', 'tarantino', 'shrek', 'star_wars', 'matrix', 'lord_rings', \"jurassic_park\"]"
   ]
  },
  {
   "cell_type": "markdown",
   "metadata": {
    "id": "lrN7sKh24iWk"
   },
   "source": [
    "## Visualizing Word Embeddings\n",
    "Once again create a list that you want to plot in 2D-Space.\n",
    "Try to use a list of movie titles and actors and see how similar they are."
   ]
  },
  {
   "cell_type": "code",
   "execution_count": null,
   "metadata": {
    "colab": {
     "base_uri": "https://localhost:8080/",
     "height": 708
    },
    "id": "Tt3kMQDI4k5J",
    "outputId": "7cb0606e-765a-4a91-c19b-dac761266398"
   },
   "outputs": [],
   "source": [
    "display_pca_scatterplot(model.wv, word_list)"
   ]
  }
 ],
 "metadata": {
  "accelerator": "GPU",
  "colab": {
   "provenance": []
  },
  "kernelspec": {
   "display_name": "Python 3",
   "name": "python3"
  },
  "language_info": {
   "name": "python"
  }
 },
 "nbformat": 4,
 "nbformat_minor": 0
}
