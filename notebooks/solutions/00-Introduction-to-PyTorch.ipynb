{
 "cells": [
  {
   "cell_type": "code",
   "execution_count": 5,
   "metadata": {
    "editable": true,
    "slideshow": {
     "slide_type": ""
    },
    "tags": []
   },
   "outputs": [],
   "source": [
    "import numpy as np\n",
    "import torch"
   ]
  },
  {
   "cell_type": "markdown",
   "metadata": {},
   "source": [
    "## The Dot Product\n",
    "One important concept in Deep Learning is the Dot Product of two vectors. It is often used for calculating similarities between two vectors. Calculating it with numpy is very simple.\n",
    "\n",
    "$\\sum_{i=0}^{n}{a_i + b_i}$, where $\\textbf{a}, \\textbf{b} \\in \\mathbb{R}^n$\n",
    "\n",
    "Example:\n",
    "$\\begin{pmatrix}a_0\\\\a_1\\\\a_2\\end{pmatrix} \\cdot \\begin{pmatrix}b_0\\\\b_1\\\\b_2\\end{pmatrix} = a_0 b_0 + a_1 b_1 + a_2 b_2$ "
   ]
  },
  {
   "cell_type": "markdown",
   "metadata": {},
   "source": [
    "In numpy we can calculate the dot product using the `@` operator."
   ]
  },
  {
   "cell_type": "code",
   "execution_count": 23,
   "metadata": {
    "editable": true,
    "slideshow": {
     "slide_type": "slide"
    },
    "tags": []
   },
   "outputs": [],
   "source": [
    "a = np.array([1.0, 2.0, 3.0])\n",
    "b = np.array([2.0, 2.0, 2.0])"
   ]
  },
  {
   "cell_type": "code",
   "execution_count": 24,
   "metadata": {},
   "outputs": [
    {
     "data": {
      "text/plain": [
       "12.0"
      ]
     },
     "execution_count": 24,
     "metadata": {},
     "output_type": "execute_result"
    }
   ],
   "source": [
    "a @ b"
   ]
  },
  {
   "cell_type": "markdown",
   "metadata": {},
   "source": [
    "## Matrix Multiplication\n",
    "Neural Networks are all about Matrix Multiplication. If Matrices can be multiplied with each other depends on the shapes of the matrices involved in the multiplication."
   ]
  },
  {
   "cell_type": "markdown",
   "metadata": {
    "editable": true,
    "slideshow": {
     "slide_type": ""
    },
    "tags": []
   },
   "source": [
    "## Broadcasting\n",
    "Broadcasting is a very important concept that is heavily used in libraries like `numpy` and `torch`.\n",
    "- The term broadcasting describes how NumPy treats arrays with different shapes during arithmetic operations.\n",
    "- Subject to certain constraints, the smaller array is “broadcast” across the larger array so that they have compatible shapes."
   ]
  },
  {
   "cell_type": "markdown",
   "metadata": {},
   "source": []
  }
 ],
 "metadata": {
  "kernelspec": {
   "display_name": "Python 3 (ipykernel)",
   "language": "python",
   "name": "python3"
  },
  "language_info": {
   "codemirror_mode": {
    "name": "ipython",
    "version": 3
   },
   "file_extension": ".py",
   "mimetype": "text/x-python",
   "name": "python",
   "nbconvert_exporter": "python",
   "pygments_lexer": "ipython3",
   "version": "3.11.8"
  }
 },
 "nbformat": 4,
 "nbformat_minor": 4
}
