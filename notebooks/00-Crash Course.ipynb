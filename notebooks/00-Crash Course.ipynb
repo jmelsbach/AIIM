{
 "cells": [
  {
   "cell_type": "markdown",
   "metadata": {
    "id": "6-Uv-AoPeTI5"
   },
   "source": [
    "# AIIM Crash Course "
   ]
  },
  {
   "cell_type": "markdown",
   "metadata": {
    "id": "uINKHbgB6-tm"
   },
   "source": [
    "### Install Python Packages"
   ]
  },
  {
   "cell_type": "code",
   "execution_count": null,
   "metadata": {
    "colab": {
     "base_uri": "https://localhost:8080/"
    },
    "id": "kF4VNTdp87XD",
    "outputId": "053d7e1c-933f-415a-81a6-793ae6024983"
   },
   "outputs": [],
   "source": [
    "# install packages. e.g., transformer package\n",
    "%%capture\n",
    "!pip install transformers\n"
   ]
  },
  {
   "cell_type": "code",
   "execution_count": null,
   "metadata": {
    "colab": {
     "base_uri": "https://localhost:8080/"
    },
    "id": "PBEk0s1p9MkJ",
    "outputId": "68ddc7f4-0565-4927-a8d4-40ce19524673"
   },
   "outputs": [],
   "source": [
    "# uninstall transformer package\n",
    "!pip uninstall transformers"
   ]
  },
  {
   "cell_type": "code",
   "execution_count": null,
   "metadata": {
    "colab": {
     "base_uri": "https://localhost:8080/"
    },
    "id": "UMyU97Y2tfe_",
    "outputId": "3c260ecd-9c56-419a-efc0-0cffb0249bdc"
   },
   "outputs": [],
   "source": [
    "# check installed packages\n",
    "!pip freeze"
   ]
  },
  {
   "cell_type": "markdown",
   "metadata": {},
   "source": [
    "Many packages come preinstalled"
   ]
  },
  {
   "cell_type": "code",
   "execution_count": null,
   "metadata": {
    "id": "20RGx97zcWYH"
   },
   "outputs": [],
   "source": [
    "import torch\n",
    "import pandas"
   ]
  },
  {
   "cell_type": "code",
   "execution_count": null,
   "metadata": {
    "colab": {
     "base_uri": "https://localhost:8080/"
    },
    "id": "x092NOIb0O7l",
    "outputId": "0655b86f-dde5-4247-a5d4-2a714320227e"
   },
   "outputs": [],
   "source": [
    "# check installed python version\n",
    "!python --version"
   ]
  },
  {
   "cell_type": "markdown",
   "metadata": {
    "id": "m1HIxbvZ5h1m"
   },
   "source": [
    "## NumPy"
   ]
  },
  {
   "cell_type": "code",
   "execution_count": null,
   "metadata": {
    "id": "rwGFxpglRFNP"
   },
   "outputs": [],
   "source": [
    "# import numpy library\n",
    "import numpy as np"
   ]
  },
  {
   "cell_type": "code",
   "execution_count": null,
   "metadata": {
    "id": "Fb83G-Xh-jt0"
   },
   "outputs": [],
   "source": [
    "# set random seed to 0\n",
    "np.random.seed(0)"
   ]
  },
  {
   "cell_type": "code",
   "execution_count": null,
   "metadata": {
    "id": "gfVUO1oRDyMt"
   },
   "outputs": [],
   "source": [
    "# create a random vector 'v' 5x1\n",
    "v = np.random.randn(5)"
   ]
  },
  {
   "cell_type": "code",
   "execution_count": null,
   "metadata": {
    "colab": {
     "base_uri": "https://localhost:8080/"
    },
    "id": "uHlg6mTP34m4",
    "outputId": "cd21372e-23ad-4b3c-db38-fbec48a2e466"
   },
   "outputs": [],
   "source": [
    "# take a look at vector v\n",
    "v"
   ]
  },
  {
   "cell_type": "code",
   "execution_count": null,
   "metadata": {
    "id": "aSDdDZUs5jVg"
   },
   "outputs": [],
   "source": [
    "# create two random 5x4 matrices a and b\n",
    "a = np.random.randn(5,4)\n",
    "b = np.random.randn(5,4)"
   ]
  },
  {
   "cell_type": "code",
   "execution_count": null,
   "metadata": {
    "colab": {
     "base_uri": "https://localhost:8080/"
    },
    "id": "tv-J4EK5-Zsl",
    "outputId": "a6854305-a23b-4832-e2e5-ad15badc12ad"
   },
   "outputs": [],
   "source": [
    "# take a look at a\n",
    "a"
   ]
  },
  {
   "cell_type": "code",
   "execution_count": null,
   "metadata": {
    "colab": {
     "base_uri": "https://localhost:8080/"
    },
    "id": "KrWzKzWq-qv5",
    "outputId": "33ee5b5e-157d-4574-9e8b-d911cb40b8a5"
   },
   "outputs": [],
   "source": [
    "# take a look at b\n",
    "b"
   ]
  },
  {
   "cell_type": "code",
   "execution_count": null,
   "metadata": {
    "colab": {
     "base_uri": "https://localhost:8080/"
    },
    "id": "v7yJS3nS-FNI",
    "outputId": "4a69f86f-d525-4ca9-8226-4ed7a52b2e5b"
   },
   "outputs": [],
   "source": [
    "# element-wise multiplication\n",
    "a * b"
   ]
  },
  {
   "cell_type": "code",
   "execution_count": null,
   "metadata": {
    "colab": {
     "base_uri": "https://localhost:8080/",
     "height": 200
    },
    "id": "sazyd8Ys-Jyj",
    "outputId": "46fd7a14-643d-436c-d65c-5a5f50bf12fe"
   },
   "outputs": [],
   "source": [
    "# matrix multiplication\n",
    "a @ b"
   ]
  },
  {
   "cell_type": "code",
   "execution_count": null,
   "metadata": {
    "colab": {
     "base_uri": "https://localhost:8080/"
    },
    "id": "POmIqIry4CEN",
    "outputId": "b393ce37-3ae2-4f28-f29d-f67a02ee9000"
   },
   "outputs": [],
   "source": [
    "# check shapes of vectors\n",
    "a.shape"
   ]
  },
  {
   "cell_type": "code",
   "execution_count": null,
   "metadata": {
    "colab": {
     "base_uri": "https://localhost:8080/"
    },
    "id": "aaKGUrZGf5TH",
    "outputId": "d6b0c813-acee-449a-e831-f3a01789ac0f"
   },
   "outputs": [],
   "source": [
    "b.T.shape"
   ]
  },
  {
   "cell_type": "code",
   "execution_count": null,
   "metadata": {
    "colab": {
     "base_uri": "https://localhost:8080/"
    },
    "id": "9z86WHKX4H4h",
    "outputId": "0c12dfaf-3041-49d1-ccd2-571b4929c549"
   },
   "outputs": [],
   "source": [
    "# In order to be able to multiply matrices\n",
    "# they have to be of shape (l * m) and (m * n)\n",
    "# the resulting shape is (l * n)\n",
    "c = a @ b.T\n",
    "print(c.shape)"
   ]
  },
  {
   "cell_type": "code",
   "execution_count": null,
   "metadata": {
    "colab": {
     "base_uri": "https://localhost:8080/"
    },
    "id": "ijHqmoO9AWgl",
    "outputId": "417b0250-ef68-4fae-8ebf-983329eccf32"
   },
   "outputs": [],
   "source": [
    "# adding matrices\n",
    "a + b"
   ]
  },
  {
   "cell_type": "code",
   "execution_count": null,
   "metadata": {
    "colab": {
     "base_uri": "https://localhost:8080/"
    },
    "id": "c2ng84QYAZO4",
    "outputId": "f623ac51-5ec1-4539-e987-f6401e2f84ec"
   },
   "outputs": [],
   "source": [
    "# max and min\n",
    "a.max(axis=0)"
   ]
  },
  {
   "cell_type": "code",
   "execution_count": null,
   "metadata": {
    "colab": {
     "base_uri": "https://localhost:8080/"
    },
    "id": "8YwdnOd9NdMx",
    "outputId": "79b69d46-b97e-4490-ee70-eac75f56b00b"
   },
   "outputs": [],
   "source": [
    "# mean, std, median\n",
    "np.median(a)"
   ]
  },
  {
   "cell_type": "code",
   "execution_count": null,
   "metadata": {
    "id": "8kJ7JKHm6_JH"
   },
   "outputs": [],
   "source": [
    "# create a vector of size 784 =  28 * 28\n",
    "img = np.random.randn(784)"
   ]
  },
  {
   "cell_type": "code",
   "execution_count": null,
   "metadata": {
    "colab": {
     "base_uri": "https://localhost:8080/"
    },
    "id": "ibC6X9jHg3HH",
    "outputId": "66a31d3c-1fc7-41fb-add2-c36e88776108"
   },
   "outputs": [],
   "source": [
    "img.shape"
   ]
  },
  {
   "cell_type": "code",
   "execution_count": null,
   "metadata": {
    "colab": {
     "base_uri": "https://localhost:8080/"
    },
    "id": "T9SxzCvl7kU4",
    "outputId": "d5e699b0-f65e-4446-9eb2-6f894197c7a6"
   },
   "outputs": [],
   "source": [
    "# reshape the vector to a shape of 28 * 28\n",
    "img.reshape(28,28).shape"
   ]
  },
  {
   "cell_type": "markdown",
   "metadata": {
    "id": "1xzi6RE7MwK8"
   },
   "source": [
    "## Broadcasting"
   ]
  },
  {
   "cell_type": "markdown",
   "metadata": {
    "id": "PAIs_X2bKUhe"
   },
   "source": [
    "![02.05-broadcasting.png](data:image/png;base64,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)"
   ]
  },
  {
   "cell_type": "code",
   "execution_count": null,
   "metadata": {
    "colab": {
     "base_uri": "https://localhost:8080/"
    },
    "id": "aY_0XtktTAxk",
    "outputId": "c84e6cfe-2be6-409f-f10d-6d38cb8c72a6"
   },
   "outputs": [],
   "source": [
    "np.arange(3) + 3"
   ]
  },
  {
   "cell_type": "code",
   "execution_count": null,
   "metadata": {
    "colab": {
     "base_uri": "https://localhost:8080/"
    },
    "id": "TxAepyduTA2b",
    "outputId": "dd69a37f-27f1-4ee4-f14e-99bc7314129e"
   },
   "outputs": [],
   "source": [
    "np.ones((3,3)) + np.arange(3)"
   ]
  },
  {
   "cell_type": "code",
   "execution_count": null,
   "metadata": {
    "colab": {
     "base_uri": "https://localhost:8080/"
    },
    "id": "TYP70H83TA7P",
    "outputId": "1b868f0e-e01f-401e-91b0-0c67c051e415"
   },
   "outputs": [],
   "source": [
    "np.arange(3).reshape((3,1)) + np.arange(3)"
   ]
  },
  {
   "cell_type": "markdown",
   "metadata": {
    "id": "ncJrG9NwOkEy"
   },
   "source": [
    "Broadcasting is a very important concept not only for numpy but also for deep learning with PyTorch. If you want to learn more about broadcasting, have a look at [this notebook](https://jakevdp.github.io/PythonDataScienceHandbook/02.05-computation-on-arrays-broadcasting.html)."
   ]
  },
  {
   "cell_type": "markdown",
   "metadata": {
    "id": "jMfjh-P1YXHX"
   },
   "source": [
    "## Slicing"
   ]
  },
  {
   "cell_type": "code",
   "execution_count": null,
   "metadata": {
    "colab": {
     "base_uri": "https://localhost:8080/"
    },
    "id": "8mUiHpKpE4re",
    "outputId": "8ea19291-eb73-42c0-d5c2-8adb93e13fe9"
   },
   "outputs": [],
   "source": [
    "a = np.arange(10);a"
   ]
  },
  {
   "cell_type": "code",
   "execution_count": null,
   "metadata": {
    "colab": {
     "base_uri": "https://localhost:8080/"
    },
    "id": "NeGJsHlvFB7f",
    "outputId": "c15d56fd-ef70-4702-89ca-69ca7a40f1af"
   },
   "outputs": [],
   "source": [
    "# get the first three elements of the vector a \n",
    "a[0:3]"
   ]
  },
  {
   "cell_type": "code",
   "execution_count": null,
   "metadata": {
    "colab": {
     "base_uri": "https://localhost:8080/"
    },
    "id": "6vjlWYTsFGCG",
    "outputId": "960a38ab-43df-4005-d8fd-6e6bc2925577"
   },
   "outputs": [],
   "source": [
    "# negative slicing: get all elements except the last two.\n",
    "a[0:-2]"
   ]
  },
  {
   "cell_type": "code",
   "execution_count": null,
   "metadata": {
    "colab": {
     "base_uri": "https://localhost:8080/"
    },
    "id": "1p-eSJeNMLTD",
    "outputId": "c3b595b3-b8a2-46f1-9f78-6722290c4e27"
   },
   "outputs": [],
   "source": [
    "# slicing in 2D\n",
    "A = np.arange(100).reshape(10,10); A"
   ]
  },
  {
   "cell_type": "code",
   "execution_count": null,
   "metadata": {
    "colab": {
     "base_uri": "https://localhost:8080/"
    },
    "id": "otjGiuf9MYkm",
    "outputId": "bffa5f5f-6d94-4e97-937e-4ffe849ea77a"
   },
   "outputs": [],
   "source": [
    "# get the second row\n",
    "A[1,:]"
   ]
  },
  {
   "cell_type": "code",
   "execution_count": null,
   "metadata": {
    "colab": {
     "base_uri": "https://localhost:8080/"
    },
    "id": "jDFklXEf3FdD",
    "outputId": "f0769588-d357-4d90-f5f1-7240a86a8cb0"
   },
   "outputs": [],
   "source": [
    "# get everything but the first row\n",
    "A[1:,:]"
   ]
  },
  {
   "cell_type": "code",
   "execution_count": null,
   "metadata": {
    "id": "dnWnxY-53T1z"
   },
   "outputs": [],
   "source": [
    "# get every second row\n",
    "A[::2,:]"
   ]
  },
  {
   "cell_type": "code",
   "execution_count": null,
   "metadata": {
    "id": "_HLNl-fa3a6e"
   },
   "outputs": [],
   "source": [
    "# get every third column\n",
    "A[:,::3]"
   ]
  },
  {
   "cell_type": "markdown",
   "metadata": {
    "id": "h3SihXy8_UjM"
   },
   "source": [
    "## Exercise"
   ]
  },
  {
   "cell_type": "code",
   "execution_count": null,
   "metadata": {
    "colab": {
     "base_uri": "https://localhost:8080/"
    },
    "id": "c_TCsZxYQ33-",
    "outputId": "766ddebf-4ab8-42e8-d9de-69d9fcd0289c"
   },
   "outputs": [],
   "source": [
    "B = np.arange(100).reshape(10,10); B"
   ]
  },
  {
   "cell_type": "markdown",
   "metadata": {
    "id": "HTGG2AuDSmqt"
   },
   "source": [
    "Try to slice the array `B` to get the following arrays:"
   ]
  },
  {
   "cell_type": "markdown",
   "metadata": {
    "id": "RLe0XvSARAk0"
   },
   "source": [
    "![slice1.png](data:image/png;base64,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)"
   ]
  },
  {
   "cell_type": "code",
   "execution_count": null,
   "metadata": {
    "colab": {
     "base_uri": "https://localhost:8080/"
    },
    "id": "gw45jew2Ssik",
    "outputId": "a5612cac-583d-47e2-ca52-f1dac5f666ad"
   },
   "outputs": [],
   "source": []
  },
  {
   "cell_type": "markdown",
   "metadata": {
    "id": "PlQUp9DJSd_A"
   },
   "source": [
    "![slice2.png](data:image/png;base64,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)"
   ]
  },
  {
   "cell_type": "code",
   "execution_count": null,
   "metadata": {
    "id": "wMErt-ndS6Lu"
   },
   "outputs": [],
   "source": []
  },
  {
   "cell_type": "markdown",
   "metadata": {
    "id": "O7X-bJF2SeJL"
   },
   "source": [
    "![slice3.png](data:image/png;base64,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)"
   ]
  },
  {
   "cell_type": "code",
   "execution_count": null,
   "metadata": {
    "colab": {
     "base_uri": "https://localhost:8080/"
    },
    "id": "4_mp19rUS6ol",
    "outputId": "105e3b18-2e88-4d23-dff4-622bfd093b69"
   },
   "outputs": [],
   "source": []
  },
  {
   "cell_type": "markdown",
   "metadata": {
    "id": "uaLtSU8H5lMP"
   },
   "source": [
    "# Pandas"
   ]
  },
  {
   "cell_type": "code",
   "execution_count": null,
   "metadata": {
    "id": "RgN4Z0Rhp6QA"
   },
   "outputs": [],
   "source": [
    "# import pandas library\n",
    "import pandas as pd"
   ]
  },
  {
   "cell_type": "markdown",
   "metadata": {
    "id": "4OquKiNN5lYl"
   },
   "source": [
    "https://raw.githubusercontent.com/SrinidhiRaghavan/AI-Sentiment-Analysis-on-IMDB-Dataset/master/imdb_tr.csv"
   ]
  },
  {
   "cell_type": "code",
   "execution_count": null,
   "metadata": {
    "id": "LiM4-wXSqFsO"
   },
   "outputs": [],
   "source": [
    "# read csv in a DataFrame called df\n",
    "df = pd.read_csv(\"https://raw.githubusercontent.com/SrinidhiRaghavan/AI-Sentiment-Analysis-on-IMDB-Dataset/master/imdb_tr.csv\", encoding=\"latin\")"
   ]
  },
  {
   "cell_type": "code",
   "execution_count": null,
   "metadata": {
    "colab": {
     "base_uri": "https://localhost:8080/",
     "height": 348
    },
    "id": "zhoK6VmcqYIM",
    "outputId": "8b19ca60-1f33-4831-f2da-6420395b30d6"
   },
   "outputs": [],
   "source": [
    "# get the 10 first rows of the dataframe\n",
    "df.head(10)"
   ]
  },
  {
   "cell_type": "code",
   "execution_count": null,
   "metadata": {
    "colab": {
     "base_uri": "https://localhost:8080/"
    },
    "id": "-VdbhJtuCCPy",
    "outputId": "64089a98-efa1-4680-f3d0-3a798044feb0"
   },
   "outputs": [],
   "source": [
    "# Select the 'polarity' column...\n",
    "df[\"polarity\"]"
   ]
  },
  {
   "cell_type": "code",
   "execution_count": null,
   "metadata": {
    "colab": {
     "base_uri": "https://localhost:8080/",
     "height": 183
    },
    "id": "5FHe2HtH8MGH",
    "outputId": "518a93e1-789e-4d4a-80cd-3408483adfd6"
   },
   "outputs": [],
   "source": [
    "# ...and count the each attribute\n",
    "df[\"polarity\"].value_counts()"
   ]
  },
  {
   "cell_type": "code",
   "execution_count": null,
   "metadata": {
    "id": "zQK4wEdeDGqc"
   },
   "outputs": [],
   "source": [
    "# Select the 'row_Number' and 'polarity' and get the values as a numpy array\n",
    "df[[\"row_Number\", \"polarity\"]]"
   ]
  },
  {
   "cell_type": "code",
   "execution_count": null,
   "metadata": {
    "id": "jjUW7IL7q88t"
   },
   "outputs": [],
   "source": [
    "# write a function that replaces all spaces with an underscore\n",
    "def replaces_spaces_with_underscores(x):\n",
    "  return x.replace(\" \", \"_\")"
   ]
  },
  {
   "cell_type": "code",
   "execution_count": null,
   "metadata": {
    "id": "Q0d_imXjmE4R"
   },
   "outputs": [],
   "source": [
    "replaces_spaces_with_underscores(\"for example\")"
   ]
  },
  {
   "cell_type": "code",
   "execution_count": null,
   "metadata": {
    "id": "CcsbXyDlrgS2"
   },
   "outputs": [],
   "source": [
    "# apply replace_spaces to the text column function\n",
    "df[\"text\"].apply(replaces_spaces_with_underscores)"
   ]
  },
  {
   "cell_type": "code",
   "execution_count": null,
   "metadata": {
    "id": "xm9uXXU_rlSN"
   },
   "outputs": [],
   "source": [
    "# check where polarity is equal to one\n",
    "df[\"polarity\"] == 1"
   ]
  },
  {
   "cell_type": "code",
   "execution_count": null,
   "metadata": {
    "id": "0UEEiWOTr1Fq"
   },
   "outputs": [],
   "source": [
    "# select only rows with a polarity equal to one\n",
    "df[df[\"polarity\"] == 0]"
   ]
  },
  {
   "cell_type": "markdown",
   "metadata": {
    "id": "Wh6gzodG8nvN"
   },
   "source": [
    "## Exercise"
   ]
  },
  {
   "cell_type": "code",
   "execution_count": null,
   "metadata": {
    "id": "uzUWNgqw8qqJ"
   },
   "outputs": [],
   "source": [
    "# write a function that takes a string as an argument\n",
    "# and returns the lowercased version of the string\n",
    "def to_lowercase(text):\n",
    "    pass"
   ]
  },
  {
   "cell_type": "code",
   "execution_count": null,
   "metadata": {
    "id": "VvsOVfd7n-dj"
   },
   "outputs": [],
   "source": [
    "# tests the function\n",
    "assert to_lowercase('HeLlO WoRld!') == 'hello world!'"
   ]
  },
  {
   "cell_type": "code",
   "execution_count": null,
   "metadata": {
    "id": "uUsTvmvf892l"
   },
   "outputs": [],
   "source": [
    "# Apply this function to all text in the DataFrame \n"
   ]
  },
  {
   "cell_type": "code",
   "execution_count": null,
   "metadata": {
    "id": "duJLXdQ9oKzD"
   },
   "outputs": [],
   "source": [
    "# check if it worked by getting the 10 first rows in the dataframe\n"
   ]
  },
  {
   "cell_type": "code",
   "execution_count": null,
   "metadata": {
    "id": "8ZP7maCI9Fbd"
   },
   "outputs": [],
   "source": [
    "# Apply this function to the text column but only to rows\n",
    "# with a polarity of 0\n"
   ]
  },
  {
   "cell_type": "code",
   "execution_count": null,
   "metadata": {},
   "outputs": [],
   "source": [
    "# Get the values of the polarity column as a single numpy vector"
   ]
  },
  {
   "cell_type": "code",
   "execution_count": null,
   "metadata": {
    "id": "UiBpMQKm9maO"
   },
   "outputs": [],
   "source": [
    "# Advanced: count the number of words of the text column and write them in a new\n",
    "# column called wordcount\n"
   ]
  },
  {
   "cell_type": "markdown",
   "metadata": {
    "id": "LmByOUiM5uEi"
   },
   "source": [
    "# PyTorch\n",
    "https://pytorch.org/"
   ]
  },
  {
   "cell_type": "code",
   "execution_count": null,
   "metadata": {
    "id": "-ZaSs4-5Ru-c"
   },
   "outputs": [],
   "source": [
    "# import torch and numpy library\n",
    "import torch\n",
    "import numpy as np"
   ]
  },
  {
   "cell_type": "code",
   "execution_count": null,
   "metadata": {
    "colab": {
     "base_uri": "https://localhost:8080/"
    },
    "id": "ITZ46PUDryl4",
    "outputId": "35387d9d-b737-4ac7-b90b-2382ca88417a"
   },
   "outputs": [],
   "source": [
    "!nvidia-smi"
   ]
  },
  {
   "cell_type": "markdown",
   "metadata": {
    "id": "UrhHj4TRzdQi"
   },
   "source": [
    "**What is a tensor?**\n",
    "![Tensor](https://tensorflownet.readthedocs.io/en/latest/_static/tensor-naming.png)\n",
    "\n",
    "We can also say that:\n",
    "* a scalar is a 0D Tensor\n",
    "* a vector is a 1D Tensor\n",
    "* a matrix is a 2D Tensor\n",
    "* a ?????? is a 3D Tensor\n"
   ]
  },
  {
   "cell_type": "code",
   "execution_count": null,
   "metadata": {
    "colab": {
     "base_uri": "https://localhost:8080/"
    },
    "id": "JeMR6aT7zmO-",
    "outputId": "3b3c1986-edc1-49be-e2c2-7c12b06fd3e6"
   },
   "outputs": [],
   "source": [
    "# create data (list of lists)\n",
    "data = [[1,2,3], [4,5,6]];data"
   ]
  },
  {
   "cell_type": "code",
   "execution_count": null,
   "metadata": {
    "colab": {
     "base_uri": "https://localhost:8080/"
    },
    "id": "7z47FySjOarU",
    "outputId": "897ae851-5c58-4ab5-dd1f-152d7c779185"
   },
   "outputs": [],
   "source": [
    "#type(data)\n",
    "type(data)"
   ]
  },
  {
   "cell_type": "code",
   "execution_count": null,
   "metadata": {
    "colab": {
     "base_uri": "https://localhost:8080/"
    },
    "id": "TeJjpb2Azs-E",
    "outputId": "be55abbb-9ce2-439e-ca37-bcb9bee3d181"
   },
   "outputs": [],
   "source": [
    "# create numpy array from data\n",
    "np.array(data)"
   ]
  },
  {
   "cell_type": "code",
   "execution_count": null,
   "metadata": {
    "colab": {
     "base_uri": "https://localhost:8080/"
    },
    "id": "w5PQK9Dzpx4t",
    "outputId": "7fd7398a-1a4d-402f-f911-1024c0d0910a"
   },
   "outputs": [],
   "source": [
    "type(np.array(data))"
   ]
  },
  {
   "cell_type": "code",
   "execution_count": null,
   "metadata": {
    "colab": {
     "base_uri": "https://localhost:8080/"
    },
    "id": "gsWbU-wwIYE3",
    "outputId": "46f5196a-a066-4cf4-923b-a588e700b1b0"
   },
   "outputs": [],
   "source": [
    "# create pytorch tensor from data and save it in a variable called tensor\n",
    "tensor = torch.tensor(data); tensor"
   ]
  },
  {
   "cell_type": "code",
   "execution_count": null,
   "metadata": {
    "colab": {
     "base_uri": "https://localhost:8080/"
    },
    "id": "OT6OwVXoOuD-",
    "outputId": "673b70b1-811e-4264-f935-060427936782"
   },
   "outputs": [],
   "source": [
    "#type of tensor\n",
    "type(tensor)"
   ]
  },
  {
   "cell_type": "code",
   "execution_count": null,
   "metadata": {
    "colab": {
     "base_uri": "https://localhost:8080/"
    },
    "id": "7P0UsNhTPQ7_",
    "outputId": "b2566265-17f7-4d17-ed2a-df827e413bb3"
   },
   "outputs": [],
   "source": [
    "#dtype of the tensor\n",
    "tensor.dtype"
   ]
  },
  {
   "cell_type": "code",
   "execution_count": null,
   "metadata": {
    "colab": {
     "base_uri": "https://localhost:8080/"
    },
    "id": "P7bAkrhdRSFy",
    "outputId": "376de0fc-0395-46dc-f110-1a29ebe38df3"
   },
   "outputs": [],
   "source": [
    "# create random numpy array with shape(3,4)\n",
    "numpy_array = np.random.randn(3,4); numpy_array"
   ]
  },
  {
   "cell_type": "code",
   "execution_count": null,
   "metadata": {
    "colab": {
     "base_uri": "https://localhost:8080/"
    },
    "id": "VVszKyP0PV3W",
    "outputId": "9d43a929-043c-47da-ce0d-074dd5d13f70"
   },
   "outputs": [],
   "source": [
    "# create pytorch tensor from numpy array\n",
    "torch.from_numpy(numpy_array)"
   ]
  },
  {
   "cell_type": "code",
   "execution_count": null,
   "metadata": {
    "colab": {
     "base_uri": "https://localhost:8080/"
    },
    "id": "lJWp_swZqFWt",
    "outputId": "20c2c6fc-375e-4a8e-eb5e-3b9e6362ad50"
   },
   "outputs": [],
   "source": [
    "torch.tensor(numpy_array)"
   ]
  },
  {
   "cell_type": "markdown",
   "metadata": {
    "id": "r4FSTOS9KWzS"
   },
   "source": [
    "The PyTorch syntax is very similar to the numpy syntax"
   ]
  },
  {
   "cell_type": "code",
   "execution_count": null,
   "metadata": {
    "colab": {
     "base_uri": "https://localhost:8080/"
    },
    "id": "0iqWN1kyZ2mB",
    "outputId": "574b9125-65fc-4238-cc53-59fe214aa2d4"
   },
   "outputs": [],
   "source": [
    "# create random tensor my_tensor with shape (4,3)\n",
    "np.random.randn(3,4)\n",
    "torch.randn(3,4)"
   ]
  },
  {
   "cell_type": "code",
   "execution_count": null,
   "metadata": {
    "colab": {
     "base_uri": "https://localhost:8080/"
    },
    "id": "lTtEAyFsWrMR",
    "outputId": "94417939-86d3-4158-dd15-0e923a190395"
   },
   "outputs": [],
   "source": [
    "# take a look at the tensor\n",
    "tensor"
   ]
  },
  {
   "cell_type": "code",
   "execution_count": null,
   "metadata": {
    "colab": {
     "base_uri": "https://localhost:8080/"
    },
    "id": "grGCDJuERujA",
    "outputId": "c4d9e587-bb9d-4cad-9164-1f35be40f3e4"
   },
   "outputs": [],
   "source": [
    "# get the shape of the tensor\n",
    "tensor.shape"
   ]
  },
  {
   "cell_type": "code",
   "execution_count": null,
   "metadata": {
    "colab": {
     "base_uri": "https://localhost:8080/"
    },
    "id": "Z6sFR5RCWY_a",
    "outputId": "e5aa1755-1a95-479f-f71c-8783debe3cdb"
   },
   "outputs": [],
   "source": [
    "# get the maximum value of tensor\n",
    "tensor.max()"
   ]
  },
  {
   "cell_type": "code",
   "execution_count": null,
   "metadata": {
    "colab": {
     "base_uri": "https://localhost:8080/"
    },
    "id": "mxY480wYWbnM",
    "outputId": "5312ffbc-8284-4f0a-fe5e-34421b076c7b"
   },
   "outputs": [],
   "source": [
    "# get the minimum value of the tensor\n",
    "tensor.min()"
   ]
  },
  {
   "cell_type": "code",
   "execution_count": null,
   "metadata": {
    "colab": {
     "base_uri": "https://localhost:8080/"
    },
    "id": "r3ly73m6qcGW",
    "outputId": "3aa994dc-bef6-4861-e119-591fc4fd11fe"
   },
   "outputs": [],
   "source": [
    "tensor.max(axis=0)"
   ]
  },
  {
   "cell_type": "code",
   "execution_count": null,
   "metadata": {
    "colab": {
     "base_uri": "https://localhost:8080/"
    },
    "id": "sJS2sfCJWd-e",
    "outputId": "2570c846-336d-4934-ee81-12220eb2343a"
   },
   "outputs": [],
   "source": [
    "# get the sum of the tensor\n",
    "tensor.sum()"
   ]
  },
  {
   "cell_type": "code",
   "execution_count": null,
   "metadata": {
    "colab": {
     "base_uri": "https://localhost:8080/"
    },
    "id": "LlVAdEddWw9a",
    "outputId": "653acff8-dfe9-460c-a0c1-3c06fe598d48"
   },
   "outputs": [],
   "source": [
    "# get the sum of the rows\n",
    "tensor.sum(axis=0)"
   ]
  },
  {
   "cell_type": "code",
   "execution_count": null,
   "metadata": {
    "colab": {
     "base_uri": "https://localhost:8080/"
    },
    "id": "aIXAqrSyWmj8",
    "outputId": "4ac72f1b-78bb-42ec-c37e-379c22b8479a"
   },
   "outputs": [],
   "source": [
    "# get the sum of the columns\n",
    "tensor.sum(axis=1)"
   ]
  },
  {
   "cell_type": "code",
   "execution_count": null,
   "metadata": {
    "colab": {
     "base_uri": "https://localhost:8080/"
    },
    "id": "uQmmL2xxXlWK",
    "outputId": "932a8c4a-f136-4589-8e5b-b57945ee89da"
   },
   "outputs": [],
   "source": [
    "# elemnt-wise multiplication\n",
    "tensor * tensor"
   ]
  },
  {
   "cell_type": "code",
   "execution_count": null,
   "metadata": {
    "colab": {
     "base_uri": "https://localhost:8080/"
    },
    "id": "lIEFgGdDXp9T",
    "outputId": "16d452b5-d895-4463-a1a7-ef554157d132"
   },
   "outputs": [],
   "source": [
    "# matrix mutliplication\n",
    "tensor @ tensor.T"
   ]
  },
  {
   "cell_type": "code",
   "execution_count": null,
   "metadata": {
    "colab": {
     "base_uri": "https://localhost:8080/"
    },
    "id": "pzcOh6REYG1f",
    "outputId": "c148afc8-9477-49c8-ab4e-be03ff6266ec"
   },
   "outputs": [],
   "source": [
    "# concatenate tensors along different axis\n",
    "torch.cat([tensor, tensor], axis=1)"
   ]
  },
  {
   "cell_type": "code",
   "execution_count": null,
   "metadata": {
    "colab": {
     "base_uri": "https://localhost:8080/"
    },
    "id": "cEcqKGlgZjTY",
    "outputId": "491f1ed4-2f0b-424e-a31a-5d92b7a10f48"
   },
   "outputs": [],
   "source": [
    "# apply function to tensor\n",
    "tensor.log()"
   ]
  },
  {
   "cell_type": "markdown",
   "metadata": {
    "id": "k4Fovr4D-vpD"
   },
   "source": [
    "**If PyTorch is so similar to numpy, then why use PyTorch at all?**"
   ]
  },
  {
   "cell_type": "code",
   "execution_count": null,
   "metadata": {
    "colab": {
     "base_uri": "https://localhost:8080/"
    },
    "id": "FmNFUAr2vTZO",
    "outputId": "962f9490-2b58-4e1e-ca23-24d8b4954c36"
   },
   "outputs": [],
   "source": [
    "# check device of the tensor\n",
    "tensor.device"
   ]
  },
  {
   "cell_type": "code",
   "execution_count": null,
   "metadata": {
    "colab": {
     "base_uri": "https://localhost:8080/"
    },
    "id": "KDlEbVWE-3N9",
    "outputId": "a039d640-d5db-41ee-8430-7c8164e295d4"
   },
   "outputs": [],
   "source": [
    "# move tensor to cpu\n",
    "tensor.to('cpu')"
   ]
  },
  {
   "cell_type": "code",
   "execution_count": null,
   "metadata": {
    "id": "vO5vTg3f_lj5"
   },
   "outputs": [],
   "source": [
    "# move tensor to gpu\n",
    "tensor_gpu = tensor.to(\"cuda\")"
   ]
  },
  {
   "cell_type": "code",
   "execution_count": null,
   "metadata": {
    "colab": {
     "base_uri": "https://localhost:8080/"
    },
    "id": "0zUJwHVPsCup",
    "outputId": "13e81eb2-e6e5-4347-e0fb-1ddb531fad29"
   },
   "outputs": [],
   "source": [
    "tensor_gpu.device"
   ]
  },
  {
   "cell_type": "code",
   "execution_count": null,
   "metadata": {
    "id": "RGd2fdxS_rVv"
   },
   "outputs": [],
   "source": [
    "# .to(device) is no inplace operation. You have to overwrite the variable\n"
   ]
  },
  {
   "cell_type": "markdown",
   "metadata": {
    "id": "bJDwGqCr5lbf"
   },
   "source": [
    "## Matrix Multiplication\n",
    "http://matrixmultiplication.xyz/"
   ]
  },
  {
   "cell_type": "markdown",
   "metadata": {},
   "source": [
    "![Matrix Multiplication](https://miro.medium.com/v2/resize:fit:2000/1*HjcZkViYtPKg-Wm2o7DFDg.png)"
   ]
  },
  {
   "cell_type": "markdown",
   "metadata": {
    "id": "SB6ii9ZXRhj5"
   },
   "source": [
    "### Implementation with for loops"
   ]
  },
  {
   "cell_type": "code",
   "execution_count": null,
   "metadata": {
    "colab": {
     "base_uri": "https://localhost:8080/"
    },
    "id": "Qi6LaOQIswbm",
    "outputId": "112f27b4-0203-4753-cdb1-855b4c9283b9"
   },
   "outputs": [],
   "source": [
    "result"
   ]
  },
  {
   "cell_type": "code",
   "execution_count": null,
   "metadata": {
    "colab": {
     "base_uri": "https://localhost:8080/"
    },
    "id": "yNxvzS0CUKCR",
    "outputId": "4852bda9-d754-4750-8410-9b97970cfbdd"
   },
   "outputs": [],
   "source": [
    "%%time\n",
    "X = np.random.randn(1500,1500)\n",
    "Y = np.random.randn(1500,1500)\n",
    "result = np.zeros((1500,1500))"
   ]
  },
  {
   "cell_type": "code",
   "execution_count": null,
   "metadata": {
    "colab": {
     "base_uri": "https://localhost:8080/"
    },
    "id": "3HqsIFFVRdmg",
    "outputId": "1a7a4f8f-39e6-48d9-8e26-809c32e1373b"
   },
   "outputs": [],
   "source": [
    "%%time\n",
    "# iterate through rows of X\n",
    "for i in range(len(X)):\n",
    "   # iterate through columns of Y\n",
    "   for j in range(len(Y[0])):\n",
    "       # iterate through rows of Y\n",
    "       for k in range(len(Y)):\n",
    "           result[i][j] += X[i][k] * Y[k][j]"
   ]
  },
  {
   "cell_type": "markdown",
   "metadata": {
    "id": "Bi_6sVAETnMk"
   },
   "source": [
    "### Numpy Implementation"
   ]
  },
  {
   "cell_type": "code",
   "execution_count": null,
   "metadata": {
    "colab": {
     "base_uri": "https://localhost:8080/"
    },
    "id": "uPrrYAUbTrv7",
    "outputId": "5acd4692-958b-42f9-9fc2-a18826e0c5b2"
   },
   "outputs": [],
   "source": [
    "# check runtime of mutliplication with numpy\n",
    "%%time\n",
    "result = X @ Y"
   ]
  },
  {
   "cell_type": "markdown",
   "metadata": {
    "id": "mjbyF72hT3bK"
   },
   "source": [
    "### PyTorch Implementation"
   ]
  },
  {
   "cell_type": "code",
   "execution_count": null,
   "metadata": {
    "id": "ETwI0ajOTbWK"
   },
   "outputs": [],
   "source": [
    "# Convert numpy arrays to torch tensor\n",
    "X = torch.from_numpy(X)\n",
    "Y = torch.from_numpy(Y)"
   ]
  },
  {
   "cell_type": "code",
   "execution_count": null,
   "metadata": {
    "colab": {
     "base_uri": "https://localhost:8080/"
    },
    "id": "qcsbCxXqSoWY",
    "outputId": "841c6fc4-08c4-44a8-fa3a-6153b9e2244b"
   },
   "outputs": [],
   "source": [
    "# check runtime of matrix multiplication\n",
    "%%time\n",
    "result = X @ Y"
   ]
  },
  {
   "cell_type": "markdown",
   "metadata": {
    "id": "f0v-7W17UCTO"
   },
   "source": [
    "### PyTorch with Cuda Implementation"
   ]
  },
  {
   "cell_type": "code",
   "execution_count": null,
   "metadata": {
    "id": "oXqhSxhbS7YS"
   },
   "outputs": [],
   "source": [
    "# put tensors on gpu\n",
    "X = X.cuda()\n",
    "Y = Y.cuda()"
   ]
  },
  {
   "cell_type": "code",
   "execution_count": null,
   "metadata": {
    "colab": {
     "base_uri": "https://localhost:8080/"
    },
    "id": "U4asWLw50ryE",
    "outputId": "c79db063-5312-4290-d273-b788e4527a4f"
   },
   "outputs": [],
   "source": [
    "# check if tensors are on gpu\n",
    "X.device"
   ]
  },
  {
   "cell_type": "code",
   "execution_count": null,
   "metadata": {
    "colab": {
     "base_uri": "https://localhost:8080/"
    },
    "id": "doUwDomFTXEX",
    "outputId": "2f70ff9a-dea1-4382-e6af-08ec66521399"
   },
   "outputs": [],
   "source": [
    "# check runtime of matrix multiplication\n",
    "%%time\n",
    "result = X @ Y"
   ]
  },
  {
   "cell_type": "markdown",
   "metadata": {
    "id": "dd3Qt2V65ldx"
   },
   "source": [
    "## Autograd"
   ]
  },
  {
   "cell_type": "code",
   "execution_count": null,
   "metadata": {
    "id": "Eiwz2vZYbhBT"
   },
   "outputs": [],
   "source": [
    "# import torch\n",
    "import torch"
   ]
  },
  {
   "cell_type": "code",
   "execution_count": null,
   "metadata": {
    "id": "sEv8vw76buOn"
   },
   "outputs": [],
   "source": [
    "# create tensor a and b with value of 5\n",
    "a = torch.tensor([5.], requires_grad=True)\n",
    "b = torch.tensor([5.], requires_grad=True)"
   ]
  },
  {
   "cell_type": "markdown",
   "metadata": {
    "id": "XZVDIduMAAis"
   },
   "source": [
    "$y = a^3 - b^2$"
   ]
  },
  {
   "cell_type": "code",
   "execution_count": null,
   "metadata": {
    "id": "1hdHaO41yWYc"
   },
   "outputs": [],
   "source": [
    "# a ** 3  -> 3 a**2\n",
    "# - b ** 2 -> - 2b"
   ]
  },
  {
   "cell_type": "code",
   "execution_count": null,
   "metadata": {
    "id": "nKzW7DSOb2eC"
   },
   "outputs": [],
   "source": [
    "# define the above function\n",
    "y = a ** 3 - b ** 2"
   ]
  },
  {
   "cell_type": "code",
   "execution_count": null,
   "metadata": {
    "id": "s_RnwpAab9qn"
   },
   "outputs": [],
   "source": [
    "# print value of y\n",
    "y"
   ]
  },
  {
   "cell_type": "code",
   "execution_count": null,
   "metadata": {
    "id": "r8mPhZhecOS9"
   },
   "outputs": [],
   "source": [
    "# check gradient of a\n",
    "a.grad"
   ]
  },
  {
   "cell_type": "code",
   "execution_count": null,
   "metadata": {
    "id": "Yd822AFydlrf"
   },
   "outputs": [],
   "source": [
    "# check gradient of b\n",
    "b.grad"
   ]
  },
  {
   "cell_type": "code",
   "execution_count": null,
   "metadata": {
    "id": "BE4TkRPHdniZ"
   },
   "outputs": [],
   "source": [
    "# calculate gradients\n",
    "y.backward()"
   ]
  },
  {
   "cell_type": "code",
   "execution_count": null,
   "metadata": {
    "colab": {
     "base_uri": "https://localhost:8080/"
    },
    "id": "QDuMS1ZeAaK2",
    "outputId": "15ba47dc-d06d-49ff-a1ed-5d97b0db7eaf"
   },
   "outputs": [],
   "source": [
    "# check gradient of a again\n",
    "a.grad"
   ]
  },
  {
   "cell_type": "code",
   "execution_count": null,
   "metadata": {
    "colab": {
     "base_uri": "https://localhost:8080/"
    },
    "id": "uJ-rFKxcAhBz",
    "outputId": "db011357-8060-4274-f340-5dc0794dd0a7"
   },
   "outputs": [],
   "source": [
    "# check gradient of b\n",
    "b.grad"
   ]
  },
  {
   "cell_type": "markdown",
   "metadata": {
    "id": "rgGaIF7B5lgA"
   },
   "source": [
    "## Datasets\n",
    "Check out the [documentation](https://pytorch.org/docs/stable/data.html#torch.utils.data.Dataset) of the Dataset class."
   ]
  },
  {
   "cell_type": "code",
   "execution_count": null,
   "metadata": {
    "id": "OqXs1Jaczxws"
   },
   "outputs": [],
   "source": [
    "import numpy as np"
   ]
  },
  {
   "cell_type": "code",
   "execution_count": null,
   "metadata": {
    "id": "LlwDh-40e4FI"
   },
   "outputs": [],
   "source": [
    "# generate a dummy dataset\n",
    "data_train = np.random.randn(10000, 200)\n",
    "data_test = np.random.randn(2000, 200)"
   ]
  },
  {
   "cell_type": "code",
   "execution_count": null,
   "metadata": {
    "id": "UhscFiVK1cDZ"
   },
   "outputs": [],
   "source": []
  },
  {
   "cell_type": "code",
   "execution_count": null,
   "metadata": {
    "id": "TKUpAierz0zq"
   },
   "outputs": [],
   "source": [
    "# generate random dummy labels between 0 and 9\n",
    "\n",
    "labels_train = np.random.randint(0,9, 10000)\n",
    "labels_test = np.random.randint(0,9,2000)"
   ]
  },
  {
   "cell_type": "code",
   "execution_count": null,
   "metadata": {
    "colab": {
     "base_uri": "https://localhost:8080/"
    },
    "id": "3nrvi57S1i5z",
    "outputId": "9814639c-e77a-4267-c9e3-5765b884dd3c"
   },
   "outputs": [],
   "source": [
    "len(labels_train)"
   ]
  },
  {
   "cell_type": "code",
   "execution_count": null,
   "metadata": {
    "id": "cA-aDGvFj7lF"
   },
   "outputs": [],
   "source": [
    "# import the Dataset class from torch\n",
    "# torch.utils.data.Dataset\n",
    "from torch.utils.data import Dataset\n",
    "import torch"
   ]
  },
  {
   "cell_type": "code",
   "execution_count": null,
   "metadata": {
    "id": "q6sgo4DQkFPv"
   },
   "outputs": [],
   "source": [
    "# check Dataset implementation ??\n",
    "Dataset??"
   ]
  },
  {
   "cell_type": "markdown",
   "metadata": {
    "id": "xt6Hn6AukaiH"
   },
   "source": [
    "The Dataset class is an abstract class representing a Dataset. It expects us to implement three functions:\n",
    "* `__init__` the constructor of your dataset class, that is called when the dataset is instantiated\n",
    "* `__len__` that returns the amount of training points in our training data\n",
    "* `__getitem__` that takes an index as input and returns the corresponding data and label"
   ]
  },
  {
   "cell_type": "code",
   "execution_count": null,
   "metadata": {
    "id": "OmahswaCkTup"
   },
   "outputs": [],
   "source": [
    "# Create DummyDataset class\n",
    "class DummyDataset(Dataset):\n",
    "\n",
    "  def __init__(self, data, labels):\n",
    "    self.data = data\n",
    "    self.labels = labels\n",
    "\n",
    "  def __len__(self):\n",
    "    return len(self.labels)\n",
    "\n",
    "  def __getitem__(self, index):\n",
    "    output_data = self.data[index]\n",
    "    output_label = self.labels[index]\n",
    "\n",
    "    output_data = torch.tensor(output_data)\n",
    "    output_label = torch.tensor(output_label)\n",
    "\n",
    "    return (output_data, output_label)\n",
    "\n"
   ]
  },
  {
   "cell_type": "code",
   "execution_count": null,
   "metadata": {
    "id": "nvFPmILnyT9B"
   },
   "outputs": [],
   "source": [
    "# instantiate training dataset\n",
    "train_ds = DummyDataset(data_train, labels_train)"
   ]
  },
  {
   "cell_type": "code",
   "execution_count": null,
   "metadata": {
    "colab": {
     "base_uri": "https://localhost:8080/"
    },
    "id": "H55h7V8PyoSC",
    "outputId": "83e846a9-baf7-46b6-9726-fc9cbb62a511"
   },
   "outputs": [],
   "source": [
    "# get number of training examples\n",
    "len(train_ds)"
   ]
  },
  {
   "cell_type": "code",
   "execution_count": null,
   "metadata": {
    "id": "lwBRhEOly0II"
   },
   "outputs": [],
   "source": [
    "# get 10th training example\n",
    "train_ds[10:15]"
   ]
  },
  {
   "cell_type": "code",
   "execution_count": null,
   "metadata": {
    "colab": {
     "base_uri": "https://localhost:8080/"
    },
    "id": "qYiTlLXP0CzO",
    "outputId": "3f0cb56b-c029-43d6-df51-1e38c4d00f1d"
   },
   "outputs": [],
   "source": [
    "# get first eight training examples\n",
    "train_ds[0:8]"
   ]
  },
  {
   "cell_type": "code",
   "execution_count": null,
   "metadata": {
    "id": "62_RUzwDyYXJ"
   },
   "outputs": [],
   "source": [
    "# instantiate test dataset\n",
    "test_ds = DummyDataset(data_test, labels_test)"
   ]
  },
  {
   "cell_type": "markdown",
   "metadata": {
    "id": "00keDDVf57PB"
   },
   "source": [
    "## DataLoaders\n",
    "Check out the [documentation](https://pytorch.org/docs/stable/data) for more information about the DataLoader."
   ]
  },
  {
   "cell_type": "code",
   "execution_count": null,
   "metadata": {
    "id": "V6QHgpeQIO9z"
   },
   "outputs": [],
   "source": [
    "# import DataLoader\n",
    "from torch.utils.data import DataLoader"
   ]
  },
  {
   "cell_type": "code",
   "execution_count": null,
   "metadata": {
    "id": "ykgBaDQYISpm"
   },
   "outputs": [],
   "source": [
    "# create a DataLoader with a batch-size of 8 and don't forget to shuffle it.\n",
    "train_dl = DataLoader(train_ds, 16, shuffle=True)"
   ]
  },
  {
   "cell_type": "code",
   "execution_count": null,
   "metadata": {
    "colab": {
     "base_uri": "https://localhost:8080/"
    },
    "id": "7Gq_RvHpyU5p",
    "outputId": "be2f6115-6746-4c28-d0ba-5b528ea3c1be"
   },
   "outputs": [],
   "source": [
    "for x,y in train_dl:\n",
    "  print(x,y)\n",
    "  break"
   ]
  },
  {
   "cell_type": "markdown",
   "metadata": {},
   "source": [
    "Checking if GPU is available."
   ]
  },
  {
   "cell_type": "code",
   "execution_count": null,
   "metadata": {},
   "outputs": [],
   "source": [
    "import torch"
   ]
  },
  {
   "cell_type": "code",
   "execution_count": null,
   "metadata": {
    "colab": {
     "base_uri": "https://localhost:8080/"
    },
    "id": "VCx8n3bS0TZr",
    "outputId": "f6587354-b75b-4eba-81da-9cb8061552c3"
   },
   "outputs": [],
   "source": [
    "torch.cuda.is_available()"
   ]
  },
  {
   "cell_type": "code",
   "execution_count": null,
   "metadata": {
    "id": "X22GVuWr0ULJ"
   },
   "outputs": [],
   "source": [
    "gpu = torch.cuda.is_available()\n",
    "\n",
    "if gpu:\n",
    "  return torch.tensor(5).cuda()\n",
    "else:\n",
    "  return torch.tensor(5)"
   ]
  }
 ],
 "metadata": {
  "colab": {
   "provenance": []
  },
  "kernelspec": {
   "display_name": "Python 3",
   "name": "python3"
  },
  "language_info": {
   "codemirror_mode": {
    "name": "ipython",
    "version": 3
   },
   "file_extension": ".py",
   "mimetype": "text/x-python",
   "name": "python",
   "nbconvert_exporter": "python",
   "pygments_lexer": "ipython3",
   "version": "3.11.4"
  }
 },
 "nbformat": 4,
 "nbformat_minor": 0
}
